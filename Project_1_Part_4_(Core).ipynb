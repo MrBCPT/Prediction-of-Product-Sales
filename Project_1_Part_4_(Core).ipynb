{
  "nbformat": 4,
  "nbformat_minor": 0,
  "metadata": {
    "colab": {
      "provenance": [],
      "toc_visible": true,
      "include_colab_link": true
    },
    "kernelspec": {
      "name": "python3",
      "display_name": "Python 3"
    },
    "language_info": {
      "name": "python"
    }
  },
  "cells": [
    {
      "cell_type": "markdown",
      "metadata": {
        "id": "view-in-github",
        "colab_type": "text"
      },
      "source": [
        "<a href=\"https://colab.research.google.com/github/MrBCPT/Prediction-of-Product-Sales/blob/main/Project_1_Part_4_(Core).ipynb\" target=\"_parent\"><img src=\"https://colab.research.google.com/assets/colab-badge.svg\" alt=\"Open In Colab\"/></a>"
      ]
    },
    {
      "cell_type": "markdown",
      "source": [
        "#Project 1 - Part 4 (Core)"
      ],
      "metadata": {
        "id": "QdqQelBwdHk8"
      }
    },
    {
      "cell_type": "markdown",
      "source": [
        "- Student Name: Satish Byrow\n"
      ],
      "metadata": {
        "id": "x8WtghsfgdUK"
      }
    },
    {
      "cell_type": "markdown",
      "source": [
        "### Univariate EDA Functions"
      ],
      "metadata": {
        "id": "lsng7tQxelhG"
      }
    },
    {
      "cell_type": "code",
      "source": [
        "# Basic imports for functions\n",
        "import matplotlib.pyplot as plt\n",
        "import seaborn as sns\n",
        "\n",
        "# UNIVARIATE PLOTTING FUNCTIONS FOR EDA\n",
        "def explore_categorical(df, x, fillna = True, placeholder = 'MISSING',\n",
        "                        figsize = (6,4), order = None):\n",
        "  \"\"\"Creates a seaborn countplot with the option to temporarily fill missing values\n",
        "  Prints statements about null values, cardinality, and checks for\n",
        "  constant/quasi-constant features.\n",
        "  Source:{PASTE IN FINAL LESSON LINK}\n",
        "  \"\"\"\n",
        "  # Make a copy of the dataframe and fillna\n",
        "  temp_df = df.copy()\n",
        "  # Before filling nulls, save null value counts and percent for printing\n",
        "  null_count = temp_df[x].isna().sum()\n",
        "  null_perc = null_count/len(temp_df)* 100\n",
        "  # fillna with placeholder\n",
        "  if fillna == True:\n",
        "    temp_df[x] = temp_df[x].fillna(placeholder)\n",
        "  # Create figure with desired figsize\n",
        "  fig, ax = plt.subplots(figsize=figsize)\n",
        "  # Plotting a count plot\n",
        "  sns.countplot(data=temp_df, x=x, ax=ax, order=order)\n",
        "  # Rotate Tick Labels for long names\n",
        "  ax.set_xticklabels(ax.get_xticklabels(), rotation=45, ha='right')\n",
        "  # Add a title with the feature name included\n",
        "  ax.set_title(f\"Column: {x}\", fontweight='bold')\n",
        "\n",
        "  # Fix layout and show plot (before print statements)\n",
        "  fig.tight_layout()\n",
        "  plt.show()\n",
        "\n",
        "  # Print null value info\n",
        "  print(f\"- NaN's Found: {null_count} ({round(null_perc,2)}%)\")\n",
        "  # Print cardinality info\n",
        "  nunique = temp_df[x].nunique()\n",
        "  print(f\"- Unique Values: {nunique}\")\n",
        "\n",
        "  # First find value counts of feature\n",
        "  val_counts = temp_df[x].value_counts(dropna=False)\n",
        "  # Define the most common value\n",
        "  most_common_val = val_counts.index[0]\n",
        "  # Define the frequency of the most common value\n",
        "  freq = val_counts.values[0]\n",
        "  # Calculate the percentage of the most common value\n",
        "  perc_most_common = freq / len(temp_df) * 100\n",
        "\n",
        "  # Print the results\n",
        "  print(f\"- Most common value: '{most_common_val}' occurs {freq} times ({round(perc_most_common,2)}%)\")\n",
        "  # print message if quasi-constant or constant (most common val more than 98% of data)\n",
        "  if perc_most_common > 98:\n",
        "    print(f\"\\n- [!] Warning: '{x}' is a constant or quasi-constant feature and should be dropped.\")\n",
        "  else:\n",
        "    print(\"- Not constant or quasi-constant.\")\n",
        "  return fig, ax\n",
        "\n",
        "\n",
        "def explore_numeric(df, x, figsize=(6,5) ):\n",
        "  \"\"\"Creates a seaborn histplot and boxplot with a share x-axis,\n",
        "  Prints statements about null values, cardinality, and checks for\n",
        "  constant/quasi-constant features.\n",
        "  Source:{PASTE IN FINAL LESSON LINK}\n",
        "  \"\"\"\n",
        "\n",
        "  ## Save null value counts and percent for printing\n",
        "  null_count = df[x].isna().sum()\n",
        "  null_perc = null_count/len(df)* 100\n",
        "\n",
        "\n",
        "  ## Making our figure with gridspec for subplots\n",
        "  gridspec = {'height_ratios':[0.7,0.3]}\n",
        "  fig, axes = plt.subplots(nrows=2, figsize=figsize,\n",
        "                           sharex=True, gridspec_kw=gridspec)\n",
        "  # Histogram on Top\n",
        "  sns.histplot(data=df, x=x, ax=axes[0])\n",
        "\n",
        "  # Boxplot on Bottom\n",
        "  sns.boxplot(data=df, x=x, ax=axes[1])\n",
        "\n",
        "  ## Adding a title\n",
        "  axes[0].set_title(f\"Column: {x}\", fontweight='bold')\n",
        "\n",
        "  ## Adjusting subplots to best fill Figure\n",
        "  fig.tight_layout()\n",
        "\n",
        "  # Ensure plot is shown before message\n",
        "  plt.show()\n",
        "\n",
        "\n",
        "  # Print null value info\n",
        "  print(f\"- NaN's Found: {null_count} ({round(null_perc,2)}%)\")\n",
        "  # Print cardinality info\n",
        "  nunique = df[x].nunique()\n",
        "  print(f\"- Unique Values: {nunique}\")\n",
        "\n",
        "\n",
        "  # Get the most most common value, its count as # and as %\n",
        "  most_common_val_count = df[x].value_counts(dropna=False).head(1)\n",
        "  most_common_val = most_common_val_count.index[0]\n",
        "  freq = most_common_val_count.values[0]\n",
        "  perc_most_common = freq / len(df) * 100\n",
        "\n",
        "  print(f\"- Most common value: '{most_common_val}' occurs {freq} times ({round(perc_most_common,2)}%)\")\n",
        "\n",
        "  # print message if quasi-constant or constant (most common val more than 98% of data)\n",
        "  if perc_most_common > 98:\n",
        "    print(f\"\\n- [!] Warning: '{x}' is a constant or quasi-constant feature and should be dropped.\")\n",
        "  else:\n",
        "    print(\"- Not constant or quasi-constant.\")\n",
        "  return fig, axes\n"
      ],
      "metadata": {
        "id": "MpERWZ3we2ny"
      },
      "execution_count": 96,
      "outputs": []
    },
    {
      "cell_type": "markdown",
      "source": [
        "### Multivariate Feature vs. Target Functions."
      ],
      "metadata": {
        "id": "J9y4NiACesSa"
      }
    },
    {
      "cell_type": "code",
      "source": [
        "\"\"\"MULTIVARIATE PLOTTING FUNCTIONS VS. NUMERIC TARGET\"\"\"\n",
        "\n",
        "def plot_categorical_vs_target(df, x, y='charges',figsize=(6,4),\n",
        "                            fillna = True, placeholder = 'MISSING',\n",
        "                            order = None):\n",
        "  \"\"\"Plots a combination of a seaborn barplot of means combined with\n",
        "  a seaborn stripplot to show the spread of the data.\n",
        "  Source:{PASTE IN FINAL LESSON LINK}\n",
        "  \"\"\"\n",
        "  # Make a copy of the dataframe and fillna\n",
        "  temp_df = df.copy()\n",
        "  # fillna with placeholder\n",
        "  if fillna == True:\n",
        "    temp_df[x] = temp_df[x].fillna(placeholder)\n",
        "\n",
        "  # or drop nulls prevent unwanted 'nan' group in stripplot\n",
        "  else:\n",
        "    temp_df = temp_df.dropna(subset=[x])\n",
        "  # Create the figure and subplots\n",
        "  fig, ax = plt.subplots(figsize=figsize)\n",
        "\n",
        "    # Barplot\n",
        "  sns.barplot(data=temp_df, x=x, y=y, ax=ax, order=order, alpha=0.6,\n",
        "              linewidth=1, edgecolor='black', errorbar=None)\n",
        "\n",
        "  # Boxplot\n",
        "  sns.stripplot(data=temp_df, x=x, y=y, hue=x, ax=ax,\n",
        "                order=order, hue_order=order, legend=False,\n",
        "                edgecolor='white', linewidth=0.5,\n",
        "                size=3,zorder=0)\n",
        "  # Rotate xlabels\n",
        "  ax.set_xticklabels(ax.get_xticklabels(), rotation=45, ha='right')\n",
        "\n",
        "  # Add a title\n",
        "  ax.set_title(f\"{x} vs. {y}\", fontweight='bold')\n",
        "  fig.tight_layout()\n",
        "  return fig, ax\n",
        "\n",
        "\n",
        "def plot_numeric_vs_target(df, x, y='charges',\n",
        "                           figsize=(6,4)):\n",
        "  \"\"\"Plots a seaborn regplot with Pearson's correlation (r) added\n",
        "  to the title.\n",
        "  Source:{PASTE IN FINAL LESSON LINK}\n",
        "  \"\"\"\n",
        "  # Calculate the correlation\n",
        "  corr = df[[x,y]].corr().round(2)\n",
        "  r = corr.loc[x,y]\n",
        "\n",
        "  # Plot the data\n",
        "  fig, ax = plt.subplots(figsize=figsize)\n",
        "  scatter_kws={'ec':'white','lw':1,'alpha':0.8}\n",
        "  sns.regplot(data=df, x=x, y=y, ax=ax, scatter_kws=scatter_kws)\n",
        "\n",
        "  ## Add the title with the correlation\n",
        "  ax.set_title(f\"{x} vs. {y} (r = {r})\", fontweight='bold')\n",
        "\n",
        "  # Make sure the plot is shown before the print statement\n",
        "  plt.show()\n",
        "\n",
        "  return fig, ax"
      ],
      "metadata": {
        "id": "Oc90HYFpehRE"
      },
      "execution_count": 97,
      "outputs": []
    },
    {
      "cell_type": "markdown",
      "source": [
        "## Import Packages and Load Data"
      ],
      "metadata": {
        "id": "lLoNSpsthh8E"
      }
    },
    {
      "cell_type": "code",
      "source": [
        "# imports\n",
        "import pandas as pd\n",
        "import seaborn as sns\n",
        "import matplotlib.pyplot as plt\n",
        "import numpy as np"
      ],
      "metadata": {
        "id": "0wp_GTUng0El"
      },
      "execution_count": 98,
      "outputs": []
    },
    {
      "cell_type": "code",
      "source": [
        "## from google.colab import drive\n",
        "from google.colab import drive\n",
        "drive.mount('/content/drive')\n",
        "\n",
        "# load data\n",
        "path = \"/content/drive/MyDrive/CodingDojo/01-Fundamentals/Week02/Data/sales_predictions_2023.csv\"\n",
        "df = pd.read_csv(path)\n",
        "df.info()\n",
        "df.head()\n",
        "\n"
      ],
      "metadata": {
        "colab": {
          "base_uri": "https://localhost:8080/",
          "height": 704
        },
        "id": "3saEMazihCIg",
        "outputId": "16eccbb4-0b71-4a61-aa54-082a1d6b32b4"
      },
      "execution_count": 99,
      "outputs": [
        {
          "output_type": "stream",
          "name": "stdout",
          "text": [
            "Drive already mounted at /content/drive; to attempt to forcibly remount, call drive.mount(\"/content/drive\", force_remount=True).\n",
            "<class 'pandas.core.frame.DataFrame'>\n",
            "RangeIndex: 8523 entries, 0 to 8522\n",
            "Data columns (total 12 columns):\n",
            " #   Column                     Non-Null Count  Dtype  \n",
            "---  ------                     --------------  -----  \n",
            " 0   Item_Identifier            8523 non-null   object \n",
            " 1   Item_Weight                7060 non-null   float64\n",
            " 2   Item_Fat_Content           8523 non-null   object \n",
            " 3   Item_Visibility            8523 non-null   float64\n",
            " 4   Item_Type                  8523 non-null   object \n",
            " 5   Item_MRP                   8523 non-null   float64\n",
            " 6   Outlet_Identifier          8523 non-null   object \n",
            " 7   Outlet_Establishment_Year  8523 non-null   int64  \n",
            " 8   Outlet_Size                6113 non-null   object \n",
            " 9   Outlet_Location_Type       8523 non-null   object \n",
            " 10  Outlet_Type                8523 non-null   object \n",
            " 11  Item_Outlet_Sales          8523 non-null   float64\n",
            "dtypes: float64(4), int64(1), object(7)\n",
            "memory usage: 799.2+ KB\n"
          ]
        },
        {
          "output_type": "execute_result",
          "data": {
            "text/plain": [
              "  Item_Identifier  Item_Weight Item_Fat_Content  Item_Visibility  \\\n",
              "0           FDA15         9.30          Low Fat         0.016047   \n",
              "1           DRC01         5.92          Regular         0.019278   \n",
              "2           FDN15        17.50          Low Fat         0.016760   \n",
              "3           FDX07        19.20          Regular         0.000000   \n",
              "4           NCD19         8.93          Low Fat         0.000000   \n",
              "\n",
              "               Item_Type  Item_MRP Outlet_Identifier  \\\n",
              "0                  Dairy  249.8092            OUT049   \n",
              "1            Soft Drinks   48.2692            OUT018   \n",
              "2                   Meat  141.6180            OUT049   \n",
              "3  Fruits and Vegetables  182.0950            OUT010   \n",
              "4              Household   53.8614            OUT013   \n",
              "\n",
              "   Outlet_Establishment_Year Outlet_Size Outlet_Location_Type  \\\n",
              "0                       1999      Medium               Tier 1   \n",
              "1                       2009      Medium               Tier 3   \n",
              "2                       1999      Medium               Tier 1   \n",
              "3                       1998         NaN               Tier 3   \n",
              "4                       1987        High               Tier 3   \n",
              "\n",
              "         Outlet_Type  Item_Outlet_Sales  \n",
              "0  Supermarket Type1          3735.1380  \n",
              "1  Supermarket Type2           443.4228  \n",
              "2  Supermarket Type1          2097.2700  \n",
              "3      Grocery Store           732.3800  \n",
              "4  Supermarket Type1           994.7052  "
            ],
            "text/html": [
              "\n",
              "\n",
              "  <div id=\"df-9cdd1488-8fee-4442-b034-60125493b633\">\n",
              "    <div class=\"colab-df-container\">\n",
              "      <div>\n",
              "<style scoped>\n",
              "    .dataframe tbody tr th:only-of-type {\n",
              "        vertical-align: middle;\n",
              "    }\n",
              "\n",
              "    .dataframe tbody tr th {\n",
              "        vertical-align: top;\n",
              "    }\n",
              "\n",
              "    .dataframe thead th {\n",
              "        text-align: right;\n",
              "    }\n",
              "</style>\n",
              "<table border=\"1\" class=\"dataframe\">\n",
              "  <thead>\n",
              "    <tr style=\"text-align: right;\">\n",
              "      <th></th>\n",
              "      <th>Item_Identifier</th>\n",
              "      <th>Item_Weight</th>\n",
              "      <th>Item_Fat_Content</th>\n",
              "      <th>Item_Visibility</th>\n",
              "      <th>Item_Type</th>\n",
              "      <th>Item_MRP</th>\n",
              "      <th>Outlet_Identifier</th>\n",
              "      <th>Outlet_Establishment_Year</th>\n",
              "      <th>Outlet_Size</th>\n",
              "      <th>Outlet_Location_Type</th>\n",
              "      <th>Outlet_Type</th>\n",
              "      <th>Item_Outlet_Sales</th>\n",
              "    </tr>\n",
              "  </thead>\n",
              "  <tbody>\n",
              "    <tr>\n",
              "      <th>0</th>\n",
              "      <td>FDA15</td>\n",
              "      <td>9.30</td>\n",
              "      <td>Low Fat</td>\n",
              "      <td>0.016047</td>\n",
              "      <td>Dairy</td>\n",
              "      <td>249.8092</td>\n",
              "      <td>OUT049</td>\n",
              "      <td>1999</td>\n",
              "      <td>Medium</td>\n",
              "      <td>Tier 1</td>\n",
              "      <td>Supermarket Type1</td>\n",
              "      <td>3735.1380</td>\n",
              "    </tr>\n",
              "    <tr>\n",
              "      <th>1</th>\n",
              "      <td>DRC01</td>\n",
              "      <td>5.92</td>\n",
              "      <td>Regular</td>\n",
              "      <td>0.019278</td>\n",
              "      <td>Soft Drinks</td>\n",
              "      <td>48.2692</td>\n",
              "      <td>OUT018</td>\n",
              "      <td>2009</td>\n",
              "      <td>Medium</td>\n",
              "      <td>Tier 3</td>\n",
              "      <td>Supermarket Type2</td>\n",
              "      <td>443.4228</td>\n",
              "    </tr>\n",
              "    <tr>\n",
              "      <th>2</th>\n",
              "      <td>FDN15</td>\n",
              "      <td>17.50</td>\n",
              "      <td>Low Fat</td>\n",
              "      <td>0.016760</td>\n",
              "      <td>Meat</td>\n",
              "      <td>141.6180</td>\n",
              "      <td>OUT049</td>\n",
              "      <td>1999</td>\n",
              "      <td>Medium</td>\n",
              "      <td>Tier 1</td>\n",
              "      <td>Supermarket Type1</td>\n",
              "      <td>2097.2700</td>\n",
              "    </tr>\n",
              "    <tr>\n",
              "      <th>3</th>\n",
              "      <td>FDX07</td>\n",
              "      <td>19.20</td>\n",
              "      <td>Regular</td>\n",
              "      <td>0.000000</td>\n",
              "      <td>Fruits and Vegetables</td>\n",
              "      <td>182.0950</td>\n",
              "      <td>OUT010</td>\n",
              "      <td>1998</td>\n",
              "      <td>NaN</td>\n",
              "      <td>Tier 3</td>\n",
              "      <td>Grocery Store</td>\n",
              "      <td>732.3800</td>\n",
              "    </tr>\n",
              "    <tr>\n",
              "      <th>4</th>\n",
              "      <td>NCD19</td>\n",
              "      <td>8.93</td>\n",
              "      <td>Low Fat</td>\n",
              "      <td>0.000000</td>\n",
              "      <td>Household</td>\n",
              "      <td>53.8614</td>\n",
              "      <td>OUT013</td>\n",
              "      <td>1987</td>\n",
              "      <td>High</td>\n",
              "      <td>Tier 3</td>\n",
              "      <td>Supermarket Type1</td>\n",
              "      <td>994.7052</td>\n",
              "    </tr>\n",
              "  </tbody>\n",
              "</table>\n",
              "</div>\n",
              "      <button class=\"colab-df-convert\" onclick=\"convertToInteractive('df-9cdd1488-8fee-4442-b034-60125493b633')\"\n",
              "              title=\"Convert this dataframe to an interactive table.\"\n",
              "              style=\"display:none;\">\n",
              "\n",
              "  <svg xmlns=\"http://www.w3.org/2000/svg\" height=\"24px\"viewBox=\"0 0 24 24\"\n",
              "       width=\"24px\">\n",
              "    <path d=\"M0 0h24v24H0V0z\" fill=\"none\"/>\n",
              "    <path d=\"M18.56 5.44l.94 2.06.94-2.06 2.06-.94-2.06-.94-.94-2.06-.94 2.06-2.06.94zm-11 1L8.5 8.5l.94-2.06 2.06-.94-2.06-.94L8.5 2.5l-.94 2.06-2.06.94zm10 10l.94 2.06.94-2.06 2.06-.94-2.06-.94-.94-2.06-.94 2.06-2.06.94z\"/><path d=\"M17.41 7.96l-1.37-1.37c-.4-.4-.92-.59-1.43-.59-.52 0-1.04.2-1.43.59L10.3 9.45l-7.72 7.72c-.78.78-.78 2.05 0 2.83L4 21.41c.39.39.9.59 1.41.59.51 0 1.02-.2 1.41-.59l7.78-7.78 2.81-2.81c.8-.78.8-2.07 0-2.86zM5.41 20L4 18.59l7.72-7.72 1.47 1.35L5.41 20z\"/>\n",
              "  </svg>\n",
              "      </button>\n",
              "\n",
              "\n",
              "\n",
              "    <div id=\"df-07ce28ff-486d-4324-b2ad-9af1cc244092\">\n",
              "      <button class=\"colab-df-quickchart\" onclick=\"quickchart('df-07ce28ff-486d-4324-b2ad-9af1cc244092')\"\n",
              "              title=\"Suggest charts.\"\n",
              "              style=\"display:none;\">\n",
              "\n",
              "<svg xmlns=\"http://www.w3.org/2000/svg\" height=\"24px\"viewBox=\"0 0 24 24\"\n",
              "     width=\"24px\">\n",
              "    <g>\n",
              "        <path d=\"M19 3H5c-1.1 0-2 .9-2 2v14c0 1.1.9 2 2 2h14c1.1 0 2-.9 2-2V5c0-1.1-.9-2-2-2zM9 17H7v-7h2v7zm4 0h-2V7h2v10zm4 0h-2v-4h2v4z\"/>\n",
              "    </g>\n",
              "</svg>\n",
              "      </button>\n",
              "    </div>\n",
              "\n",
              "<style>\n",
              "  .colab-df-quickchart {\n",
              "    background-color: #E8F0FE;\n",
              "    border: none;\n",
              "    border-radius: 50%;\n",
              "    cursor: pointer;\n",
              "    display: none;\n",
              "    fill: #1967D2;\n",
              "    height: 32px;\n",
              "    padding: 0 0 0 0;\n",
              "    width: 32px;\n",
              "  }\n",
              "\n",
              "  .colab-df-quickchart:hover {\n",
              "    background-color: #E2EBFA;\n",
              "    box-shadow: 0px 1px 2px rgba(60, 64, 67, 0.3), 0px 1px 3px 1px rgba(60, 64, 67, 0.15);\n",
              "    fill: #174EA6;\n",
              "  }\n",
              "\n",
              "  [theme=dark] .colab-df-quickchart {\n",
              "    background-color: #3B4455;\n",
              "    fill: #D2E3FC;\n",
              "  }\n",
              "\n",
              "  [theme=dark] .colab-df-quickchart:hover {\n",
              "    background-color: #434B5C;\n",
              "    box-shadow: 0px 1px 3px 1px rgba(0, 0, 0, 0.15);\n",
              "    filter: drop-shadow(0px 1px 2px rgba(0, 0, 0, 0.3));\n",
              "    fill: #FFFFFF;\n",
              "  }\n",
              "</style>\n",
              "\n",
              "    <script>\n",
              "      async function quickchart(key) {\n",
              "        const containerElement = document.querySelector('#' + key);\n",
              "        const charts = await google.colab.kernel.invokeFunction(\n",
              "            'suggestCharts', [key], {});\n",
              "      }\n",
              "    </script>\n",
              "\n",
              "      <script>\n",
              "\n",
              "function displayQuickchartButton(domScope) {\n",
              "  let quickchartButtonEl =\n",
              "    domScope.querySelector('#df-07ce28ff-486d-4324-b2ad-9af1cc244092 button.colab-df-quickchart');\n",
              "  quickchartButtonEl.style.display =\n",
              "    google.colab.kernel.accessAllowed ? 'block' : 'none';\n",
              "}\n",
              "\n",
              "        displayQuickchartButton(document);\n",
              "      </script>\n",
              "      <style>\n",
              "    .colab-df-container {\n",
              "      display:flex;\n",
              "      flex-wrap:wrap;\n",
              "      gap: 12px;\n",
              "    }\n",
              "\n",
              "    .colab-df-convert {\n",
              "      background-color: #E8F0FE;\n",
              "      border: none;\n",
              "      border-radius: 50%;\n",
              "      cursor: pointer;\n",
              "      display: none;\n",
              "      fill: #1967D2;\n",
              "      height: 32px;\n",
              "      padding: 0 0 0 0;\n",
              "      width: 32px;\n",
              "    }\n",
              "\n",
              "    .colab-df-convert:hover {\n",
              "      background-color: #E2EBFA;\n",
              "      box-shadow: 0px 1px 2px rgba(60, 64, 67, 0.3), 0px 1px 3px 1px rgba(60, 64, 67, 0.15);\n",
              "      fill: #174EA6;\n",
              "    }\n",
              "\n",
              "    [theme=dark] .colab-df-convert {\n",
              "      background-color: #3B4455;\n",
              "      fill: #D2E3FC;\n",
              "    }\n",
              "\n",
              "    [theme=dark] .colab-df-convert:hover {\n",
              "      background-color: #434B5C;\n",
              "      box-shadow: 0px 1px 3px 1px rgba(0, 0, 0, 0.15);\n",
              "      filter: drop-shadow(0px 1px 2px rgba(0, 0, 0, 0.3));\n",
              "      fill: #FFFFFF;\n",
              "    }\n",
              "  </style>\n",
              "\n",
              "      <script>\n",
              "        const buttonEl =\n",
              "          document.querySelector('#df-9cdd1488-8fee-4442-b034-60125493b633 button.colab-df-convert');\n",
              "        buttonEl.style.display =\n",
              "          google.colab.kernel.accessAllowed ? 'block' : 'none';\n",
              "\n",
              "        async function convertToInteractive(key) {\n",
              "          const element = document.querySelector('#df-9cdd1488-8fee-4442-b034-60125493b633');\n",
              "          const dataTable =\n",
              "            await google.colab.kernel.invokeFunction('convertToInteractive',\n",
              "                                                     [key], {});\n",
              "          if (!dataTable) return;\n",
              "\n",
              "          const docLinkHtml = 'Like what you see? Visit the ' +\n",
              "            '<a target=\"_blank\" href=https://colab.research.google.com/notebooks/data_table.ipynb>data table notebook</a>'\n",
              "            + ' to learn more about interactive tables.';\n",
              "          element.innerHTML = '';\n",
              "          dataTable['output_type'] = 'display_data';\n",
              "          await google.colab.output.renderOutput(dataTable, element);\n",
              "          const docLink = document.createElement('div');\n",
              "          docLink.innerHTML = docLinkHtml;\n",
              "          element.appendChild(docLink);\n",
              "        }\n",
              "      </script>\n",
              "    </div>\n",
              "  </div>\n"
            ]
          },
          "metadata": {},
          "execution_count": 99
        }
      ]
    },
    {
      "cell_type": "markdown",
      "source": [
        "## Fix the data to Orginal state"
      ],
      "metadata": {
        "id": "v0lLJJnGNjjm"
      }
    },
    {
      "cell_type": "code",
      "source": [
        "#Replace -1 with Null\n",
        "df[\"Item_Weight\"] = df[\"Item_Weight\"].replace(-1, np.NaN)\n",
        "df[\"Item_Weight\"]"
      ],
      "metadata": {
        "colab": {
          "base_uri": "https://localhost:8080/"
        },
        "id": "MKNhXSbuKOQD",
        "outputId": "e17b43b8-7550-4f23-cbf0-5d39fddc84bc"
      },
      "execution_count": 100,
      "outputs": [
        {
          "output_type": "execute_result",
          "data": {
            "text/plain": [
              "0        9.300\n",
              "1        5.920\n",
              "2       17.500\n",
              "3       19.200\n",
              "4        8.930\n",
              "         ...  \n",
              "8518     6.865\n",
              "8519     8.380\n",
              "8520    10.600\n",
              "8521     7.210\n",
              "8522    14.800\n",
              "Name: Item_Weight, Length: 8523, dtype: float64"
            ]
          },
          "metadata": {},
          "execution_count": 100
        }
      ]
    },
    {
      "cell_type": "code",
      "source": [
        "#Replace \"MISSING\" with null, however in this case the df already has NaN\n",
        "#df[\"Outlet_Size\"] = df[\"Outlet_Size\"].replace(\"MISSING\", np.NaN, inplace=True)\n",
        "df"
      ],
      "metadata": {
        "colab": {
          "base_uri": "https://localhost:8080/",
          "height": 661
        },
        "id": "xwQNMW4UL8b2",
        "outputId": "85a203b8-f29b-4146-9af3-5608b7f159aa"
      },
      "execution_count": 101,
      "outputs": [
        {
          "output_type": "execute_result",
          "data": {
            "text/plain": [
              "     Item_Identifier  Item_Weight Item_Fat_Content  Item_Visibility  \\\n",
              "0              FDA15        9.300          Low Fat         0.016047   \n",
              "1              DRC01        5.920          Regular         0.019278   \n",
              "2              FDN15       17.500          Low Fat         0.016760   \n",
              "3              FDX07       19.200          Regular         0.000000   \n",
              "4              NCD19        8.930          Low Fat         0.000000   \n",
              "...              ...          ...              ...              ...   \n",
              "8518           FDF22        6.865          Low Fat         0.056783   \n",
              "8519           FDS36        8.380          Regular         0.046982   \n",
              "8520           NCJ29       10.600          Low Fat         0.035186   \n",
              "8521           FDN46        7.210          Regular         0.145221   \n",
              "8522           DRG01       14.800          Low Fat         0.044878   \n",
              "\n",
              "                  Item_Type  Item_MRP Outlet_Identifier  \\\n",
              "0                     Dairy  249.8092            OUT049   \n",
              "1               Soft Drinks   48.2692            OUT018   \n",
              "2                      Meat  141.6180            OUT049   \n",
              "3     Fruits and Vegetables  182.0950            OUT010   \n",
              "4                 Household   53.8614            OUT013   \n",
              "...                     ...       ...               ...   \n",
              "8518            Snack Foods  214.5218            OUT013   \n",
              "8519           Baking Goods  108.1570            OUT045   \n",
              "8520     Health and Hygiene   85.1224            OUT035   \n",
              "8521            Snack Foods  103.1332            OUT018   \n",
              "8522            Soft Drinks   75.4670            OUT046   \n",
              "\n",
              "      Outlet_Establishment_Year Outlet_Size Outlet_Location_Type  \\\n",
              "0                          1999      Medium               Tier 1   \n",
              "1                          2009      Medium               Tier 3   \n",
              "2                          1999      Medium               Tier 1   \n",
              "3                          1998         NaN               Tier 3   \n",
              "4                          1987        High               Tier 3   \n",
              "...                         ...         ...                  ...   \n",
              "8518                       1987        High               Tier 3   \n",
              "8519                       2002         NaN               Tier 2   \n",
              "8520                       2004       Small               Tier 2   \n",
              "8521                       2009      Medium               Tier 3   \n",
              "8522                       1997       Small               Tier 1   \n",
              "\n",
              "            Outlet_Type  Item_Outlet_Sales  \n",
              "0     Supermarket Type1          3735.1380  \n",
              "1     Supermarket Type2           443.4228  \n",
              "2     Supermarket Type1          2097.2700  \n",
              "3         Grocery Store           732.3800  \n",
              "4     Supermarket Type1           994.7052  \n",
              "...                 ...                ...  \n",
              "8518  Supermarket Type1          2778.3834  \n",
              "8519  Supermarket Type1           549.2850  \n",
              "8520  Supermarket Type1          1193.1136  \n",
              "8521  Supermarket Type2          1845.5976  \n",
              "8522  Supermarket Type1           765.6700  \n",
              "\n",
              "[8523 rows x 12 columns]"
            ],
            "text/html": [
              "\n",
              "\n",
              "  <div id=\"df-6907dee7-01e6-4343-b94d-fa10ba0fbc81\">\n",
              "    <div class=\"colab-df-container\">\n",
              "      <div>\n",
              "<style scoped>\n",
              "    .dataframe tbody tr th:only-of-type {\n",
              "        vertical-align: middle;\n",
              "    }\n",
              "\n",
              "    .dataframe tbody tr th {\n",
              "        vertical-align: top;\n",
              "    }\n",
              "\n",
              "    .dataframe thead th {\n",
              "        text-align: right;\n",
              "    }\n",
              "</style>\n",
              "<table border=\"1\" class=\"dataframe\">\n",
              "  <thead>\n",
              "    <tr style=\"text-align: right;\">\n",
              "      <th></th>\n",
              "      <th>Item_Identifier</th>\n",
              "      <th>Item_Weight</th>\n",
              "      <th>Item_Fat_Content</th>\n",
              "      <th>Item_Visibility</th>\n",
              "      <th>Item_Type</th>\n",
              "      <th>Item_MRP</th>\n",
              "      <th>Outlet_Identifier</th>\n",
              "      <th>Outlet_Establishment_Year</th>\n",
              "      <th>Outlet_Size</th>\n",
              "      <th>Outlet_Location_Type</th>\n",
              "      <th>Outlet_Type</th>\n",
              "      <th>Item_Outlet_Sales</th>\n",
              "    </tr>\n",
              "  </thead>\n",
              "  <tbody>\n",
              "    <tr>\n",
              "      <th>0</th>\n",
              "      <td>FDA15</td>\n",
              "      <td>9.300</td>\n",
              "      <td>Low Fat</td>\n",
              "      <td>0.016047</td>\n",
              "      <td>Dairy</td>\n",
              "      <td>249.8092</td>\n",
              "      <td>OUT049</td>\n",
              "      <td>1999</td>\n",
              "      <td>Medium</td>\n",
              "      <td>Tier 1</td>\n",
              "      <td>Supermarket Type1</td>\n",
              "      <td>3735.1380</td>\n",
              "    </tr>\n",
              "    <tr>\n",
              "      <th>1</th>\n",
              "      <td>DRC01</td>\n",
              "      <td>5.920</td>\n",
              "      <td>Regular</td>\n",
              "      <td>0.019278</td>\n",
              "      <td>Soft Drinks</td>\n",
              "      <td>48.2692</td>\n",
              "      <td>OUT018</td>\n",
              "      <td>2009</td>\n",
              "      <td>Medium</td>\n",
              "      <td>Tier 3</td>\n",
              "      <td>Supermarket Type2</td>\n",
              "      <td>443.4228</td>\n",
              "    </tr>\n",
              "    <tr>\n",
              "      <th>2</th>\n",
              "      <td>FDN15</td>\n",
              "      <td>17.500</td>\n",
              "      <td>Low Fat</td>\n",
              "      <td>0.016760</td>\n",
              "      <td>Meat</td>\n",
              "      <td>141.6180</td>\n",
              "      <td>OUT049</td>\n",
              "      <td>1999</td>\n",
              "      <td>Medium</td>\n",
              "      <td>Tier 1</td>\n",
              "      <td>Supermarket Type1</td>\n",
              "      <td>2097.2700</td>\n",
              "    </tr>\n",
              "    <tr>\n",
              "      <th>3</th>\n",
              "      <td>FDX07</td>\n",
              "      <td>19.200</td>\n",
              "      <td>Regular</td>\n",
              "      <td>0.000000</td>\n",
              "      <td>Fruits and Vegetables</td>\n",
              "      <td>182.0950</td>\n",
              "      <td>OUT010</td>\n",
              "      <td>1998</td>\n",
              "      <td>NaN</td>\n",
              "      <td>Tier 3</td>\n",
              "      <td>Grocery Store</td>\n",
              "      <td>732.3800</td>\n",
              "    </tr>\n",
              "    <tr>\n",
              "      <th>4</th>\n",
              "      <td>NCD19</td>\n",
              "      <td>8.930</td>\n",
              "      <td>Low Fat</td>\n",
              "      <td>0.000000</td>\n",
              "      <td>Household</td>\n",
              "      <td>53.8614</td>\n",
              "      <td>OUT013</td>\n",
              "      <td>1987</td>\n",
              "      <td>High</td>\n",
              "      <td>Tier 3</td>\n",
              "      <td>Supermarket Type1</td>\n",
              "      <td>994.7052</td>\n",
              "    </tr>\n",
              "    <tr>\n",
              "      <th>...</th>\n",
              "      <td>...</td>\n",
              "      <td>...</td>\n",
              "      <td>...</td>\n",
              "      <td>...</td>\n",
              "      <td>...</td>\n",
              "      <td>...</td>\n",
              "      <td>...</td>\n",
              "      <td>...</td>\n",
              "      <td>...</td>\n",
              "      <td>...</td>\n",
              "      <td>...</td>\n",
              "      <td>...</td>\n",
              "    </tr>\n",
              "    <tr>\n",
              "      <th>8518</th>\n",
              "      <td>FDF22</td>\n",
              "      <td>6.865</td>\n",
              "      <td>Low Fat</td>\n",
              "      <td>0.056783</td>\n",
              "      <td>Snack Foods</td>\n",
              "      <td>214.5218</td>\n",
              "      <td>OUT013</td>\n",
              "      <td>1987</td>\n",
              "      <td>High</td>\n",
              "      <td>Tier 3</td>\n",
              "      <td>Supermarket Type1</td>\n",
              "      <td>2778.3834</td>\n",
              "    </tr>\n",
              "    <tr>\n",
              "      <th>8519</th>\n",
              "      <td>FDS36</td>\n",
              "      <td>8.380</td>\n",
              "      <td>Regular</td>\n",
              "      <td>0.046982</td>\n",
              "      <td>Baking Goods</td>\n",
              "      <td>108.1570</td>\n",
              "      <td>OUT045</td>\n",
              "      <td>2002</td>\n",
              "      <td>NaN</td>\n",
              "      <td>Tier 2</td>\n",
              "      <td>Supermarket Type1</td>\n",
              "      <td>549.2850</td>\n",
              "    </tr>\n",
              "    <tr>\n",
              "      <th>8520</th>\n",
              "      <td>NCJ29</td>\n",
              "      <td>10.600</td>\n",
              "      <td>Low Fat</td>\n",
              "      <td>0.035186</td>\n",
              "      <td>Health and Hygiene</td>\n",
              "      <td>85.1224</td>\n",
              "      <td>OUT035</td>\n",
              "      <td>2004</td>\n",
              "      <td>Small</td>\n",
              "      <td>Tier 2</td>\n",
              "      <td>Supermarket Type1</td>\n",
              "      <td>1193.1136</td>\n",
              "    </tr>\n",
              "    <tr>\n",
              "      <th>8521</th>\n",
              "      <td>FDN46</td>\n",
              "      <td>7.210</td>\n",
              "      <td>Regular</td>\n",
              "      <td>0.145221</td>\n",
              "      <td>Snack Foods</td>\n",
              "      <td>103.1332</td>\n",
              "      <td>OUT018</td>\n",
              "      <td>2009</td>\n",
              "      <td>Medium</td>\n",
              "      <td>Tier 3</td>\n",
              "      <td>Supermarket Type2</td>\n",
              "      <td>1845.5976</td>\n",
              "    </tr>\n",
              "    <tr>\n",
              "      <th>8522</th>\n",
              "      <td>DRG01</td>\n",
              "      <td>14.800</td>\n",
              "      <td>Low Fat</td>\n",
              "      <td>0.044878</td>\n",
              "      <td>Soft Drinks</td>\n",
              "      <td>75.4670</td>\n",
              "      <td>OUT046</td>\n",
              "      <td>1997</td>\n",
              "      <td>Small</td>\n",
              "      <td>Tier 1</td>\n",
              "      <td>Supermarket Type1</td>\n",
              "      <td>765.6700</td>\n",
              "    </tr>\n",
              "  </tbody>\n",
              "</table>\n",
              "<p>8523 rows × 12 columns</p>\n",
              "</div>\n",
              "      <button class=\"colab-df-convert\" onclick=\"convertToInteractive('df-6907dee7-01e6-4343-b94d-fa10ba0fbc81')\"\n",
              "              title=\"Convert this dataframe to an interactive table.\"\n",
              "              style=\"display:none;\">\n",
              "\n",
              "  <svg xmlns=\"http://www.w3.org/2000/svg\" height=\"24px\"viewBox=\"0 0 24 24\"\n",
              "       width=\"24px\">\n",
              "    <path d=\"M0 0h24v24H0V0z\" fill=\"none\"/>\n",
              "    <path d=\"M18.56 5.44l.94 2.06.94-2.06 2.06-.94-2.06-.94-.94-2.06-.94 2.06-2.06.94zm-11 1L8.5 8.5l.94-2.06 2.06-.94-2.06-.94L8.5 2.5l-.94 2.06-2.06.94zm10 10l.94 2.06.94-2.06 2.06-.94-2.06-.94-.94-2.06-.94 2.06-2.06.94z\"/><path d=\"M17.41 7.96l-1.37-1.37c-.4-.4-.92-.59-1.43-.59-.52 0-1.04.2-1.43.59L10.3 9.45l-7.72 7.72c-.78.78-.78 2.05 0 2.83L4 21.41c.39.39.9.59 1.41.59.51 0 1.02-.2 1.41-.59l7.78-7.78 2.81-2.81c.8-.78.8-2.07 0-2.86zM5.41 20L4 18.59l7.72-7.72 1.47 1.35L5.41 20z\"/>\n",
              "  </svg>\n",
              "      </button>\n",
              "\n",
              "\n",
              "\n",
              "    <div id=\"df-6ad087f5-584c-43b1-b6b7-2552342b1b56\">\n",
              "      <button class=\"colab-df-quickchart\" onclick=\"quickchart('df-6ad087f5-584c-43b1-b6b7-2552342b1b56')\"\n",
              "              title=\"Suggest charts.\"\n",
              "              style=\"display:none;\">\n",
              "\n",
              "<svg xmlns=\"http://www.w3.org/2000/svg\" height=\"24px\"viewBox=\"0 0 24 24\"\n",
              "     width=\"24px\">\n",
              "    <g>\n",
              "        <path d=\"M19 3H5c-1.1 0-2 .9-2 2v14c0 1.1.9 2 2 2h14c1.1 0 2-.9 2-2V5c0-1.1-.9-2-2-2zM9 17H7v-7h2v7zm4 0h-2V7h2v10zm4 0h-2v-4h2v4z\"/>\n",
              "    </g>\n",
              "</svg>\n",
              "      </button>\n",
              "    </div>\n",
              "\n",
              "<style>\n",
              "  .colab-df-quickchart {\n",
              "    background-color: #E8F0FE;\n",
              "    border: none;\n",
              "    border-radius: 50%;\n",
              "    cursor: pointer;\n",
              "    display: none;\n",
              "    fill: #1967D2;\n",
              "    height: 32px;\n",
              "    padding: 0 0 0 0;\n",
              "    width: 32px;\n",
              "  }\n",
              "\n",
              "  .colab-df-quickchart:hover {\n",
              "    background-color: #E2EBFA;\n",
              "    box-shadow: 0px 1px 2px rgba(60, 64, 67, 0.3), 0px 1px 3px 1px rgba(60, 64, 67, 0.15);\n",
              "    fill: #174EA6;\n",
              "  }\n",
              "\n",
              "  [theme=dark] .colab-df-quickchart {\n",
              "    background-color: #3B4455;\n",
              "    fill: #D2E3FC;\n",
              "  }\n",
              "\n",
              "  [theme=dark] .colab-df-quickchart:hover {\n",
              "    background-color: #434B5C;\n",
              "    box-shadow: 0px 1px 3px 1px rgba(0, 0, 0, 0.15);\n",
              "    filter: drop-shadow(0px 1px 2px rgba(0, 0, 0, 0.3));\n",
              "    fill: #FFFFFF;\n",
              "  }\n",
              "</style>\n",
              "\n",
              "    <script>\n",
              "      async function quickchart(key) {\n",
              "        const containerElement = document.querySelector('#' + key);\n",
              "        const charts = await google.colab.kernel.invokeFunction(\n",
              "            'suggestCharts', [key], {});\n",
              "      }\n",
              "    </script>\n",
              "\n",
              "      <script>\n",
              "\n",
              "function displayQuickchartButton(domScope) {\n",
              "  let quickchartButtonEl =\n",
              "    domScope.querySelector('#df-6ad087f5-584c-43b1-b6b7-2552342b1b56 button.colab-df-quickchart');\n",
              "  quickchartButtonEl.style.display =\n",
              "    google.colab.kernel.accessAllowed ? 'block' : 'none';\n",
              "}\n",
              "\n",
              "        displayQuickchartButton(document);\n",
              "      </script>\n",
              "      <style>\n",
              "    .colab-df-container {\n",
              "      display:flex;\n",
              "      flex-wrap:wrap;\n",
              "      gap: 12px;\n",
              "    }\n",
              "\n",
              "    .colab-df-convert {\n",
              "      background-color: #E8F0FE;\n",
              "      border: none;\n",
              "      border-radius: 50%;\n",
              "      cursor: pointer;\n",
              "      display: none;\n",
              "      fill: #1967D2;\n",
              "      height: 32px;\n",
              "      padding: 0 0 0 0;\n",
              "      width: 32px;\n",
              "    }\n",
              "\n",
              "    .colab-df-convert:hover {\n",
              "      background-color: #E2EBFA;\n",
              "      box-shadow: 0px 1px 2px rgba(60, 64, 67, 0.3), 0px 1px 3px 1px rgba(60, 64, 67, 0.15);\n",
              "      fill: #174EA6;\n",
              "    }\n",
              "\n",
              "    [theme=dark] .colab-df-convert {\n",
              "      background-color: #3B4455;\n",
              "      fill: #D2E3FC;\n",
              "    }\n",
              "\n",
              "    [theme=dark] .colab-df-convert:hover {\n",
              "      background-color: #434B5C;\n",
              "      box-shadow: 0px 1px 3px 1px rgba(0, 0, 0, 0.15);\n",
              "      filter: drop-shadow(0px 1px 2px rgba(0, 0, 0, 0.3));\n",
              "      fill: #FFFFFF;\n",
              "    }\n",
              "  </style>\n",
              "\n",
              "      <script>\n",
              "        const buttonEl =\n",
              "          document.querySelector('#df-6907dee7-01e6-4343-b94d-fa10ba0fbc81 button.colab-df-convert');\n",
              "        buttonEl.style.display =\n",
              "          google.colab.kernel.accessAllowed ? 'block' : 'none';\n",
              "\n",
              "        async function convertToInteractive(key) {\n",
              "          const element = document.querySelector('#df-6907dee7-01e6-4343-b94d-fa10ba0fbc81');\n",
              "          const dataTable =\n",
              "            await google.colab.kernel.invokeFunction('convertToInteractive',\n",
              "                                                     [key], {});\n",
              "          if (!dataTable) return;\n",
              "\n",
              "          const docLinkHtml = 'Like what you see? Visit the ' +\n",
              "            '<a target=\"_blank\" href=https://colab.research.google.com/notebooks/data_table.ipynb>data table notebook</a>'\n",
              "            + ' to learn more about interactive tables.';\n",
              "          element.innerHTML = '';\n",
              "          dataTable['output_type'] = 'display_data';\n",
              "          await google.colab.output.renderOutput(dataTable, element);\n",
              "          const docLink = document.createElement('div');\n",
              "          docLink.innerHTML = docLinkHtml;\n",
              "          element.appendChild(docLink);\n",
              "        }\n",
              "      </script>\n",
              "    </div>\n",
              "  </div>\n"
            ]
          },
          "metadata": {},
          "execution_count": 101
        }
      ]
    },
    {
      "cell_type": "code",
      "source": [
        "#Check for null values\n",
        "df.fail\n",
        "df.isna().sum()"
      ],
      "metadata": {
        "colab": {
          "base_uri": "https://localhost:8080/",
          "height": 321
        },
        "id": "9FafVBtmiVMu",
        "outputId": "ce870c23-4a14-4244-d341-f2384ecfb6bf"
      },
      "execution_count": 89,
      "outputs": [
        {
          "output_type": "error",
          "ename": "AttributeError",
          "evalue": "ignored",
          "traceback": [
            "\u001b[0;31m---------------------------------------------------------------------------\u001b[0m",
            "\u001b[0;31mAttributeError\u001b[0m                            Traceback (most recent call last)",
            "\u001b[0;32m<ipython-input-89-284a1b94f9cb>\u001b[0m in \u001b[0;36m<cell line: 2>\u001b[0;34m()\u001b[0m\n\u001b[1;32m      1\u001b[0m \u001b[0;31m#Check for null values\u001b[0m\u001b[0;34m\u001b[0m\u001b[0;34m\u001b[0m\u001b[0m\n\u001b[0;32m----> 2\u001b[0;31m \u001b[0mdf\u001b[0m\u001b[0;34m.\u001b[0m\u001b[0mfail\u001b[0m\u001b[0;34m\u001b[0m\u001b[0;34m\u001b[0m\u001b[0m\n\u001b[0m\u001b[1;32m      3\u001b[0m \u001b[0mdf\u001b[0m\u001b[0;34m.\u001b[0m\u001b[0misna\u001b[0m\u001b[0;34m(\u001b[0m\u001b[0;34m)\u001b[0m\u001b[0;34m.\u001b[0m\u001b[0msum\u001b[0m\u001b[0;34m(\u001b[0m\u001b[0;34m)\u001b[0m\u001b[0;34m\u001b[0m\u001b[0;34m\u001b[0m\u001b[0m\n",
            "\u001b[0;32m/usr/local/lib/python3.10/dist-packages/pandas/core/generic.py\u001b[0m in \u001b[0;36m__getattr__\u001b[0;34m(self, name)\u001b[0m\n\u001b[1;32m   5900\u001b[0m         ):\n\u001b[1;32m   5901\u001b[0m             \u001b[0;32mreturn\u001b[0m \u001b[0mself\u001b[0m\u001b[0;34m[\u001b[0m\u001b[0mname\u001b[0m\u001b[0;34m]\u001b[0m\u001b[0;34m\u001b[0m\u001b[0;34m\u001b[0m\u001b[0m\n\u001b[0;32m-> 5902\u001b[0;31m         \u001b[0;32mreturn\u001b[0m \u001b[0mobject\u001b[0m\u001b[0;34m.\u001b[0m\u001b[0m__getattribute__\u001b[0m\u001b[0;34m(\u001b[0m\u001b[0mself\u001b[0m\u001b[0;34m,\u001b[0m \u001b[0mname\u001b[0m\u001b[0;34m)\u001b[0m\u001b[0;34m\u001b[0m\u001b[0;34m\u001b[0m\u001b[0m\n\u001b[0m\u001b[1;32m   5903\u001b[0m \u001b[0;34m\u001b[0m\u001b[0m\n\u001b[1;32m   5904\u001b[0m     \u001b[0;32mdef\u001b[0m \u001b[0m__setattr__\u001b[0m\u001b[0;34m(\u001b[0m\u001b[0mself\u001b[0m\u001b[0;34m,\u001b[0m \u001b[0mname\u001b[0m\u001b[0;34m:\u001b[0m \u001b[0mstr\u001b[0m\u001b[0;34m,\u001b[0m \u001b[0mvalue\u001b[0m\u001b[0;34m)\u001b[0m \u001b[0;34m->\u001b[0m \u001b[0;32mNone\u001b[0m\u001b[0;34m:\u001b[0m\u001b[0;34m\u001b[0m\u001b[0;34m\u001b[0m\u001b[0m\n",
            "\u001b[0;31mAttributeError\u001b[0m: 'DataFrame' object has no attribute 'fail'"
          ]
        }
      ]
    },
    {
      "cell_type": "markdown",
      "source": [
        "**Interpretation:** null values are in place"
      ],
      "metadata": {
        "id": "tf_pIPPCGA2U"
      }
    },
    {
      "cell_type": "markdown",
      "source": [
        "Defined Target: Item_Outlet_Sales\n",
        "Identified as a regression Task"
      ],
      "metadata": {
        "id": "5F4g0IBBfB0E"
      }
    },
    {
      "cell_type": "markdown",
      "source": [
        "#Data Dictionary for this dataset:\n",
        "\n",
        "Variable Name\tDescription<br>\n",
        "Item_Identifier\tProduct ID<br>\n",
        "Item_Weight\tWeight of product<br>\n",
        "Item_Fat_Content\tWhether the product is low-fat or regular<br>\n",
        "Item_Visibility\tThe percentage of total display area of all products in a store allocated to the particular product<br>\n",
        "Item_Type\tThe category to which the product belongs<br>\n",
        "Item_MRP\tMaximum Retail Price (list price) of the product\n",
        "Outlet_Identifier\tStore ID<br>\n",
        "Outlet_Establishment_Year\tThe year in which store was established<br>\n",
        "Outlet_Size\tThe size of the store in terms of ground area covered<br>\n",
        "Outlet_Location_Type\tThe type of area in which the store is located<br>\n",
        "Outlet_Type\tWhether the outlet is a grocery store or some sort of supermarket<br>\n",
        "Item_Outlet_Sales\tSales of the product in the particular store. This is the target variable to be predicted.<br>\n"
      ],
      "metadata": {
        "id": "x2E80BaZMtTq"
      }
    },
    {
      "cell_type": "markdown",
      "source": [
        "##Feature list and Inspection:"
      ],
      "metadata": {
        "id": "csC1kGyjHFd3"
      }
    },
    {
      "cell_type": "markdown",
      "source": [
        "Item_Weight<br>\n",
        "Item_Fat_Content<br>\n",
        "Item_Visibility<br>\n",
        "Item_Type<br>\n",
        "Item_MRP<br>\n",
        "Outlet_Identifier<br>\n",
        "Outlet_Establishment_Year<br>\n",
        "Outlet_Size<br>\n",
        "Outlet_Location_Type<br>\n",
        "Outlet_Type<br>\n"
      ],
      "metadata": {
        "id": "U-xXdxMdHpK1"
      }
    },
    {
      "cell_type": "markdown",
      "source": [
        "### Feature Name: Item_Weight : Weight of product"
      ],
      "metadata": {
        "id": "g3hIxO_2fKSB"
      }
    },
    {
      "cell_type": "code",
      "source": [
        "#Confirming the dtype to select correct EDA function\n",
        "feature = \"Item_Weight\"\n",
        "target = \"Item_Outlet_Sales\"\n",
        "\n",
        "df[feature].dtype"
      ],
      "metadata": {
        "id": "YbyXNNMdMDCI"
      },
      "execution_count": null,
      "outputs": []
    },
    {
      "cell_type": "code",
      "source": [
        "#Numerical field\n",
        "explore_numeric(df, feature, figsize=(6,5) )"
      ],
      "metadata": {
        "id": "IrpRP9_aPIGL"
      },
      "execution_count": null,
      "outputs": []
    },
    {
      "cell_type": "markdown",
      "source": [
        "**Feature Observations**\n",
        "\n",
        "1. What type of feature is it? (Categorical (nominal), ordinal, numeric)\n",
        "  - ...numeric\n",
        "\n",
        "2. How many null values? What percentage? What would you do with the null values (drop the rows? drop the column? impute? if impute, with what?)\n",
        "  - ...1463 null values (17.17%). Input with Mean or median\n",
        "\n",
        "3. Is the feature constant or quasi-constant?\n",
        "  - ...No\n",
        "\n",
        "4. What is the cardinality? Is it high?\n",
        "  - ...cardinality does not apply to numeric\n",
        "\n",
        "5. Would we know this feature BEFORE the target is determined?\n",
        "  - ...No\n",
        "\n",
        "6. Is there a business case/understanding reason to exclude based on our business case?\n",
        "  - ...No, weight could still determine sales."
      ],
      "metadata": {
        "id": "DbKrMR1APXN7"
      }
    },
    {
      "cell_type": "code",
      "source": [
        "#Multivariate based on target\n",
        "plot_numeric_vs_target(df,feature, target)"
      ],
      "metadata": {
        "id": "Ol4KVgsyaXz4"
      },
      "execution_count": null,
      "outputs": []
    },
    {
      "cell_type": "markdown",
      "source": [
        "**Feature vs. Target Observations**\n",
        "  - Based on your business understanding, would you expect this feature to be a predictor of the target?\n",
        "    - `...` Yes\n",
        "  - Does this feature appear to be a predictor of the target?\n",
        "    - `...` No"
      ],
      "metadata": {
        "id": "91tCrbWJay3x"
      }
    },
    {
      "cell_type": "markdown",
      "source": [
        "### Feature Name: Item_Fat_Content : Whether the product is low-fat or regular"
      ],
      "metadata": {
        "id": "FB519RjVQF5W"
      }
    },
    {
      "cell_type": "code",
      "source": [
        "#Confirming the dtype to select correct EDA function\n",
        "feature = \"Item_Fat_Content\"\n",
        "target = \"Item_Outlet_Sales\"\n",
        "\n",
        "df[feature].dtype"
      ],
      "metadata": {
        "id": "izQfa7u-SlXH"
      },
      "execution_count": null,
      "outputs": []
    },
    {
      "cell_type": "code",
      "source": [
        "#Check column names\n",
        "df[feature].value_counts()"
      ],
      "metadata": {
        "id": "k06yxY8fVRsG"
      },
      "execution_count": null,
      "outputs": []
    },
    {
      "cell_type": "code",
      "source": [
        "#Fix Column names\n",
        "feature_content_map = {'LF':'Low Fat',\n",
        "                       'reg':'Regular',\n",
        "                       'low fat':'Low Fat'}\n",
        "\n",
        "df[feature] = df[feature].replace(feature_content_map)"
      ],
      "metadata": {
        "id": "0CakLZjYV4MQ"
      },
      "execution_count": null,
      "outputs": []
    },
    {
      "cell_type": "code",
      "source": [
        "# run the appropriate explore function (based on feature's dtype)\n",
        "explore_categorical(df, \"Item_Fat_Content\")"
      ],
      "metadata": {
        "id": "VmlD7vozMDCR"
      },
      "execution_count": null,
      "outputs": []
    },
    {
      "cell_type": "markdown",
      "source": [
        "**Feature Observations**\n",
        "\n",
        "1. What type of feature is it? (Categorical (nominal), ordinal, numeric)\n",
        "  - ...Categorical\n",
        "\n",
        "2. How many null values? What percentage? What would you do with the null values (drop the rows? drop the column? impute? if impute, with what?)\n",
        "  - ...0 null values (0%).\n",
        "\n",
        "3. Is the feature constant or quasi-constant?\n",
        "  - ...No\n",
        "\n",
        "4. What is the cardinality? Is it high?\n",
        "  - ...No, not more than 10 therefore not high\n",
        "\n",
        "5. Would we know this BEFORE the target is determined?\n",
        "  - ...Yes\n",
        "\n",
        "6. Is there a business case/understanding reason to exclude based on our business case?\n",
        "  - ...No, the amount of sales based on Fat content can be a determining factor\n",
        "\n"
      ],
      "metadata": {
        "id": "1lhqznMSMDCR"
      }
    },
    {
      "cell_type": "code",
      "source": [
        "#Check multivariate\n",
        "plot_categorical_vs_target(df, feature, target)"
      ],
      "metadata": {
        "id": "MLkBhqNCUgNo"
      },
      "execution_count": null,
      "outputs": []
    },
    {
      "cell_type": "markdown",
      "source": [
        "**Feature vs. Target Observations:**\n",
        "  - Based on your business understanding, would you expect this feature to be a predictor of the target?\n",
        "    - `...` Yes\n",
        "  - Does this feature appear to be a predictor of the target?\n",
        "    - `...` Yes, there are more Sales for a low fat\n"
      ],
      "metadata": {
        "id": "PbbymexRU5Ls"
      }
    },
    {
      "cell_type": "markdown",
      "source": [
        "### Feature Name: Item_Visibility : The percentage of total display area of all products in a store allocated to the particular product"
      ],
      "metadata": {
        "id": "nIDrWWbkRJsI"
      }
    },
    {
      "cell_type": "code",
      "source": [
        "#Confirming the dtype to select correct EDA function\n",
        "feature = \"Item_Visibility\"\n",
        "target = \"Item_Outlet_Sales\"\n",
        "\n",
        "df[feature].dtype"
      ],
      "metadata": {
        "id": "0ONnlTQqYoFL"
      },
      "execution_count": null,
      "outputs": []
    },
    {
      "cell_type": "code",
      "source": [
        "#Numerical field\n",
        "explore_numeric(df, feature, figsize=(6,5) )"
      ],
      "metadata": {
        "id": "rFjN8wYKYzCd"
      },
      "execution_count": null,
      "outputs": []
    },
    {
      "cell_type": "markdown",
      "source": [
        "**Feature Observations**\n",
        "\n",
        "1. What type of feature is it? (Categorical (nominal), ordinal, numeric)\n",
        "  - ...numeric\n",
        "\n",
        "2. How many null values? What percentage? What would you do with the null values (drop the rows? drop the column? impute? if impute, with what?)\n",
        "  - ...0 null values (0.0%).\n",
        "\n",
        "3. Is the feature constant or quasi-constant?\n",
        "  - ...No\n",
        "\n",
        "4. What is the cardinality? Is it high?\n",
        "  - ...cardinality does not apply to numeric\n",
        "\n",
        "5. Would we know this feature BEFORE the target is determined?\n",
        "  - ...Yes\n",
        "\n",
        "6. Is there a business case/understanding reason to exclude based on our business case?\n",
        "  - ...No, the visibility could still determine sales quantity."
      ],
      "metadata": {
        "id": "Xd3yL3_nZHpO"
      }
    },
    {
      "cell_type": "code",
      "source": [
        "#Multivariate based on target\n",
        "plot_numeric_vs_target(df,feature, target)"
      ],
      "metadata": {
        "id": "nK96aCpRaOkw"
      },
      "execution_count": null,
      "outputs": []
    },
    {
      "cell_type": "markdown",
      "source": [
        "**Feature vs. Target Observations:**\n",
        "  - Based on your business understanding, would you expect this feature to be a predictor of the target?\n",
        "    - `...` Yes\n",
        "  - Does this feature appear to be a predictor of the target?\n",
        "    - `...` No"
      ],
      "metadata": {
        "id": "5SU3PMEob42e"
      }
    },
    {
      "cell_type": "markdown",
      "source": [
        "### Feature Name: Item_Type : The category to which the product belongs"
      ],
      "metadata": {
        "id": "4-aQssx_cPVy"
      }
    },
    {
      "cell_type": "code",
      "source": [
        "#Confirming the dtype to select correct EDA function\n",
        "feature = \"Item_Type\"\n",
        "target = \"Item_Outlet_Sales\"\n",
        "\n",
        "df[feature].dtype"
      ],
      "metadata": {
        "id": "RsCS_qbpcmyL"
      },
      "execution_count": null,
      "outputs": []
    },
    {
      "cell_type": "code",
      "source": [
        "#Check column names\n",
        "df[feature].value_counts()"
      ],
      "metadata": {
        "id": "g8mdbCIAc0xz"
      },
      "execution_count": null,
      "outputs": []
    },
    {
      "cell_type": "code",
      "source": [
        "# run the appropriate explore function (based on feature's dtype)\n",
        "explore_categorical(df, feature)"
      ],
      "metadata": {
        "id": "IiLyNO_GdNz1"
      },
      "execution_count": null,
      "outputs": []
    },
    {
      "cell_type": "markdown",
      "source": [
        "**Feature Observations**\n",
        "\n",
        "1. What type of feature is it? (Categorical (nominal), ordinal, numeric)\n",
        "  - ...Categorical\n",
        "\n",
        "2. How many null values? What percentage? What would you do with the null values (drop the rows? drop the column? impute? if impute, with what?)\n",
        "  - ...0 null values (0%).\n",
        "\n",
        "3. Is the feature constant or quasi-constant?\n",
        "  - ...No\n",
        "\n",
        "4. What is the cardinality? Is it high?\n",
        "  - ...Yes, more than 10 therefore high\n",
        "\n",
        "5. Would we know this feature BEFORE the target is determined?\n",
        "  - ...Yes\n",
        "\n",
        "6. Is there a business case/understanding reason to exclude based on our business case?\n",
        "  - ...No, the amount of sales based on category can be a determining factor\n",
        "\n"
      ],
      "metadata": {
        "id": "utq9Qd3NdpXh"
      }
    },
    {
      "cell_type": "code",
      "source": [
        "# Run the appropriate feature vs. target function (based on dtype)\n",
        "plot_categorical_vs_target(df, feature, target)"
      ],
      "metadata": {
        "id": "vK76Ri60MDCR"
      },
      "execution_count": null,
      "outputs": []
    },
    {
      "cell_type": "markdown",
      "source": [
        "**Feature vs. Target Observations:**\n",
        "  - Based on your business understanding, would you expect this feature to be a predictor of the target?\n",
        "    - `...` Yes\n",
        "  - Does this feature appear to be a predictor of the target?\n",
        "    - `...` Yes, there are more sales for a popular types\n",
        "\n",
        "___"
      ],
      "metadata": {
        "id": "Zs5ZcvkDL1r7"
      }
    },
    {
      "cell_type": "markdown",
      "source": [
        "### Feature Name: Item_MRP : Item_MRP Maximum Retail Price (list price) of the product Outlet_Identifier Store ID"
      ],
      "metadata": {
        "id": "jzBjEzZTf13T"
      }
    },
    {
      "cell_type": "code",
      "source": [
        "#Confirming the dtype to select correct EDA function\n",
        "feature = \"Item_MRP\"\n",
        "target = \"Item_Outlet_Sales\"\n",
        "\n",
        "df[feature].dtype"
      ],
      "metadata": {
        "id": "hIWsbhSCgZ92"
      },
      "execution_count": null,
      "outputs": []
    },
    {
      "cell_type": "code",
      "source": [
        "#Numerical field\n",
        "explore_numeric(df, feature, figsize=(6,5) )"
      ],
      "metadata": {
        "id": "M5JL-y6JgfyU"
      },
      "execution_count": null,
      "outputs": []
    },
    {
      "cell_type": "markdown",
      "source": [
        "**Feature Observations**\n",
        "\n",
        "1. What type of feature is it? (Categorical (nominal), ordinal, numeric)\n",
        "  - ...numeric\n",
        "\n",
        "2. How many null values? What percentage? What would you do with the null values (drop the rows? drop the column? impute? if impute, with what?)\n",
        "  - ...0 null values (0.0%).\n",
        "\n",
        "3. Is the feature constant or quasi-constant?\n",
        "  - ...No\n",
        "\n",
        "4. What is the cardinality? Is it high?\n",
        "  - ...cardinality does not apply to numeric\n",
        "\n",
        "5. Would we know this feature BEFORE the target is determined?\n",
        "  - ...Yes\n",
        "\n",
        "6. Is there a business case/understanding reason to exclude based on our business case?\n",
        "  - ...No, retail price could still determine sales."
      ],
      "metadata": {
        "id": "W8kmmZhsgmjo"
      }
    },
    {
      "cell_type": "code",
      "source": [
        "#Multivariate based on target\n",
        "plot_numeric_vs_target(df,feature, target)"
      ],
      "metadata": {
        "id": "xh2hTRRDjgWR"
      },
      "execution_count": null,
      "outputs": []
    },
    {
      "cell_type": "markdown",
      "source": [
        "**Feature vs. Target Observations**\n",
        "  - Based on your business understanding, would you expect this feature to be a predictor of the target?\n",
        "    - `...` Yes\n",
        "  - Does this feature appear to be a predictor of the target?\n",
        "    - `...` Yes"
      ],
      "metadata": {
        "id": "rIlD3PMjjq4w"
      }
    },
    {
      "cell_type": "markdown",
      "source": [
        "### Feature Name: Outlet_Establishment_Year: The year in which store was established"
      ],
      "metadata": {
        "id": "1u6L0hAwj5bN"
      }
    },
    {
      "cell_type": "code",
      "source": [
        "#Confirming the dtype to select correct EDA function\n",
        "feature = \"Outlet_Establishment_Year\"\n",
        "target = \"Item_Outlet_Sales\"\n",
        "\n",
        "df[feature].dtype"
      ],
      "metadata": {
        "colab": {
          "base_uri": "https://localhost:8080/"
        },
        "id": "n9739oCckI4Q",
        "outputId": "fa430d2e-418c-4799-c4e1-4d02116cd340"
      },
      "execution_count": 105,
      "outputs": [
        {
          "output_type": "execute_result",
          "data": {
            "text/plain": [
              "dtype('int64')"
            ]
          },
          "metadata": {},
          "execution_count": 105
        }
      ]
    },
    {
      "cell_type": "code",
      "source": [
        "#Numerical field\n",
        "explore_numeric(df, feature, figsize=(6,5) )"
      ],
      "metadata": {
        "id": "XsRZBaOjkbr2"
      },
      "execution_count": null,
      "outputs": []
    },
    {
      "cell_type": "markdown",
      "source": [
        "**Feature Observations**\n",
        "\n",
        "1. What type of feature is it? (Categorical (nominal), ordinal, numeric)\n",
        "  - ...numeric\n",
        "\n",
        "2. How many null values? What percentage? What would you do with the null values (drop the rows? drop the column? impute? if impute, with what?)\n",
        "  - ...0 null values (0.0%).\n",
        "\n",
        "3. Is the feature constant or quasi-constant?\n",
        "  - ...No\n",
        "\n",
        "4. What is the cardinality? Is it high?\n",
        "  - ...cardinality does not apply to numeric\n",
        "\n",
        "5. Would we know this feature BEFORE the target is determined?\n",
        "  - ...Yes\n",
        "\n",
        "6. Is there a business case/understanding reason to exclude based on our business case?\n",
        "  - ...No, Well established Outlets could have more sales."
      ],
      "metadata": {
        "id": "pYzvJB9OkmLh"
      }
    },
    {
      "cell_type": "code",
      "source": [
        "#Multivariate based on target\n",
        "plot_numeric_vs_target(df,feature, target)"
      ],
      "metadata": {
        "id": "LUIHpw7dlLdE"
      },
      "execution_count": null,
      "outputs": []
    },
    {
      "cell_type": "markdown",
      "source": [
        "**Feature vs. Target Observations**\n",
        "  - Based on your business understanding, would you expect this feature to be a predictor of the target?\n",
        "    - `...` Yes\n",
        "  - Does this feature appear to be a predictor of the target?\n",
        "    - `...` Yes"
      ],
      "metadata": {
        "id": "fu1sV_xylU5J"
      }
    },
    {
      "cell_type": "markdown",
      "source": [
        "### Feature Name: Outlet_Size: The size of the store in terms of ground area covered"
      ],
      "metadata": {
        "id": "c7ROHL1mlqTF"
      }
    },
    {
      "cell_type": "code",
      "source": [
        "#Confirming the dtype to select correct EDA function\n",
        "feature = \"Outlet_Size\"\n",
        "target = \"Item_Outlet_Sales\"\n",
        "\n",
        "df[feature].dtype"
      ],
      "metadata": {
        "colab": {
          "base_uri": "https://localhost:8080/"
        },
        "id": "2LWGdvKWmK94",
        "outputId": "435835f5-b133-4955-e454-99826ac046a8"
      },
      "execution_count": 107,
      "outputs": [
        {
          "output_type": "execute_result",
          "data": {
            "text/plain": [
              "dtype('O')"
            ]
          },
          "metadata": {},
          "execution_count": 107
        }
      ]
    },
    {
      "cell_type": "code",
      "source": [
        "#Check column names\n",
        "df[feature].value_counts()"
      ],
      "metadata": {
        "colab": {
          "base_uri": "https://localhost:8080/"
        },
        "id": "EQjNPoMfmYXJ",
        "outputId": "4c766560-ee02-4118-e9b3-111e311f6961"
      },
      "execution_count": 103,
      "outputs": [
        {
          "output_type": "execute_result",
          "data": {
            "text/plain": [
              "Medium    2793\n",
              "Small     2388\n",
              "High       932\n",
              "Name: Outlet_Size, dtype: int64"
            ]
          },
          "metadata": {},
          "execution_count": 103
        }
      ]
    },
    {
      "cell_type": "code",
      "source": [
        "# run the appropriate explore function (based on feature's dtype)\n",
        "explore_categorical(df, feature)"
      ],
      "metadata": {
        "colab": {
          "base_uri": "https://localhost:8080/",
          "height": 511
        },
        "id": "RiqzkFqEmePd",
        "outputId": "d8df1b54-fcc8-409a-91fa-5527305cb566"
      },
      "execution_count": 104,
      "outputs": [
        {
          "output_type": "display_data",
          "data": {
            "text/plain": [
              "<Figure size 600x400 with 1 Axes>"
            ],
            "image/png": "[encoded data removed]"
          },
          "metadata": {}
        },
        {
          "output_type": "stream",
          "name": "stdout",
          "text": [
            "- NaN's Found: 2410 (28.28%)\n",
            "- Unique Values: 4\n",
            "- Most common value: 'Medium' occurs 2793 times (32.77%)\n",
            "- Not constant or quasi-constant.\n"
          ]
        },
        {
          "output_type": "execute_result",
          "data": {
            "text/plain": [
              "(<Figure size 600x400 with 1 Axes>,\n",
              " <Axes: title={'center': 'Column: Outlet_Size'}, xlabel='Outlet_Size', ylabel='count'>)"
            ]
          },
          "metadata": {},
          "execution_count": 104
        }
      ]
    },
    {
      "cell_type": "markdown",
      "source": [
        "**Feature Observations**\n",
        "\n",
        "1. What type of feature is it? (Categorical (nominal), ordinal, numeric)\n",
        "  - ...Categorical\n",
        "\n",
        "2. How many null values? What percentage? What would you do with the null values (drop the rows? drop the column? impute? if impute, with what?)\n",
        "  - ...2410 null values (28.28%). Impute High and MISSING to indicate Large\n",
        "\n",
        "3. Is the feature constant or quasi-constant?\n",
        "  - ...No\n",
        "\n",
        "4. What is the cardinality? Is it high?\n",
        "  - ...4, low\n",
        "\n",
        "5. Would we know this feature BEFORE the target is determined?\n",
        "  - ...Yes\n",
        "\n",
        "6. Is there a business case/understanding reason to exclude based on our business case?\n",
        "  - ...No, the amount of sales based on size of outlet can be a determining factor\n",
        "\n"
      ],
      "metadata": {
        "id": "oM3HOtR5ryx4"
      }
    },
    {
      "cell_type": "code",
      "source": [
        "# Run the appropriate feature vs. target function (based on dtype)\n",
        "plot_categorical_vs_target(df, feature, target)"
      ],
      "metadata": {
        "colab": {
          "base_uri": "https://localhost:8080/",
          "height": 442
        },
        "id": "mmNi2055s_jg",
        "outputId": "51f1294b-33e6-4cf5-8b5d-9cd3499a688b"
      },
      "execution_count": 108,
      "outputs": [
        {
          "output_type": "execute_result",
          "data": {
            "text/plain": [
              "(<Figure size 600x400 with 1 Axes>,\n",
              " <Axes: title={'center': 'Outlet_Size vs. Item_Outlet_Sales'}, xlabel='Outlet_Size', ylabel='Item_Outlet_Sales'>)"
            ]
          },
          "metadata": {},
          "execution_count": 108
        },
        {
          "output_type": "display_data",
          "data": {
            "text/plain": [
              "<Figure size 600x400 with 1 Axes>"
            ],
            "image/png": "[encoded data removed]"
          },
          "metadata": {}
        }
      ]
    },
    {
      "cell_type": "markdown",
      "source": [
        "**Feature vs. Target Observations:**\n",
        "  - Based on your business understanding, would you expect this feature to be a predictor of the target?\n",
        "    - `...` Yes\n",
        "  - Does this feature appear to be a predictor of the target?\n",
        "    - `...` No, there are more sales medium sized outlets\n",
        "\n",
        "___"
      ],
      "metadata": {
        "id": "Q2feXHndtN-U"
      }
    },
    {
      "cell_type": "markdown",
      "source": [
        "### Feature Name: Outlet_Location_Type: The type of area in which the store is located"
      ],
      "metadata": {
        "id": "UuFBHlUttfKP"
      }
    },
    {
      "cell_type": "code",
      "source": [
        "#Confirming the dtype to select correct EDA function\n",
        "feature = \"Outlet_Location_Type\"\n",
        "target = \"Item_Outlet_Sales\"\n",
        "\n",
        "df[feature].dtype"
      ],
      "metadata": {
        "colab": {
          "base_uri": "https://localhost:8080/"
        },
        "id": "tz9c2T45toFM",
        "outputId": "9e3590ea-84db-400f-98d8-50531bc88e39"
      },
      "execution_count": 109,
      "outputs": [
        {
          "output_type": "execute_result",
          "data": {
            "text/plain": [
              "dtype('O')"
            ]
          },
          "metadata": {},
          "execution_count": 109
        }
      ]
    },
    {
      "cell_type": "code",
      "source": [
        "#Check column names\n",
        "df[feature].value_counts()"
      ],
      "metadata": {
        "colab": {
          "base_uri": "https://localhost:8080/"
        },
        "id": "rxg2UHZGt5C-",
        "outputId": "a6b8d942-bc71-4ea8-853a-07ccab761192"
      },
      "execution_count": 110,
      "outputs": [
        {
          "output_type": "execute_result",
          "data": {
            "text/plain": [
              "Tier 3    3350\n",
              "Tier 2    2785\n",
              "Tier 1    2388\n",
              "Name: Outlet_Location_Type, dtype: int64"
            ]
          },
          "metadata": {},
          "execution_count": 110
        }
      ]
    },
    {
      "cell_type": "code",
      "source": [
        "# run the appropriate explore function (based on feature's dtype)\n",
        "explore_categorical(df, feature, order = ['Tier 1','Tier 2','Tier 3'])"
      ],
      "metadata": {
        "colab": {
          "base_uri": "https://localhost:8080/",
          "height": 511
        },
        "id": "sYQGK138uDi7",
        "outputId": "964d8f36-1fbd-4326-e5b6-ebdc01d74adc"
      },
      "execution_count": 112,
      "outputs": [
        {
          "output_type": "display_data",
          "data": {
            "text/plain": [
              "<Figure size 600x400 with 1 Axes>"
            ],
            "image/png": "[encoded data removed]"
          },
          "metadata": {}
        },
        {
          "output_type": "stream",
          "name": "stdout",
          "text": [
            "- NaN's Found: 0 (0.0%)\n",
            "- Unique Values: 3\n",
            "- Most common value: 'Tier 3' occurs 3350 times (39.31%)\n",
            "- Not constant or quasi-constant.\n"
          ]
        },
        {
          "output_type": "execute_result",
          "data": {
            "text/plain": [
              "(<Figure size 600x400 with 1 Axes>,\n",
              " <Axes: title={'center': 'Column: Outlet_Location_Type'}, xlabel='Outlet_Location_Type', ylabel='count'>)"
            ]
          },
          "metadata": {},
          "execution_count": 112
        }
      ]
    },
    {
      "cell_type": "markdown",
      "source": [
        "**Feature Observations**\n",
        "\n",
        "1. What type of feature is it? (Categorical (nominal), ordinal, numeric)\n",
        "  - ...Ordinal\n",
        "\n",
        "2. How many null values? What percentage? What would you do with the null values (drop the rows? drop the column? impute? if impute, with what?)\n",
        "  - ...0 null values (0%).\n",
        "\n",
        "3. Is the feature constant or quasi-constant?\n",
        "  - ...No\n",
        "\n",
        "4. What is the cardinality? Is it high?\n",
        "  - ...No\n",
        "\n",
        "5. Would we know this feature BEFORE the target is determined?\n",
        "  - ...Yes\n",
        "\n",
        "6. Is there a business case/understanding reason to exclude based on our business case?\n",
        "  - ...No, the amount of sales based on location can be a determining factor\n",
        "\n"
      ],
      "metadata": {
        "id": "x7m-6Je4uk7R"
      }
    },
    {
      "cell_type": "code",
      "source": [
        "# Run the appropriate feature vs. target function (based on dtype)\n",
        "plot_categorical_vs_target(df, feature, target,order = ['Tier 1','Tier 2','Tier 3'])"
      ],
      "metadata": {
        "colab": {
          "base_uri": "https://localhost:8080/",
          "height": 442
        },
        "id": "ghlupNp-vEZq",
        "outputId": "30d6c09f-aa8a-425b-9508-2c8ff96710b0"
      },
      "execution_count": 114,
      "outputs": [
        {
          "output_type": "execute_result",
          "data": {
            "text/plain": [
              "(<Figure size 600x400 with 1 Axes>,\n",
              " <Axes: title={'center': 'Outlet_Location_Type vs. Item_Outlet_Sales'}, xlabel='Outlet_Location_Type', ylabel='Item_Outlet_Sales'>)"
            ]
          },
          "metadata": {},
          "execution_count": 114
        },
        {
          "output_type": "display_data",
          "data": {
            "text/plain": [
              "<Figure size 600x400 with 1 Axes>"
            ],
            "image/png": "[encoded data removed]"
          },
          "metadata": {}
        }
      ]
    },
    {
      "cell_type": "markdown",
      "source": [
        "**Feature vs. Target Observations:**\n",
        "  - Based on your business understanding, would you expect this feature to be a predictor of the target?\n",
        "    - `...` Yes\n",
        "  - Does this feature appear to be a predictor of the target?\n",
        "    - `...` Yes, there are more sales for a higher income areas that are in better lcoations\n",
        "\n",
        "___"
      ],
      "metadata": {
        "id": "Iy0Y4QTPvKJu"
      }
    },
    {
      "cell_type": "markdown",
      "source": [
        "### Feature Name: Outlet_Type: Whether the outlet is a grocery store or some sort of supermarket"
      ],
      "metadata": {
        "id": "hJmEiScuvuqF"
      }
    },
    {
      "cell_type": "code",
      "source": [
        "#Confirming the dtype to select correct EDA function\n",
        "feature = \"Outlet_Type\"\n",
        "target = \"Item_Outlet_Sales\"\n",
        "\n",
        "df[feature].dtype"
      ],
      "metadata": {
        "colab": {
          "base_uri": "https://localhost:8080/"
        },
        "id": "TXUKKnm8v_KF",
        "outputId": "9dff7d48-5337-4e9b-c08d-501ea2b98814"
      },
      "execution_count": 115,
      "outputs": [
        {
          "output_type": "execute_result",
          "data": {
            "text/plain": [
              "dtype('O')"
            ]
          },
          "metadata": {},
          "execution_count": 115
        }
      ]
    },
    {
      "cell_type": "code",
      "source": [
        "#Check column names\n",
        "df[feature].value_counts()"
      ],
      "metadata": {
        "colab": {
          "base_uri": "https://localhost:8080/"
        },
        "id": "CiAXs8jKwDmG",
        "outputId": "58970f2b-38f7-4134-c6b8-b30f91019f5e"
      },
      "execution_count": 116,
      "outputs": [
        {
          "output_type": "execute_result",
          "data": {
            "text/plain": [
              "Supermarket Type1    5577\n",
              "Grocery Store        1083\n",
              "Supermarket Type3     935\n",
              "Supermarket Type2     928\n",
              "Name: Outlet_Type, dtype: int64"
            ]
          },
          "metadata": {},
          "execution_count": 116
        }
      ]
    },
    {
      "cell_type": "code",
      "source": [
        "# run the appropriate explore function (based on feature's dtype)\n",
        "explore_categorical(df, feature)"
      ],
      "metadata": {
        "colab": {
          "base_uri": "https://localhost:8080/",
          "height": 511
        },
        "id": "rth1FnG_wImH",
        "outputId": "fc9c6344-6977-4f1a-abe5-e056c933f27b"
      },
      "execution_count": 117,
      "outputs": [
        {
          "output_type": "display_data",
          "data": {
            "text/plain": [
              "<Figure size 600x400 with 1 Axes>"
            ],
            "image/png": "[encoded data removed]"
          },
          "metadata": {}
        },
        {
          "output_type": "stream",
          "name": "stdout",
          "text": [
            "- NaN's Found: 0 (0.0%)\n",
            "- Unique Values: 4\n",
            "- Most common value: 'Supermarket Type1' occurs 5577 times (65.43%)\n",
            "- Not constant or quasi-constant.\n"
          ]
        },
        {
          "output_type": "execute_result",
          "data": {
            "text/plain": [
              "(<Figure size 600x400 with 1 Axes>,\n",
              " <Axes: title={'center': 'Column: Outlet_Type'}, xlabel='Outlet_Type', ylabel='count'>)"
            ]
          },
          "metadata": {},
          "execution_count": 117
        }
      ]
    },
    {
      "cell_type": "markdown",
      "source": [
        "**Feature Observations**\n",
        "\n",
        "1. What type of feature is it? (Categorical (nominal), ordinal, numeric)\n",
        "  - ...Categorical\n",
        "\n",
        "2. How many null values? What percentage? What would you do with the null values (drop the rows? drop the column? impute? if impute, with what?)\n",
        "  - ...0 null values (0.0%).\n",
        "\n",
        "3. Is the feature constant or quasi-constant?\n",
        "  - ...No\n",
        "\n",
        "4. What is the cardinality? Is it high?\n",
        "  - ...cardinality is low\n",
        "\n",
        "5. Would we know this feature BEFORE the target is determined?\n",
        "  - ...Yes\n",
        "\n",
        "6. Is there a business case/understanding reason to exclude based on our business case?\n",
        "  - ...No, the supermarket type is delirectly related to sales amount."
      ],
      "metadata": {
        "id": "hCmjtVuZty8s"
      }
    },
    {
      "cell_type": "code",
      "source": [
        "#Run the appropriate feature vs. target function (based on dtype)\n",
        "plot_categorical_vs_target(df, feature, target)"
      ],
      "metadata": {
        "colab": {
          "base_uri": "https://localhost:8080/",
          "height": 442
        },
        "id": "q0nUcaDQu5c2",
        "outputId": "2a500971-bdd7-4947-cf97-a214d551ecc0"
      },
      "execution_count": 120,
      "outputs": [
        {
          "output_type": "execute_result",
          "data": {
            "text/plain": [
              "(<Figure size 600x400 with 1 Axes>,\n",
              " <Axes: title={'center': 'Outlet_Type vs. Item_Outlet_Sales'}, xlabel='Outlet_Type', ylabel='Item_Outlet_Sales'>)"
            ]
          },
          "metadata": {},
          "execution_count": 120
        },
        {
          "output_type": "display_data",
          "data": {
            "text/plain": [
              "<Figure size 600x400 with 1 Axes>"
            ],
            "image/png": "[encoded data removed]"
          },
          "metadata": {}
        }
      ]
    },
    {
      "cell_type": "markdown",
      "source": [
        "- Feature vs. Target Observations:\n",
        "  - Based on your business understanding, would you expect this feature to be a predictor of the target?\n",
        "    - `...` Yes\n",
        "  - Does this feature appear to be a predictor of the target?\n",
        "    - `...` Yes, Type 3 has more sales due to it's type of store"
      ],
      "metadata": {
        "id": "DkoqY0PqvQw-"
      }
    }
  ]
}