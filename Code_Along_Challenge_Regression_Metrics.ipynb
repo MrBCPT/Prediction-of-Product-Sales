{
  "nbformat": 4,
  "nbformat_minor": 0,
  "metadata": {
    "colab": {
      "provenance": [],
      "collapsed_sections": [
        "szo2w00n-624",
        "SmQ1TqM2Jd3s",
        "COxmz04b-cf0",
        "FLhgHU1v-wJc"
      ],
      "include_colab_link": true
    },
    "kernelspec": {
      "name": "python3",
      "display_name": "Python 3"
    },
    "gpuClass": "standard"
  },
  "cells": [
    {
      "cell_type": "markdown",
      "metadata": {
        "id": "view-in-github",
        "colab_type": "text"
      },
      "source": [
        "<a href=\"https://colab.research.google.com/github/MrBCPT/Prediction-of-Product-Sales/blob/main/Code_Along_Challenge_Regression_Metrics.ipynb\" target=\"_parent\"><img src=\"https://colab.research.google.com/assets/colab-badge.svg\" alt=\"Open In Colab\"/></a>"
      ]
    },
    {
      "cell_type": "markdown",
      "source": [
        "# **Regression Metrics**\n",
        "- **Umuzi**\n",
        "- **Course 2 - Moderate Machine Learning**\n",
        "- **Week 2 - Lecture 1**"
      ],
      "metadata": {
        "id": "PMFj-fnLvm74"
      }
    },
    {
      "cell_type": "markdown",
      "source": [
        "## **Project Desciption**"
      ],
      "metadata": {
        "id": "6Sc-J4SrxcNk"
      }
    },
    {
      "cell_type": "markdown",
      "metadata": {
        "id": "M3wwYi6u_VU3"
      },
      "source": [
        "### **Task**\n",
        "- The objective of this project is to predict the 'mpg' of a car.\n"
      ]
    },
    {
      "cell_type": "markdown",
      "source": [
        "### **Data Dictionary:**\n",
        "\n",
        "**Attribute** | **Description**  \n",
        "--- | ---\n",
        "model | model of the car\n",
        "price | price car last sold for\n",
        "transmission | transmission type: Automatic or Manual\n",
        "mileage | current mileage of the car\n",
        "fuelType | fuel type the car runs on\n",
        "tax | tax paid on car at last sale\n",
        "mpg | miles per gallon of car (target)\n",
        "engineSize | size of engine in cubic litres"
      ],
      "metadata": {
        "id": "yUErOHY0yeXc"
      }
    },
    {
      "cell_type": "markdown",
      "metadata": {
        "id": "_A7msLwr_4TA"
      },
      "source": [
        "### **Import Libraries**"
      ]
    },
    {
      "cell_type": "code",
      "metadata": {
        "id": "1qqHcPH56CaM"
      },
      "source": [
        "## Pandas\n",
        "import pandas as pd\n",
        "## Numpy\n",
        "import numpy as np\n",
        "\n",
        "## Preprocessing\n",
        "from sklearn.model_selection import train_test_split\n",
        "from sklearn.compose import make_column_selector\n",
        "from sklearn.preprocessing import StandardScaler, OneHotEncoder\n",
        "from sklearn.pipeline import make_pipeline\n",
        "from sklearn.compose import ColumnTransformer\n",
        "\n",
        "## Models\n",
        "from sklearn.dummy import DummyRegressor\n",
        "from sklearn.linear_model import LinearRegression\n",
        "\n",
        "## Regression Metrics\n",
        "from sklearn.metrics import r2_score\n",
        "from sklearn.metrics import mean_absolute_error\n",
        "from sklearn.metrics import mean_squared_error\n",
        "\n",
        "## Set global scikit-learn configuration\n",
        "from sklearn import set_config\n",
        "## Display estimators as a diagram\n",
        "set_config(display='diagram') # 'text' or 'diagram'}"
      ],
      "execution_count": null,
      "outputs": []
    },
    {
      "cell_type": "markdown",
      "source": [
        "### **Functions**"
      ],
      "metadata": {
        "id": "Oq-B_ZRiy0zu"
      }
    },
    {
      "cell_type": "code",
      "source": [
        "## Create a function to take the true and predicted values\n",
        "## and print MAE, MSE, RMSE, and R2 metrics for a model\n",
        "def eval_regression(y_true, y_pred, name='model'):\n",
        "  \"\"\"Takes true targets and predictions from a regression model and prints\n",
        "  MAE, MSE, RMSE, AND R2 scores\n",
        "  Set 'name' to name of model and 'train' or 'test' as appropriate\"\"\"\n",
        "  mae = mean_absolute_error(y_true, y_pred)\n",
        "  mse = mean_squared_error(y_true, y_pred)\n",
        "  rmse = np.sqrt(mse)\n",
        "  r2 = r2_score(y_true, y_pred)\n",
        "\n",
        "  print(f'{name} Scores')\n",
        "  print(f'MAE: {mae:,.4f} \\nMSE: {mse:,.4f} \\nRMSE: {rmse:,.4f} \\nR2: {r2:.4f}\\n')"
      ],
      "metadata": {
        "id": "jcIDMS5HDHx7"
      },
      "execution_count": null,
      "outputs": []
    },
    {
      "cell_type": "markdown",
      "source": [
        "## **1. Load and inspect the data**"
      ],
      "metadata": {
        "id": "G9Ek4ZmQwzbY"
      }
    },
    {
      "cell_type": "markdown",
      "source": [
        "### **Load the Data**"
      ],
      "metadata": {
        "id": "chE67Xz-9MZp"
      }
    },
    {
      "cell_type": "code",
      "metadata": {
        "id": "x0N_O7tr5WV8"
      },
      "source": [
        "## Load Data\n",
        "path = 'https://docs.google.com/spreadsheets/d/e/2PACX-1vS2dIT3WEj2j4nSpai7K0wSCwFc_hQBYQR6Xf10VtnyI64EItM9SWxN1UFU_XhrkWdUp6ayrUOoJSgY/pub?output=csv'\n",
        "df = pd.read_csv(path)"
      ],
      "execution_count": null,
      "outputs": []
    },
    {
      "cell_type": "markdown",
      "source": [
        "### **Inspect the Data**"
      ],
      "metadata": {
        "id": "TWv7Eua09QWO"
      }
    },
    {
      "cell_type": "code",
      "source": [
        "## Display the first (5) rows of the dataframe\n",
        "df.head()"
      ],
      "metadata": {
        "id": "peyw3fkk1NdC",
        "colab": {
          "base_uri": "https://localhost:8080/",
          "height": 206
        },
        "outputId": "6b24077c-8b85-4597-85d4-651e1a348083"
      },
      "execution_count": null,
      "outputs": [
        {
          "output_type": "execute_result",
          "data": {
            "text/plain": [
              "      model  year  price transmission  mileage fuelType  tax   mpg  engineSize\n",
              "0       SLK  2005   5200    Automatic    63000   Petrol  325  32.1         1.8\n",
              "1   S Class  2017  34948    Automatic    27000   Hybrid   20  61.4         2.1\n",
              "2  SL CLASS  2016  49948    Automatic     6200   Petrol  555  28.0         5.5\n",
              "3   G Class  2016  61948    Automatic    16000   Petrol  325  30.4         4.0\n",
              "4   G Class  2016  73948    Automatic     4000   Petrol  325  30.1         4.0"
            ],
            "text/html": [
              "\n",
              "  <div id=\"df-d62018ec-57e8-477a-86a1-04ba12f8ea4f\">\n",
              "    <div class=\"colab-df-container\">\n",
              "      <div>\n",
              "<style scoped>\n",
              "    .dataframe tbody tr th:only-of-type {\n",
              "        vertical-align: middle;\n",
              "    }\n",
              "\n",
              "    .dataframe tbody tr th {\n",
              "        vertical-align: top;\n",
              "    }\n",
              "\n",
              "    .dataframe thead th {\n",
              "        text-align: right;\n",
              "    }\n",
              "</style>\n",
              "<table border=\"1\" class=\"dataframe\">\n",
              "  <thead>\n",
              "    <tr style=\"text-align: right;\">\n",
              "      <th></th>\n",
              "      <th>model</th>\n",
              "      <th>year</th>\n",
              "      <th>price</th>\n",
              "      <th>transmission</th>\n",
              "      <th>mileage</th>\n",
              "      <th>fuelType</th>\n",
              "      <th>tax</th>\n",
              "      <th>mpg</th>\n",
              "      <th>engineSize</th>\n",
              "    </tr>\n",
              "  </thead>\n",
              "  <tbody>\n",
              "    <tr>\n",
              "      <th>0</th>\n",
              "      <td>SLK</td>\n",
              "      <td>2005</td>\n",
              "      <td>5200</td>\n",
              "      <td>Automatic</td>\n",
              "      <td>63000</td>\n",
              "      <td>Petrol</td>\n",
              "      <td>325</td>\n",
              "      <td>32.1</td>\n",
              "      <td>1.8</td>\n",
              "    </tr>\n",
              "    <tr>\n",
              "      <th>1</th>\n",
              "      <td>S Class</td>\n",
              "      <td>2017</td>\n",
              "      <td>34948</td>\n",
              "      <td>Automatic</td>\n",
              "      <td>27000</td>\n",
              "      <td>Hybrid</td>\n",
              "      <td>20</td>\n",
              "      <td>61.4</td>\n",
              "      <td>2.1</td>\n",
              "    </tr>\n",
              "    <tr>\n",
              "      <th>2</th>\n",
              "      <td>SL CLASS</td>\n",
              "      <td>2016</td>\n",
              "      <td>49948</td>\n",
              "      <td>Automatic</td>\n",
              "      <td>6200</td>\n",
              "      <td>Petrol</td>\n",
              "      <td>555</td>\n",
              "      <td>28.0</td>\n",
              "      <td>5.5</td>\n",
              "    </tr>\n",
              "    <tr>\n",
              "      <th>3</th>\n",
              "      <td>G Class</td>\n",
              "      <td>2016</td>\n",
              "      <td>61948</td>\n",
              "      <td>Automatic</td>\n",
              "      <td>16000</td>\n",
              "      <td>Petrol</td>\n",
              "      <td>325</td>\n",
              "      <td>30.4</td>\n",
              "      <td>4.0</td>\n",
              "    </tr>\n",
              "    <tr>\n",
              "      <th>4</th>\n",
              "      <td>G Class</td>\n",
              "      <td>2016</td>\n",
              "      <td>73948</td>\n",
              "      <td>Automatic</td>\n",
              "      <td>4000</td>\n",
              "      <td>Petrol</td>\n",
              "      <td>325</td>\n",
              "      <td>30.1</td>\n",
              "      <td>4.0</td>\n",
              "    </tr>\n",
              "  </tbody>\n",
              "</table>\n",
              "</div>\n",
              "      <button class=\"colab-df-convert\" onclick=\"convertToInteractive('df-d62018ec-57e8-477a-86a1-04ba12f8ea4f')\"\n",
              "              title=\"Convert this dataframe to an interactive table.\"\n",
              "              style=\"display:none;\">\n",
              "        \n",
              "  <svg xmlns=\"http://www.w3.org/2000/svg\" height=\"24px\"viewBox=\"0 0 24 24\"\n",
              "       width=\"24px\">\n",
              "    <path d=\"M0 0h24v24H0V0z\" fill=\"none\"/>\n",
              "    <path d=\"M18.56 5.44l.94 2.06.94-2.06 2.06-.94-2.06-.94-.94-2.06-.94 2.06-2.06.94zm-11 1L8.5 8.5l.94-2.06 2.06-.94-2.06-.94L8.5 2.5l-.94 2.06-2.06.94zm10 10l.94 2.06.94-2.06 2.06-.94-2.06-.94-.94-2.06-.94 2.06-2.06.94z\"/><path d=\"M17.41 7.96l-1.37-1.37c-.4-.4-.92-.59-1.43-.59-.52 0-1.04.2-1.43.59L10.3 9.45l-7.72 7.72c-.78.78-.78 2.05 0 2.83L4 21.41c.39.39.9.59 1.41.59.51 0 1.02-.2 1.41-.59l7.78-7.78 2.81-2.81c.8-.78.8-2.07 0-2.86zM5.41 20L4 18.59l7.72-7.72 1.47 1.35L5.41 20z\"/>\n",
              "  </svg>\n",
              "      </button>\n",
              "      \n",
              "  <style>\n",
              "    .colab-df-container {\n",
              "      display:flex;\n",
              "      flex-wrap:wrap;\n",
              "      gap: 12px;\n",
              "    }\n",
              "\n",
              "    .colab-df-convert {\n",
              "      background-color: #E8F0FE;\n",
              "      border: none;\n",
              "      border-radius: 50%;\n",
              "      cursor: pointer;\n",
              "      display: none;\n",
              "      fill: #1967D2;\n",
              "      height: 32px;\n",
              "      padding: 0 0 0 0;\n",
              "      width: 32px;\n",
              "    }\n",
              "\n",
              "    .colab-df-convert:hover {\n",
              "      background-color: #E2EBFA;\n",
              "      box-shadow: 0px 1px 2px rgba(60, 64, 67, 0.3), 0px 1px 3px 1px rgba(60, 64, 67, 0.15);\n",
              "      fill: #174EA6;\n",
              "    }\n",
              "\n",
              "    [theme=dark] .colab-df-convert {\n",
              "      background-color: #3B4455;\n",
              "      fill: #D2E3FC;\n",
              "    }\n",
              "\n",
              "    [theme=dark] .colab-df-convert:hover {\n",
              "      background-color: #434B5C;\n",
              "      box-shadow: 0px 1px 3px 1px rgba(0, 0, 0, 0.15);\n",
              "      filter: drop-shadow(0px 1px 2px rgba(0, 0, 0, 0.3));\n",
              "      fill: #FFFFFF;\n",
              "    }\n",
              "  </style>\n",
              "\n",
              "      <script>\n",
              "        const buttonEl =\n",
              "          document.querySelector('#df-d62018ec-57e8-477a-86a1-04ba12f8ea4f button.colab-df-convert');\n",
              "        buttonEl.style.display =\n",
              "          google.colab.kernel.accessAllowed ? 'block' : 'none';\n",
              "\n",
              "        async function convertToInteractive(key) {\n",
              "          const element = document.querySelector('#df-d62018ec-57e8-477a-86a1-04ba12f8ea4f');\n",
              "          const dataTable =\n",
              "            await google.colab.kernel.invokeFunction('convertToInteractive',\n",
              "                                                     [key], {});\n",
              "          if (!dataTable) return;\n",
              "\n",
              "          const docLinkHtml = 'Like what you see? Visit the ' +\n",
              "            '<a target=\"_blank\" href=https://colab.research.google.com/notebooks/data_table.ipynb>data table notebook</a>'\n",
              "            + ' to learn more about interactive tables.';\n",
              "          element.innerHTML = '';\n",
              "          dataTable['output_type'] = 'display_data';\n",
              "          await google.colab.output.renderOutput(dataTable, element);\n",
              "          const docLink = document.createElement('div');\n",
              "          docLink.innerHTML = docLinkHtml;\n",
              "          element.appendChild(docLink);\n",
              "        }\n",
              "      </script>\n",
              "    </div>\n",
              "  </div>\n",
              "  "
            ]
          },
          "metadata": {},
          "execution_count": 4
        }
      ]
    },
    {
      "cell_type": "markdown",
      "source": [
        "- The data appears to have loaded correctly."
      ],
      "metadata": {
        "id": "yY6ufaEA1Vvc"
      }
    },
    {
      "cell_type": "code",
      "metadata": {
        "id": "t9B91f1WH_AJ",
        "colab": {
          "base_uri": "https://localhost:8080/"
        },
        "outputId": "c94b6608-a556-4501-cd54-aa279a2d1eb2"
      },
      "source": [
        "## Display the number of rows and columns for the dataframe\n",
        "df.shape\n",
        "print(f'There are {df.shape[0]} rows, and {df.shape[1]} columns.')"
      ],
      "execution_count": null,
      "outputs": [
        {
          "output_type": "stream",
          "name": "stdout",
          "text": [
            "There are 13119 rows, and 9 columns.\n"
          ]
        }
      ]
    },
    {
      "cell_type": "code",
      "source": [
        "## Display the column names, count of non-null values, and their datatypes\n",
        "df.info()"
      ],
      "metadata": {
        "id": "y6K241S-1p5M",
        "colab": {
          "base_uri": "https://localhost:8080/"
        },
        "outputId": "1acdec8a-4df1-412b-a29e-0d6ddb524c9c"
      },
      "execution_count": null,
      "outputs": [
        {
          "output_type": "stream",
          "name": "stdout",
          "text": [
            "<class 'pandas.core.frame.DataFrame'>\n",
            "RangeIndex: 13119 entries, 0 to 13118\n",
            "Data columns (total 9 columns):\n",
            " #   Column        Non-Null Count  Dtype  \n",
            "---  ------        --------------  -----  \n",
            " 0   model         13119 non-null  object \n",
            " 1   year          13119 non-null  int64  \n",
            " 2   price         13119 non-null  int64  \n",
            " 3   transmission  13119 non-null  object \n",
            " 4   mileage       13119 non-null  int64  \n",
            " 5   fuelType      13119 non-null  object \n",
            " 6   tax           13119 non-null  int64  \n",
            " 7   mpg           13119 non-null  float64\n",
            " 8   engineSize    13119 non-null  float64\n",
            "dtypes: float64(2), int64(4), object(3)\n",
            "memory usage: 922.6+ KB\n"
          ]
        }
      ]
    },
    {
      "cell_type": "markdown",
      "source": [
        "- If there are no missing values we will not need to impute any.\n",
        " - We will not need to use SimpleImputer in our preprocessing steps.\n",
        "- All datatypes look correct.\n",
        "\n",
        "- **Never use fillna() to impute values prior to Train_Test_Split, as it would cause data leakage**"
      ],
      "metadata": {
        "id": "cSJD1uJqG7i4"
      }
    },
    {
      "cell_type": "code",
      "source": [
        "## Display the descriptive statistics for the numeric columns\n",
        "df.describe(include=\"number\") # or 'object'"
      ],
      "metadata": {
        "id": "AfOek3qk1uwa",
        "colab": {
          "base_uri": "https://localhost:8080/",
          "height": 300
        },
        "outputId": "9e150a55-eb0c-4147-b0be-04e7b6624510"
      },
      "execution_count": null,
      "outputs": [
        {
          "output_type": "execute_result",
          "data": {
            "text/plain": [
              "               year          price        mileage           tax           mpg  \\\n",
              "count  13119.000000   13119.000000   13119.000000  13119.000000  13119.000000   \n",
              "mean    2017.296288   24698.596920   21949.559037    129.972178     55.155843   \n",
              "std        2.224709   11842.675542   21176.512267     65.260286     15.220082   \n",
              "min     1970.000000     650.000000       1.000000      0.000000      1.100000   \n",
              "25%     2016.000000   17450.000000    6097.500000    125.000000     45.600000   \n",
              "50%     2018.000000   22480.000000   15189.000000    145.000000     56.500000   \n",
              "75%     2019.000000   28980.000000   31779.500000    145.000000     64.200000   \n",
              "max     2020.000000  159999.000000  259000.000000    580.000000    217.300000   \n",
              "\n",
              "         engineSize  \n",
              "count  13119.000000  \n",
              "mean       2.071530  \n",
              "std        0.572426  \n",
              "min        0.000000  \n",
              "25%        1.800000  \n",
              "50%        2.000000  \n",
              "75%        2.100000  \n",
              "max        6.200000  "
            ],
            "text/html": [
              "\n",
              "  <div id=\"df-9512100a-2309-43c5-919c-57dc734c6639\">\n",
              "    <div class=\"colab-df-container\">\n",
              "      <div>\n",
              "<style scoped>\n",
              "    .dataframe tbody tr th:only-of-type {\n",
              "        vertical-align: middle;\n",
              "    }\n",
              "\n",
              "    .dataframe tbody tr th {\n",
              "        vertical-align: top;\n",
              "    }\n",
              "\n",
              "    .dataframe thead th {\n",
              "        text-align: right;\n",
              "    }\n",
              "</style>\n",
              "<table border=\"1\" class=\"dataframe\">\n",
              "  <thead>\n",
              "    <tr style=\"text-align: right;\">\n",
              "      <th></th>\n",
              "      <th>year</th>\n",
              "      <th>price</th>\n",
              "      <th>mileage</th>\n",
              "      <th>tax</th>\n",
              "      <th>mpg</th>\n",
              "      <th>engineSize</th>\n",
              "    </tr>\n",
              "  </thead>\n",
              "  <tbody>\n",
              "    <tr>\n",
              "      <th>count</th>\n",
              "      <td>13119.000000</td>\n",
              "      <td>13119.000000</td>\n",
              "      <td>13119.000000</td>\n",
              "      <td>13119.000000</td>\n",
              "      <td>13119.000000</td>\n",
              "      <td>13119.000000</td>\n",
              "    </tr>\n",
              "    <tr>\n",
              "      <th>mean</th>\n",
              "      <td>2017.296288</td>\n",
              "      <td>24698.596920</td>\n",
              "      <td>21949.559037</td>\n",
              "      <td>129.972178</td>\n",
              "      <td>55.155843</td>\n",
              "      <td>2.071530</td>\n",
              "    </tr>\n",
              "    <tr>\n",
              "      <th>std</th>\n",
              "      <td>2.224709</td>\n",
              "      <td>11842.675542</td>\n",
              "      <td>21176.512267</td>\n",
              "      <td>65.260286</td>\n",
              "      <td>15.220082</td>\n",
              "      <td>0.572426</td>\n",
              "    </tr>\n",
              "    <tr>\n",
              "      <th>min</th>\n",
              "      <td>1970.000000</td>\n",
              "      <td>650.000000</td>\n",
              "      <td>1.000000</td>\n",
              "      <td>0.000000</td>\n",
              "      <td>1.100000</td>\n",
              "      <td>0.000000</td>\n",
              "    </tr>\n",
              "    <tr>\n",
              "      <th>25%</th>\n",
              "      <td>2016.000000</td>\n",
              "      <td>17450.000000</td>\n",
              "      <td>6097.500000</td>\n",
              "      <td>125.000000</td>\n",
              "      <td>45.600000</td>\n",
              "      <td>1.800000</td>\n",
              "    </tr>\n",
              "    <tr>\n",
              "      <th>50%</th>\n",
              "      <td>2018.000000</td>\n",
              "      <td>22480.000000</td>\n",
              "      <td>15189.000000</td>\n",
              "      <td>145.000000</td>\n",
              "      <td>56.500000</td>\n",
              "      <td>2.000000</td>\n",
              "    </tr>\n",
              "    <tr>\n",
              "      <th>75%</th>\n",
              "      <td>2019.000000</td>\n",
              "      <td>28980.000000</td>\n",
              "      <td>31779.500000</td>\n",
              "      <td>145.000000</td>\n",
              "      <td>64.200000</td>\n",
              "      <td>2.100000</td>\n",
              "    </tr>\n",
              "    <tr>\n",
              "      <th>max</th>\n",
              "      <td>2020.000000</td>\n",
              "      <td>159999.000000</td>\n",
              "      <td>259000.000000</td>\n",
              "      <td>580.000000</td>\n",
              "      <td>217.300000</td>\n",
              "      <td>6.200000</td>\n",
              "    </tr>\n",
              "  </tbody>\n",
              "</table>\n",
              "</div>\n",
              "      <button class=\"colab-df-convert\" onclick=\"convertToInteractive('df-9512100a-2309-43c5-919c-57dc734c6639')\"\n",
              "              title=\"Convert this dataframe to an interactive table.\"\n",
              "              style=\"display:none;\">\n",
              "        \n",
              "  <svg xmlns=\"http://www.w3.org/2000/svg\" height=\"24px\"viewBox=\"0 0 24 24\"\n",
              "       width=\"24px\">\n",
              "    <path d=\"M0 0h24v24H0V0z\" fill=\"none\"/>\n",
              "    <path d=\"M18.56 5.44l.94 2.06.94-2.06 2.06-.94-2.06-.94-.94-2.06-.94 2.06-2.06.94zm-11 1L8.5 8.5l.94-2.06 2.06-.94-2.06-.94L8.5 2.5l-.94 2.06-2.06.94zm10 10l.94 2.06.94-2.06 2.06-.94-2.06-.94-.94-2.06-.94 2.06-2.06.94z\"/><path d=\"M17.41 7.96l-1.37-1.37c-.4-.4-.92-.59-1.43-.59-.52 0-1.04.2-1.43.59L10.3 9.45l-7.72 7.72c-.78.78-.78 2.05 0 2.83L4 21.41c.39.39.9.59 1.41.59.51 0 1.02-.2 1.41-.59l7.78-7.78 2.81-2.81c.8-.78.8-2.07 0-2.86zM5.41 20L4 18.59l7.72-7.72 1.47 1.35L5.41 20z\"/>\n",
              "  </svg>\n",
              "      </button>\n",
              "      \n",
              "  <style>\n",
              "    .colab-df-container {\n",
              "      display:flex;\n",
              "      flex-wrap:wrap;\n",
              "      gap: 12px;\n",
              "    }\n",
              "\n",
              "    .colab-df-convert {\n",
              "      background-color: #E8F0FE;\n",
              "      border: none;\n",
              "      border-radius: 50%;\n",
              "      cursor: pointer;\n",
              "      display: none;\n",
              "      fill: #1967D2;\n",
              "      height: 32px;\n",
              "      padding: 0 0 0 0;\n",
              "      width: 32px;\n",
              "    }\n",
              "\n",
              "    .colab-df-convert:hover {\n",
              "      background-color: #E2EBFA;\n",
              "      box-shadow: 0px 1px 2px rgba(60, 64, 67, 0.3), 0px 1px 3px 1px rgba(60, 64, 67, 0.15);\n",
              "      fill: #174EA6;\n",
              "    }\n",
              "\n",
              "    [theme=dark] .colab-df-convert {\n",
              "      background-color: #3B4455;\n",
              "      fill: #D2E3FC;\n",
              "    }\n",
              "\n",
              "    [theme=dark] .colab-df-convert:hover {\n",
              "      background-color: #434B5C;\n",
              "      box-shadow: 0px 1px 3px 1px rgba(0, 0, 0, 0.15);\n",
              "      filter: drop-shadow(0px 1px 2px rgba(0, 0, 0, 0.3));\n",
              "      fill: #FFFFFF;\n",
              "    }\n",
              "  </style>\n",
              "\n",
              "      <script>\n",
              "        const buttonEl =\n",
              "          document.querySelector('#df-9512100a-2309-43c5-919c-57dc734c6639 button.colab-df-convert');\n",
              "        buttonEl.style.display =\n",
              "          google.colab.kernel.accessAllowed ? 'block' : 'none';\n",
              "\n",
              "        async function convertToInteractive(key) {\n",
              "          const element = document.querySelector('#df-9512100a-2309-43c5-919c-57dc734c6639');\n",
              "          const dataTable =\n",
              "            await google.colab.kernel.invokeFunction('convertToInteractive',\n",
              "                                                     [key], {});\n",
              "          if (!dataTable) return;\n",
              "\n",
              "          const docLinkHtml = 'Like what you see? Visit the ' +\n",
              "            '<a target=\"_blank\" href=https://colab.research.google.com/notebooks/data_table.ipynb>data table notebook</a>'\n",
              "            + ' to learn more about interactive tables.';\n",
              "          element.innerHTML = '';\n",
              "          dataTable['output_type'] = 'display_data';\n",
              "          await google.colab.output.renderOutput(dataTable, element);\n",
              "          const docLink = document.createElement('div');\n",
              "          docLink.innerHTML = docLinkHtml;\n",
              "          element.appendChild(docLink);\n",
              "        }\n",
              "      </script>\n",
              "    </div>\n",
              "  </div>\n",
              "  "
            ]
          },
          "metadata": {},
          "execution_count": 7
        }
      ]
    },
    {
      "cell_type": "code",
      "source": [
        "## Display the descriptive statistics for the non-numeric columns\n",
        "df.describe(include=\"object\") # or 'object'"
      ],
      "metadata": {
        "id": "Rt5G3Lto1xAp",
        "colab": {
          "base_uri": "https://localhost:8080/",
          "height": 175
        },
        "outputId": "b2ab8ff8-dae4-4778-862e-45388e041493"
      },
      "execution_count": null,
      "outputs": [
        {
          "output_type": "execute_result",
          "data": {
            "text/plain": [
              "          model transmission fuelType\n",
              "count     13119        13119    13119\n",
              "unique       27            4        4\n",
              "top     C Class    Semi-Auto   Diesel\n",
              "freq       3747         6848     9187"
            ],
            "text/html": [
              "\n",
              "  <div id=\"df-dcdfb3ca-179c-40f9-a55f-c3a6c428d12d\">\n",
              "    <div class=\"colab-df-container\">\n",
              "      <div>\n",
              "<style scoped>\n",
              "    .dataframe tbody tr th:only-of-type {\n",
              "        vertical-align: middle;\n",
              "    }\n",
              "\n",
              "    .dataframe tbody tr th {\n",
              "        vertical-align: top;\n",
              "    }\n",
              "\n",
              "    .dataframe thead th {\n",
              "        text-align: right;\n",
              "    }\n",
              "</style>\n",
              "<table border=\"1\" class=\"dataframe\">\n",
              "  <thead>\n",
              "    <tr style=\"text-align: right;\">\n",
              "      <th></th>\n",
              "      <th>model</th>\n",
              "      <th>transmission</th>\n",
              "      <th>fuelType</th>\n",
              "    </tr>\n",
              "  </thead>\n",
              "  <tbody>\n",
              "    <tr>\n",
              "      <th>count</th>\n",
              "      <td>13119</td>\n",
              "      <td>13119</td>\n",
              "      <td>13119</td>\n",
              "    </tr>\n",
              "    <tr>\n",
              "      <th>unique</th>\n",
              "      <td>27</td>\n",
              "      <td>4</td>\n",
              "      <td>4</td>\n",
              "    </tr>\n",
              "    <tr>\n",
              "      <th>top</th>\n",
              "      <td>C Class</td>\n",
              "      <td>Semi-Auto</td>\n",
              "      <td>Diesel</td>\n",
              "    </tr>\n",
              "    <tr>\n",
              "      <th>freq</th>\n",
              "      <td>3747</td>\n",
              "      <td>6848</td>\n",
              "      <td>9187</td>\n",
              "    </tr>\n",
              "  </tbody>\n",
              "</table>\n",
              "</div>\n",
              "      <button class=\"colab-df-convert\" onclick=\"convertToInteractive('df-dcdfb3ca-179c-40f9-a55f-c3a6c428d12d')\"\n",
              "              title=\"Convert this dataframe to an interactive table.\"\n",
              "              style=\"display:none;\">\n",
              "        \n",
              "  <svg xmlns=\"http://www.w3.org/2000/svg\" height=\"24px\"viewBox=\"0 0 24 24\"\n",
              "       width=\"24px\">\n",
              "    <path d=\"M0 0h24v24H0V0z\" fill=\"none\"/>\n",
              "    <path d=\"M18.56 5.44l.94 2.06.94-2.06 2.06-.94-2.06-.94-.94-2.06-.94 2.06-2.06.94zm-11 1L8.5 8.5l.94-2.06 2.06-.94-2.06-.94L8.5 2.5l-.94 2.06-2.06.94zm10 10l.94 2.06.94-2.06 2.06-.94-2.06-.94-.94-2.06-.94 2.06-2.06.94z\"/><path d=\"M17.41 7.96l-1.37-1.37c-.4-.4-.92-.59-1.43-.59-.52 0-1.04.2-1.43.59L10.3 9.45l-7.72 7.72c-.78.78-.78 2.05 0 2.83L4 21.41c.39.39.9.59 1.41.59.51 0 1.02-.2 1.41-.59l7.78-7.78 2.81-2.81c.8-.78.8-2.07 0-2.86zM5.41 20L4 18.59l7.72-7.72 1.47 1.35L5.41 20z\"/>\n",
              "  </svg>\n",
              "      </button>\n",
              "      \n",
              "  <style>\n",
              "    .colab-df-container {\n",
              "      display:flex;\n",
              "      flex-wrap:wrap;\n",
              "      gap: 12px;\n",
              "    }\n",
              "\n",
              "    .colab-df-convert {\n",
              "      background-color: #E8F0FE;\n",
              "      border: none;\n",
              "      border-radius: 50%;\n",
              "      cursor: pointer;\n",
              "      display: none;\n",
              "      fill: #1967D2;\n",
              "      height: 32px;\n",
              "      padding: 0 0 0 0;\n",
              "      width: 32px;\n",
              "    }\n",
              "\n",
              "    .colab-df-convert:hover {\n",
              "      background-color: #E2EBFA;\n",
              "      box-shadow: 0px 1px 2px rgba(60, 64, 67, 0.3), 0px 1px 3px 1px rgba(60, 64, 67, 0.15);\n",
              "      fill: #174EA6;\n",
              "    }\n",
              "\n",
              "    [theme=dark] .colab-df-convert {\n",
              "      background-color: #3B4455;\n",
              "      fill: #D2E3FC;\n",
              "    }\n",
              "\n",
              "    [theme=dark] .colab-df-convert:hover {\n",
              "      background-color: #434B5C;\n",
              "      box-shadow: 0px 1px 3px 1px rgba(0, 0, 0, 0.15);\n",
              "      filter: drop-shadow(0px 1px 2px rgba(0, 0, 0, 0.3));\n",
              "      fill: #FFFFFF;\n",
              "    }\n",
              "  </style>\n",
              "\n",
              "      <script>\n",
              "        const buttonEl =\n",
              "          document.querySelector('#df-dcdfb3ca-179c-40f9-a55f-c3a6c428d12d button.colab-df-convert');\n",
              "        buttonEl.style.display =\n",
              "          google.colab.kernel.accessAllowed ? 'block' : 'none';\n",
              "\n",
              "        async function convertToInteractive(key) {\n",
              "          const element = document.querySelector('#df-dcdfb3ca-179c-40f9-a55f-c3a6c428d12d');\n",
              "          const dataTable =\n",
              "            await google.colab.kernel.invokeFunction('convertToInteractive',\n",
              "                                                     [key], {});\n",
              "          if (!dataTable) return;\n",
              "\n",
              "          const docLinkHtml = 'Like what you see? Visit the ' +\n",
              "            '<a target=\"_blank\" href=https://colab.research.google.com/notebooks/data_table.ipynb>data table notebook</a>'\n",
              "            + ' to learn more about interactive tables.';\n",
              "          element.innerHTML = '';\n",
              "          dataTable['output_type'] = 'display_data';\n",
              "          await google.colab.output.renderOutput(dataTable, element);\n",
              "          const docLink = document.createElement('div');\n",
              "          docLink.innerHTML = docLinkHtml;\n",
              "          element.appendChild(docLink);\n",
              "        }\n",
              "      </script>\n",
              "    </div>\n",
              "  </div>\n",
              "  "
            ]
          },
          "metadata": {},
          "execution_count": 8
        }
      ]
    },
    {
      "cell_type": "markdown",
      "metadata": {
        "id": "2ej75b3IxrUI"
      },
      "source": [
        "## **2. Clean the Data**"
      ]
    },
    {
      "cell_type": "markdown",
      "source": [
        "### **Remove Unnecessary Columns**"
      ],
      "metadata": {
        "id": "ikOKKNOP4WQm"
      }
    },
    {
      "cell_type": "markdown",
      "source": [
        "- There are no columns to be dropped."
      ],
      "metadata": {
        "id": "zmGYpgDP4dyJ"
      }
    },
    {
      "cell_type": "markdown",
      "metadata": {
        "id": "2Y3eeg5twyGe"
      },
      "source": [
        "### **Remove Unecessary Rows**"
      ]
    },
    {
      "cell_type": "markdown",
      "source": [
        "#### **Duplicates**"
      ],
      "metadata": {
        "id": "gUs42XXQ4vOY"
      }
    },
    {
      "cell_type": "code",
      "metadata": {
        "id": "hoN-7TB-rFY7",
        "colab": {
          "base_uri": "https://localhost:8080/"
        },
        "outputId": "6089b0c6-da41-493a-cd7f-52724c501a07"
      },
      "source": [
        "## Display the number of duplicate rows in the dataset\n",
        "print(f'There are {df.duplicated().sum()} duplicate rows.')"
      ],
      "execution_count": null,
      "outputs": [
        {
          "output_type": "stream",
          "name": "stdout",
          "text": [
            "There are 259 duplicate rows.\n"
          ]
        }
      ]
    },
    {
      "cell_type": "code",
      "metadata": {
        "id": "qDODZVvrwj-5"
      },
      "source": [
        "## Drop duplicate rows\n",
        "df = df.drop_duplicates()"
      ],
      "execution_count": null,
      "outputs": []
    },
    {
      "cell_type": "code",
      "source": [
        "## Confirm duplicate rows have been dropped\n",
        "print(f'There are {df.duplicated().sum()} duplicate rows.')"
      ],
      "metadata": {
        "id": "HNlVTwf919LX",
        "colab": {
          "base_uri": "https://localhost:8080/"
        },
        "outputId": "3178c01e-10e3-4234-9b23-8df0739ce238"
      },
      "execution_count": null,
      "outputs": [
        {
          "output_type": "stream",
          "name": "stdout",
          "text": [
            "There are 0 duplicate rows.\n"
          ]
        }
      ]
    },
    {
      "cell_type": "markdown",
      "source": [
        "#### **Categorical Columns**"
      ],
      "metadata": {
        "id": "ZwhYV3YB6mda"
      }
    },
    {
      "cell_type": "code",
      "metadata": {
        "id": "BNlHMSJgL5eg",
        "colab": {
          "base_uri": "https://localhost:8080/"
        },
        "outputId": "1de39ad1-dbbd-4e54-c3b7-0754d79ac8a3"
      },
      "source": [
        "## Print the unique values for the column\n",
        "print('Unique models:\\n', df['model'].unique())\n",
        "print('\\n')\n",
        "## Print the unique values for the column\n",
        "print('Unique transmissions:\\n', df['transmission'].unique())\n",
        "print('\\n')\n",
        "## Print the unique values for the column\n",
        "print('Unique fuel types:\\n', df['fuelType'].unique())\n",
        "print('\\n')"
      ],
      "execution_count": null,
      "outputs": [
        {
          "output_type": "stream",
          "name": "stdout",
          "text": [
            "Unique models:\n",
            " ['SLK' 'S Class' 'SL CLASS' 'G Class' 'GLE Class' 'GLA Class' 'A Class'\n",
            " 'B Class' 'GLC Class' 'C Class' 'E Class' 'GL Class' 'CLS Class'\n",
            " 'CLC Class' 'CLA Class' 'V Class' 'M Class' 'CL Class' 'GLS Class'\n",
            " 'GLB Class' 'X-CLASS' '180' 'CLK' 'R Class' '230' '220' '200']\n",
            "\n",
            "\n",
            "Unique transmissions:\n",
            " ['Automatic' 'Manual' 'Semi-Auto' 'Other']\n",
            "\n",
            "\n",
            "Unique fuel types:\n",
            " ['Petrol' 'Hybrid' 'Diesel' 'Other']\n",
            "\n",
            "\n"
          ]
        }
      ]
    },
    {
      "cell_type": "markdown",
      "source": [
        "- No unusual values noted."
      ],
      "metadata": {
        "id": "z40QdFnw67Zt"
      }
    },
    {
      "cell_type": "markdown",
      "metadata": {
        "id": "4LDOtl5IBKVT"
      },
      "source": [
        "## **3. Split the Data**\n",
        "\n"
      ]
    },
    {
      "cell_type": "code",
      "metadata": {
        "id": "1DfQnaMQ2Sz_"
      },
      "source": [
        "## Define features (X) and target (y)\n",
        "target = 'mpg'\n",
        "X = df.drop(columns = [target])\n",
        "y = df[target]\n"
      ],
      "execution_count": null,
      "outputs": []
    },
    {
      "cell_type": "code",
      "source": [
        "## Split\n",
        "X_train, X_test, y_train, y_test = train_test_split(X, y, random_state=42)"
      ],
      "metadata": {
        "id": "P3N4hyHXB6ln"
      },
      "execution_count": null,
      "outputs": []
    },
    {
      "cell_type": "markdown",
      "source": [],
      "metadata": {
        "id": "ZzopPFP6gn4q"
      }
    },
    {
      "cell_type": "code",
      "source": [],
      "metadata": {
        "id": "bcibtxCyfYj0"
      },
      "execution_count": null,
      "outputs": []
    },
    {
      "cell_type": "markdown",
      "source": [
        "## **1. Model the Data - Challenge**"
      ],
      "metadata": {
        "id": "kubszhRR0SRP"
      }
    },
    {
      "cell_type": "markdown",
      "source": [
        "### **Baseline Model**\n",
        "- Instantiate the baseline model using the 'mean' strategy.\n",
        "- Create a model pipeline using the preprocessor and model.\n",
        "- Fit the model pipeline with the X_train dataset.(Never fit on X_test.)\n"
      ],
      "metadata": {
        "id": "K6GsTSNXzCHh"
      }
    },
    {
      "cell_type": "code",
      "source": [],
      "metadata": {
        "id": "5nKSp0xSWply"
      },
      "execution_count": null,
      "outputs": []
    },
    {
      "cell_type": "markdown",
      "source": [
        "## **Decision Tree Model**"
      ],
      "metadata": {
        "id": "szo2w00n-624"
      }
    },
    {
      "cell_type": "code",
      "source": [
        "## Import the model\n",
        "from sklearn.tree import DecisionTreeRegressor"
      ],
      "metadata": {
        "id": "-5nc1bEM_dcC"
      },
      "execution_count": null,
      "outputs": []
    },
    {
      "cell_type": "code",
      "source": [
        "## Create an instance of the model\n",
        "\n",
        "\n",
        "## Create a model pipeline\n",
        "\n",
        "\n",
        "## Fit the model\n",
        "\n"
      ],
      "metadata": {
        "id": "KdcYOmu9-625"
      },
      "execution_count": null,
      "outputs": []
    },
    {
      "cell_type": "markdown",
      "source": [
        "### Decision Tree Metrics"
      ],
      "metadata": {
        "id": "eVav1q0WZ4FZ"
      }
    },
    {
      "cell_type": "code",
      "source": [
        "## Make predictions using the model\n",
        "\n",
        "## Display model performance metrics using a function\n",
        "\n"
      ],
      "metadata": {
        "id": "yuYZ0shI-625"
      },
      "execution_count": null,
      "outputs": []
    },
    {
      "cell_type": "markdown",
      "source": [
        "## **Bagged Tree Model**"
      ],
      "metadata": {
        "id": "SmQ1TqM2Jd3s"
      }
    },
    {
      "cell_type": "code",
      "source": [
        "## Import the model\n",
        "from sklearn.ensemble import BaggingRegressor"
      ],
      "metadata": {
        "id": "AJmFkOct_uTh"
      },
      "execution_count": null,
      "outputs": []
    },
    {
      "cell_type": "code",
      "source": [
        "# Create an instance of the model\n",
        "\n",
        "\n",
        "# Create a model pipeline\n",
        "\n",
        "\n",
        "# Fit the model\n",
        "\n"
      ],
      "metadata": {
        "id": "5-rFkHmGJnOq"
      },
      "execution_count": null,
      "outputs": []
    },
    {
      "cell_type": "markdown",
      "source": [
        "### Bagged Tree Metrics"
      ],
      "metadata": {
        "id": "bCENmBqcaDy7"
      }
    },
    {
      "cell_type": "code",
      "source": [
        "## Make predictions using the model\n",
        "\n",
        "## Display model performance metrics using a function\n",
        "\n",
        "\n"
      ],
      "metadata": {
        "id": "zuhkr81qJqcq"
      },
      "execution_count": null,
      "outputs": []
    },
    {
      "cell_type": "markdown",
      "source": [
        "## **Random Forest Model**"
      ],
      "metadata": {
        "id": "COxmz04b-cf0"
      }
    },
    {
      "cell_type": "code",
      "source": [
        "## Import the model\n",
        "from sklearn.ensemble import RandomForestRegressor"
      ],
      "metadata": {
        "id": "Y9U0cXfy_0TN"
      },
      "execution_count": null,
      "outputs": []
    },
    {
      "cell_type": "code",
      "source": [
        "## Create an instance of the model\n",
        "\n",
        "## Create a model pipeline\n",
        "\n",
        "\n",
        "## Fit the model\n",
        "\n"
      ],
      "metadata": {
        "id": "iDrXoQk0-cf1"
      },
      "execution_count": null,
      "outputs": []
    },
    {
      "cell_type": "markdown",
      "source": [
        "### Random Forest Metrics"
      ],
      "metadata": {
        "id": "dRpSWUOlaIsh"
      }
    },
    {
      "cell_type": "code",
      "source": [
        "## Make predictions using the model\n",
        "\n",
        "## Display model performance metrics using a function\n",
        "\n",
        "\n"
      ],
      "metadata": {
        "id": "ihk-V4yn-cf2"
      },
      "execution_count": null,
      "outputs": []
    },
    {
      "cell_type": "markdown",
      "source": [
        "## **K-Nearest Neighbors**"
      ],
      "metadata": {
        "id": "FLhgHU1v-wJc"
      }
    },
    {
      "cell_type": "code",
      "source": [
        "## Import the model\n",
        "from sklearn.neighbors import KNeighborsRegressor"
      ],
      "metadata": {
        "id": "yBpuexQ4Aeck"
      },
      "execution_count": null,
      "outputs": []
    },
    {
      "cell_type": "code",
      "source": [
        "## Create an instance of the model\n",
        "\n",
        "\n",
        "## Create a model pipeline\n",
        "\n",
        "\n",
        "## Fit the model\n",
        "\n"
      ],
      "metadata": {
        "id": "j0BdreC2-wJc"
      },
      "execution_count": null,
      "outputs": []
    },
    {
      "cell_type": "markdown",
      "source": [
        "### K-Nearest Neighbors Metrics"
      ],
      "metadata": {
        "id": "JVTmi_s3aMN_"
      }
    },
    {
      "cell_type": "code",
      "source": [
        "## Make predictions using the model\n",
        "\n",
        "## Display model performance metrics using a function\n",
        "\n",
        "\n"
      ],
      "metadata": {
        "id": "MAYI2zC3-wJd"
      },
      "execution_count": null,
      "outputs": []
    },
    {
      "cell_type": "markdown",
      "source": [
        "# **Challenge 2:**"
      ],
      "metadata": {
        "id": "BShK8hd3Ax1S"
      }
    },
    {
      "cell_type": "markdown",
      "source": [
        "## **Recommendations**"
      ],
      "metadata": {
        "id": "h8_f2YAQIAeo"
      }
    },
    {
      "cell_type": "markdown",
      "source": [
        "You now have tried several different models on your data set. You now need to determine which model to implement.\n",
        "\n",
        "- Overall, which model would you recommend your client deploy?\n",
        "- Justify your recommendation by referencing metrics.  Which metrics are most important for your client to know about?"
      ],
      "metadata": {
        "id": "a4nte53qA-3z"
      }
    },
    {
      "cell_type": "markdown",
      "source": [
        "**Model recommended:**\n",
        "*\n",
        "\n",
        "\n",
        "**Why this model?**\n",
        "*\n"
      ],
      "metadata": {
        "id": "qZn0SOnjBC30"
      }
    }
  ]
}