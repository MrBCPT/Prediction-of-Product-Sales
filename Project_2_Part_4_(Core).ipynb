{
  "cells": [
    {
      "cell_type": "markdown",
      "metadata": {
        "id": "view-in-github",
        "colab_type": "text"
      },
      "source": [
        "<a href=\"https://colab.research.google.com/github/MrBCPT/Prediction-of-Product-Sales/blob/main/Project_2_Part_4_(Core).ipynb\" target=\"_parent\"><img src=\"https://colab.research.google.com/assets/colab-badge.svg\" alt=\"Open In Colab\"/></a>"
      ]
    },
    {
      "cell_type": "markdown",
      "metadata": {
        "id": "Iga-PP4ifxi1"
      },
      "source": [
        "Student: Satish Byrow"
      ]
    },
    {
      "cell_type": "markdown",
      "metadata": {
        "id": "pSdbHwd3B81b"
      },
      "source": [
        "#**1. Goal**\n",
        "- Predict which features would most likely result in a stroke"
      ]
    },
    {
      "cell_type": "markdown",
      "metadata": {
        "id": "N4dHbj5CCVMD"
      },
      "source": [
        "##Dictionary\n",
        "1) id: unique identifier<br>\n",
        "2) gender: \"Male\", \"Female\" or \"Other\"<br>\n",
        "3) age: age of the patient<br>\n",
        "4) hypertension: 0 if the patient doesn't have hypertension, 1 if the patient has hypertension<br>\n",
        "5) heart_disease: 0 if the patient doesn't have any heart diseases, 1 if the patient has a heart disease<br>\n",
        "6) ever_married: \"No\" or \"Yes\"<br>\n",
        "7) work_type: \"children\", \"Govt_jov\", \"Never_worked\", \"Private\" or \"Self-employed\"<br>\n",
        "8) Residence_type: \"Rural\" or \"Urban\"<br>\n",
        "9) avg_glucose_level: average glucose level in blood<br>\n",
        "10) bmi: body mass index<br>\n",
        "11) smoking_status: \"formerly smoked\", \"never smoked\", \"smokes\" or \"Unknown\"*<br>\n",
        "12) stroke: 1 if the patient had a stroke or 0 if not<br><br>\n",
        "*Note: \"Unknown\" in smoking_status means that the information is unavailable for this patient<br>"
      ]
    },
    {
      "cell_type": "markdown",
      "metadata": {
        "id": "z5hsILsYhzmb"
      },
      "source": [
        "#**2. Import and Loading**\n"
      ]
    },
    {
      "cell_type": "markdown",
      "metadata": {
        "id": "LEj398LfiIpZ"
      },
      "source": [
        "## Load Libraries"
      ]
    },
    {
      "cell_type": "code",
      "execution_count": null,
      "metadata": {
        "id": "U6l1SPpQfsXb"
      },
      "outputs": [],
      "source": [
        "#Load Libraries\n",
        "import pandas as pd\n",
        "import matplotlib.pyplot as plt\n",
        "import seaborn as sns\n",
        "\n",
        "#import some necessary tools\n",
        "from sklearn import preprocessing\n",
        "\n",
        "from sklearn import set_config\n",
        "set_config(transform_output='pandas')"
      ]
    },
    {
      "cell_type": "markdown",
      "metadata": {
        "id": "F0jW7VCHh4My"
      },
      "source": [
        "## Load Data"
      ]
    },
    {
      "cell_type": "code",
      "execution_count": null,
      "metadata": {
        "colab": {
          "base_uri": "https://localhost:8080/"
        },
        "id": "wQhc3n9Bhxsy",
        "outputId": "92bedd40-3b9e-44eb-840e-6103bcb1881e"
      },
      "outputs": [
        {
          "output_type": "stream",
          "name": "stdout",
          "text": [
            "Drive already mounted at /content/drive; to attempt to forcibly remount, call drive.mount(\"/content/drive\", force_remount=True).\n"
          ]
        }
      ],
      "source": [
        "# Mount google drive\n",
        "from google.colab import drive\n",
        "drive.mount('/content/drive')"
      ]
    },
    {
      "cell_type": "markdown",
      "metadata": {
        "id": "WoEJPclOis3Q"
      },
      "source": [
        "###Data Source First choice: dataset 1\n",
        " - https://www.kaggle.com/datasets/fedesoriano/stroke-prediction-dataset"
      ]
    },
    {
      "cell_type": "code",
      "execution_count": null,
      "metadata": {
        "id": "iM_8QeoIiL-J"
      },
      "outputs": [],
      "source": [
        "## Loading data from published google sheet\n",
        "fpath =\"/content/drive/MyDrive/CodingDojo/02-MachineLearning/Week05/Data/healthcare-dataset-stroke-data.csv\"\n",
        "df_main = pd.read_csv(fpath)"
      ]
    },
    {
      "cell_type": "code",
      "execution_count": null,
      "metadata": {
        "id": "4dANpMOeiWs4"
      },
      "outputs": [],
      "source": [
        "#Make a copy so we dont break the original data set and avoid any manipulations\n",
        "df = df_main.copy()"
      ]
    },
    {
      "cell_type": "markdown",
      "metadata": {
        "id": "Dco0pQK_igOB"
      },
      "source": [
        "#**3. Explore Data Set**"
      ]
    },
    {
      "cell_type": "code",
      "execution_count": null,
      "metadata": {
        "colab": {
          "base_uri": "https://localhost:8080/",
          "height": 261
        },
        "id": "iVFzDvqHij2R",
        "outputId": "a1dcb2f4-4d23-415b-d246-6040bb9e6c99"
      },
      "outputs": [
        {
          "output_type": "execute_result",
          "data": {
            "text/plain": [
              "      id  gender   age  hypertension  heart_disease ever_married  \\\n",
              "0   9046    Male  67.0             0              1          Yes   \n",
              "1  51676  Female  61.0             0              0          Yes   \n",
              "2  31112    Male  80.0             0              1          Yes   \n",
              "3  60182  Female  49.0             0              0          Yes   \n",
              "4   1665  Female  79.0             1              0          Yes   \n",
              "\n",
              "       work_type Residence_type  avg_glucose_level   bmi   smoking_status  \\\n",
              "0        Private          Urban             228.69  36.6  formerly smoked   \n",
              "1  Self-employed          Rural             202.21   NaN     never smoked   \n",
              "2        Private          Rural             105.92  32.5     never smoked   \n",
              "3        Private          Urban             171.23  34.4           smokes   \n",
              "4  Self-employed          Rural             174.12  24.0     never smoked   \n",
              "\n",
              "   stroke  \n",
              "0       1  \n",
              "1       1  \n",
              "2       1  \n",
              "3       1  \n",
              "4       1  "
            ],
            "text/html": [
              "\n",
              "  <div id=\"df-aa05b5ed-c4bb-4b26-9032-6ee7ad4081cd\" class=\"colab-df-container\">\n",
              "    <div>\n",
              "<style scoped>\n",
              "    .dataframe tbody tr th:only-of-type {\n",
              "        vertical-align: middle;\n",
              "    }\n",
              "\n",
              "    .dataframe tbody tr th {\n",
              "        vertical-align: top;\n",
              "    }\n",
              "\n",
              "    .dataframe thead th {\n",
              "        text-align: right;\n",
              "    }\n",
              "</style>\n",
              "<table border=\"1\" class=\"dataframe\">\n",
              "  <thead>\n",
              "    <tr style=\"text-align: right;\">\n",
              "      <th></th>\n",
              "      <th>id</th>\n",
              "      <th>gender</th>\n",
              "      <th>age</th>\n",
              "      <th>hypertension</th>\n",
              "      <th>heart_disease</th>\n",
              "      <th>ever_married</th>\n",
              "      <th>work_type</th>\n",
              "      <th>Residence_type</th>\n",
              "      <th>avg_glucose_level</th>\n",
              "      <th>bmi</th>\n",
              "      <th>smoking_status</th>\n",
              "      <th>stroke</th>\n",
              "    </tr>\n",
              "  </thead>\n",
              "  <tbody>\n",
              "    <tr>\n",
              "      <th>0</th>\n",
              "      <td>9046</td>\n",
              "      <td>Male</td>\n",
              "      <td>67.0</td>\n",
              "      <td>0</td>\n",
              "      <td>1</td>\n",
              "      <td>Yes</td>\n",
              "      <td>Private</td>\n",
              "      <td>Urban</td>\n",
              "      <td>228.69</td>\n",
              "      <td>36.6</td>\n",
              "      <td>formerly smoked</td>\n",
              "      <td>1</td>\n",
              "    </tr>\n",
              "    <tr>\n",
              "      <th>1</th>\n",
              "      <td>51676</td>\n",
              "      <td>Female</td>\n",
              "      <td>61.0</td>\n",
              "      <td>0</td>\n",
              "      <td>0</td>\n",
              "      <td>Yes</td>\n",
              "      <td>Self-employed</td>\n",
              "      <td>Rural</td>\n",
              "      <td>202.21</td>\n",
              "      <td>NaN</td>\n",
              "      <td>never smoked</td>\n",
              "      <td>1</td>\n",
              "    </tr>\n",
              "    <tr>\n",
              "      <th>2</th>\n",
              "      <td>31112</td>\n",
              "      <td>Male</td>\n",
              "      <td>80.0</td>\n",
              "      <td>0</td>\n",
              "      <td>1</td>\n",
              "      <td>Yes</td>\n",
              "      <td>Private</td>\n",
              "      <td>Rural</td>\n",
              "      <td>105.92</td>\n",
              "      <td>32.5</td>\n",
              "      <td>never smoked</td>\n",
              "      <td>1</td>\n",
              "    </tr>\n",
              "    <tr>\n",
              "      <th>3</th>\n",
              "      <td>60182</td>\n",
              "      <td>Female</td>\n",
              "      <td>49.0</td>\n",
              "      <td>0</td>\n",
              "      <td>0</td>\n",
              "      <td>Yes</td>\n",
              "      <td>Private</td>\n",
              "      <td>Urban</td>\n",
              "      <td>171.23</td>\n",
              "      <td>34.4</td>\n",
              "      <td>smokes</td>\n",
              "      <td>1</td>\n",
              "    </tr>\n",
              "    <tr>\n",
              "      <th>4</th>\n",
              "      <td>1665</td>\n",
              "      <td>Female</td>\n",
              "      <td>79.0</td>\n",
              "      <td>1</td>\n",
              "      <td>0</td>\n",
              "      <td>Yes</td>\n",
              "      <td>Self-employed</td>\n",
              "      <td>Rural</td>\n",
              "      <td>174.12</td>\n",
              "      <td>24.0</td>\n",
              "      <td>never smoked</td>\n",
              "      <td>1</td>\n",
              "    </tr>\n",
              "  </tbody>\n",
              "</table>\n",
              "</div>\n",
              "    <div class=\"colab-df-buttons\">\n",
              "\n",
              "  <div class=\"colab-df-container\">\n",
              "    <button class=\"colab-df-convert\" onclick=\"convertToInteractive('df-aa05b5ed-c4bb-4b26-9032-6ee7ad4081cd')\"\n",
              "            title=\"Convert this dataframe to an interactive table.\"\n",
              "            style=\"display:none;\">\n",
              "\n",
              "  <svg xmlns=\"http://www.w3.org/2000/svg\" height=\"24px\" viewBox=\"0 -960 960 960\">\n",
              "    <path d=\"M120-120v-720h720v720H120Zm60-500h600v-160H180v160Zm220 220h160v-160H400v160Zm0 220h160v-160H400v160ZM180-400h160v-160H180v160Zm440 0h160v-160H620v160ZM180-180h160v-160H180v160Zm440 0h160v-160H620v160Z\"/>\n",
              "  </svg>\n",
              "    </button>\n",
              "\n",
              "  <style>\n",
              "    .colab-df-container {\n",
              "      display:flex;\n",
              "      gap: 12px;\n",
              "    }\n",
              "\n",
              "    .colab-df-convert {\n",
              "      background-color: #E8F0FE;\n",
              "      border: none;\n",
              "      border-radius: 50%;\n",
              "      cursor: pointer;\n",
              "      display: none;\n",
              "      fill: #1967D2;\n",
              "      height: 32px;\n",
              "      padding: 0 0 0 0;\n",
              "      width: 32px;\n",
              "    }\n",
              "\n",
              "    .colab-df-convert:hover {\n",
              "      background-color: #E2EBFA;\n",
              "      box-shadow: 0px 1px 2px rgba(60, 64, 67, 0.3), 0px 1px 3px 1px rgba(60, 64, 67, 0.15);\n",
              "      fill: #174EA6;\n",
              "    }\n",
              "\n",
              "    .colab-df-buttons div {\n",
              "      margin-bottom: 4px;\n",
              "    }\n",
              "\n",
              "    [theme=dark] .colab-df-convert {\n",
              "      background-color: #3B4455;\n",
              "      fill: #D2E3FC;\n",
              "    }\n",
              "\n",
              "    [theme=dark] .colab-df-convert:hover {\n",
              "      background-color: #434B5C;\n",
              "      box-shadow: 0px 1px 3px 1px rgba(0, 0, 0, 0.15);\n",
              "      filter: drop-shadow(0px 1px 2px rgba(0, 0, 0, 0.3));\n",
              "      fill: #FFFFFF;\n",
              "    }\n",
              "  </style>\n",
              "\n",
              "    <script>\n",
              "      const buttonEl =\n",
              "        document.querySelector('#df-aa05b5ed-c4bb-4b26-9032-6ee7ad4081cd button.colab-df-convert');\n",
              "      buttonEl.style.display =\n",
              "        google.colab.kernel.accessAllowed ? 'block' : 'none';\n",
              "\n",
              "      async function convertToInteractive(key) {\n",
              "        const element = document.querySelector('#df-aa05b5ed-c4bb-4b26-9032-6ee7ad4081cd');\n",
              "        const dataTable =\n",
              "          await google.colab.kernel.invokeFunction('convertToInteractive',\n",
              "                                                    [key], {});\n",
              "        if (!dataTable) return;\n",
              "\n",
              "        const docLinkHtml = 'Like what you see? Visit the ' +\n",
              "          '<a target=\"_blank\" href=https://colab.research.google.com/notebooks/data_table.ipynb>data table notebook</a>'\n",
              "          + ' to learn more about interactive tables.';\n",
              "        element.innerHTML = '';\n",
              "        dataTable['output_type'] = 'display_data';\n",
              "        await google.colab.output.renderOutput(dataTable, element);\n",
              "        const docLink = document.createElement('div');\n",
              "        docLink.innerHTML = docLinkHtml;\n",
              "        element.appendChild(docLink);\n",
              "      }\n",
              "    </script>\n",
              "  </div>\n",
              "\n",
              "\n",
              "<div id=\"df-11596625-b8be-4d04-9928-3d63eaff4ca8\">\n",
              "  <button class=\"colab-df-quickchart\" onclick=\"quickchart('df-11596625-b8be-4d04-9928-3d63eaff4ca8')\"\n",
              "            title=\"Suggest charts.\"\n",
              "            style=\"display:none;\">\n",
              "\n",
              "<svg xmlns=\"http://www.w3.org/2000/svg\" height=\"24px\"viewBox=\"0 0 24 24\"\n",
              "     width=\"24px\">\n",
              "    <g>\n",
              "        <path d=\"M19 3H5c-1.1 0-2 .9-2 2v14c0 1.1.9 2 2 2h14c1.1 0 2-.9 2-2V5c0-1.1-.9-2-2-2zM9 17H7v-7h2v7zm4 0h-2V7h2v10zm4 0h-2v-4h2v4z\"/>\n",
              "    </g>\n",
              "</svg>\n",
              "  </button>\n",
              "\n",
              "<style>\n",
              "  .colab-df-quickchart {\n",
              "      --bg-color: #E8F0FE;\n",
              "      --fill-color: #1967D2;\n",
              "      --hover-bg-color: #E2EBFA;\n",
              "      --hover-fill-color: #174EA6;\n",
              "      --disabled-fill-color: #AAA;\n",
              "      --disabled-bg-color: #DDD;\n",
              "  }\n",
              "\n",
              "  [theme=dark] .colab-df-quickchart {\n",
              "      --bg-color: #3B4455;\n",
              "      --fill-color: #D2E3FC;\n",
              "      --hover-bg-color: #434B5C;\n",
              "      --hover-fill-color: #FFFFFF;\n",
              "      --disabled-bg-color: #3B4455;\n",
              "      --disabled-fill-color: #666;\n",
              "  }\n",
              "\n",
              "  .colab-df-quickchart {\n",
              "    background-color: var(--bg-color);\n",
              "    border: none;\n",
              "    border-radius: 50%;\n",
              "    cursor: pointer;\n",
              "    display: none;\n",
              "    fill: var(--fill-color);\n",
              "    height: 32px;\n",
              "    padding: 0;\n",
              "    width: 32px;\n",
              "  }\n",
              "\n",
              "  .colab-df-quickchart:hover {\n",
              "    background-color: var(--hover-bg-color);\n",
              "    box-shadow: 0 1px 2px rgba(60, 64, 67, 0.3), 0 1px 3px 1px rgba(60, 64, 67, 0.15);\n",
              "    fill: var(--button-hover-fill-color);\n",
              "  }\n",
              "\n",
              "  .colab-df-quickchart-complete:disabled,\n",
              "  .colab-df-quickchart-complete:disabled:hover {\n",
              "    background-color: var(--disabled-bg-color);\n",
              "    fill: var(--disabled-fill-color);\n",
              "    box-shadow: none;\n",
              "  }\n",
              "\n",
              "  .colab-df-spinner {\n",
              "    border: 2px solid var(--fill-color);\n",
              "    border-color: transparent;\n",
              "    border-bottom-color: var(--fill-color);\n",
              "    animation:\n",
              "      spin 1s steps(1) infinite;\n",
              "  }\n",
              "\n",
              "  @keyframes spin {\n",
              "    0% {\n",
              "      border-color: transparent;\n",
              "      border-bottom-color: var(--fill-color);\n",
              "      border-left-color: var(--fill-color);\n",
              "    }\n",
              "    20% {\n",
              "      border-color: transparent;\n",
              "      border-left-color: var(--fill-color);\n",
              "      border-top-color: var(--fill-color);\n",
              "    }\n",
              "    30% {\n",
              "      border-color: transparent;\n",
              "      border-left-color: var(--fill-color);\n",
              "      border-top-color: var(--fill-color);\n",
              "      border-right-color: var(--fill-color);\n",
              "    }\n",
              "    40% {\n",
              "      border-color: transparent;\n",
              "      border-right-color: var(--fill-color);\n",
              "      border-top-color: var(--fill-color);\n",
              "    }\n",
              "    60% {\n",
              "      border-color: transparent;\n",
              "      border-right-color: var(--fill-color);\n",
              "    }\n",
              "    80% {\n",
              "      border-color: transparent;\n",
              "      border-right-color: var(--fill-color);\n",
              "      border-bottom-color: var(--fill-color);\n",
              "    }\n",
              "    90% {\n",
              "      border-color: transparent;\n",
              "      border-bottom-color: var(--fill-color);\n",
              "    }\n",
              "  }\n",
              "</style>\n",
              "\n",
              "  <script>\n",
              "    async function quickchart(key) {\n",
              "      const quickchartButtonEl =\n",
              "        document.querySelector('#' + key + ' button');\n",
              "      quickchartButtonEl.disabled = true;  // To prevent multiple clicks.\n",
              "      quickchartButtonEl.classList.add('colab-df-spinner');\n",
              "      try {\n",
              "        const charts = await google.colab.kernel.invokeFunction(\n",
              "            'suggestCharts', [key], {});\n",
              "      } catch (error) {\n",
              "        console.error('Error during call to suggestCharts:', error);\n",
              "      }\n",
              "      quickchartButtonEl.classList.remove('colab-df-spinner');\n",
              "      quickchartButtonEl.classList.add('colab-df-quickchart-complete');\n",
              "    }\n",
              "    (() => {\n",
              "      let quickchartButtonEl =\n",
              "        document.querySelector('#df-11596625-b8be-4d04-9928-3d63eaff4ca8 button');\n",
              "      quickchartButtonEl.style.display =\n",
              "        google.colab.kernel.accessAllowed ? 'block' : 'none';\n",
              "    })();\n",
              "  </script>\n",
              "</div>\n",
              "    </div>\n",
              "  </div>\n"
            ]
          },
          "metadata": {},
          "execution_count": 114
        }
      ],
      "source": [
        "#Check then data\n",
        "df.head()"
      ]
    },
    {
      "cell_type": "markdown",
      "metadata": {
        "id": "wpSYu-injZeX"
      },
      "source": [
        "###Brief Description of Data\n",
        "- The data is a view of patients that have or have not had a stroke based on Gender, Age, BMI, heart disease and if they have smoked<br>\n"
      ]
    },
    {
      "cell_type": "markdown",
      "metadata": {
        "id": "RVbLKLxpjstx"
      },
      "source": [
        "###Target\n",
        "- The stroke column is the target to identify if a person is at risk of a stroke"
      ]
    },
    {
      "cell_type": "markdown",
      "metadata": {
        "id": "xTnnepdUj_tY"
      },
      "source": [
        "###Row Classification\n",
        "- Each row represents a persons profile details"
      ]
    },
    {
      "cell_type": "markdown",
      "metadata": {
        "id": "MLIudPEEkthd"
      },
      "source": [
        "###Feature Count\n",
        "- There are 11 valid features. The ID column can be dropped as it does not represent valid data. The target column is stroke.\n"
      ]
    },
    {
      "cell_type": "markdown",
      "metadata": {
        "id": "M_bJ9nWRlECI"
      },
      "source": [
        "###Type of Problem\n",
        "- This data set is identfied as a classification problem as the person can either be at risk of a stroke or not"
      ]
    },
    {
      "cell_type": "code",
      "execution_count": null,
      "metadata": {
        "colab": {
          "base_uri": "https://localhost:8080/"
        },
        "id": "sTE5R9QPmSUP",
        "outputId": "a7ec0cf1-2a8a-4aed-dda3-8cb29f01e82f"
      },
      "outputs": [
        {
          "output_type": "stream",
          "name": "stdout",
          "text": [
            "<class 'pandas.core.frame.DataFrame'>\n",
            "RangeIndex: 5110 entries, 0 to 5109\n",
            "Data columns (total 12 columns):\n",
            " #   Column             Non-Null Count  Dtype  \n",
            "---  ------             --------------  -----  \n",
            " 0   id                 5110 non-null   int64  \n",
            " 1   gender             5110 non-null   object \n",
            " 2   age                5110 non-null   float64\n",
            " 3   hypertension       5110 non-null   int64  \n",
            " 4   heart_disease      5110 non-null   int64  \n",
            " 5   ever_married       5110 non-null   object \n",
            " 6   work_type          5110 non-null   object \n",
            " 7   Residence_type     5110 non-null   object \n",
            " 8   avg_glucose_level  5110 non-null   float64\n",
            " 9   bmi                4909 non-null   float64\n",
            " 10  smoking_status     5110 non-null   object \n",
            " 11  stroke             5110 non-null   int64  \n",
            "dtypes: float64(3), int64(4), object(5)\n",
            "memory usage: 479.2+ KB\n"
          ]
        }
      ],
      "source": [
        "#Explore the dataset more\n",
        "df.info()"
      ]
    },
    {
      "cell_type": "markdown",
      "metadata": {
        "id": "dUXG9aXAmGUD"
      },
      "source": [
        "###Rows in Dataset\n",
        "- 5110"
      ]
    },
    {
      "cell_type": "code",
      "execution_count": null,
      "metadata": {
        "colab": {
          "base_uri": "https://localhost:8080/"
        },
        "id": "mh5WdTiem31-",
        "outputId": "ba482431-daeb-4756-c097-23306a3d04fe"
      },
      "outputs": [
        {
          "output_type": "execute_result",
          "data": {
            "text/plain": [
              "id                     0\n",
              "gender                 0\n",
              "age                    0\n",
              "hypertension           0\n",
              "heart_disease          0\n",
              "ever_married           0\n",
              "work_type              0\n",
              "Residence_type         0\n",
              "avg_glucose_level      0\n",
              "bmi                  201\n",
              "smoking_status         0\n",
              "stroke                 0\n",
              "dtype: int64"
            ]
          },
          "metadata": {},
          "execution_count": 116
        }
      ],
      "source": [
        "df.isna().sum()"
      ]
    },
    {
      "cell_type": "markdown",
      "metadata": {
        "id": "-u5m_JT2mqhG"
      },
      "source": [
        "###What, if any, challenges do you foresee in cleaning, exploring, or modeling this dataset\n",
        "- Cleaning: Null values in BMI field\n",
        "- Exploring: Different data types(int64. object and float64)\n",
        "- Modeling: Choosing the correct models like KNN that would work but may process slower"
      ]
    },
    {
      "cell_type": "markdown",
      "metadata": {
        "id": "FBvizyXRT1Yc"
      },
      "source": [
        "#**4. Clean the data**"
      ]
    },
    {
      "cell_type": "markdown",
      "metadata": {
        "id": "qVtSllvXWvs0"
      },
      "source": [
        "###Drop Columns"
      ]
    },
    {
      "cell_type": "code",
      "execution_count": null,
      "metadata": {
        "colab": {
          "base_uri": "https://localhost:8080/"
        },
        "id": "UJ4OA6AnUy9p",
        "outputId": "06fce6e6-772f-4a89-a84b-cecd0442eb8c"
      },
      "outputs": [
        {
          "output_type": "execute_result",
          "data": {
            "text/plain": [
              "Index(['gender', 'age', 'hypertension', 'heart_disease', 'ever_married',\n",
              "       'work_type', 'Residence_type', 'avg_glucose_level', 'bmi',\n",
              "       'smoking_status', 'stroke'],\n",
              "      dtype='object')"
            ]
          },
          "metadata": {},
          "execution_count": 117
        }
      ],
      "source": [
        "#Drop columns not needed\n",
        "df.drop(columns=[\"id\"], inplace=True)\n",
        "df.columns"
      ]
    },
    {
      "cell_type": "markdown",
      "metadata": {
        "id": "P1HAO9MoWqnM"
      },
      "source": [
        "###Duplicates"
      ]
    },
    {
      "cell_type": "code",
      "execution_count": null,
      "metadata": {
        "colab": {
          "base_uri": "https://localhost:8080/"
        },
        "id": "jodXlPihWcX2",
        "outputId": "d5cc0606-3938-4924-aef7-0b3db4f47b62"
      },
      "outputs": [
        {
          "output_type": "stream",
          "name": "stdout",
          "text": [
            "There are 0 duplicate rows.\n"
          ]
        }
      ],
      "source": [
        "#Delete duplicate rows\n",
        "## Display the number of duplicate rows in the dataset\n",
        "print(f'There are {df.duplicated().sum()} duplicate rows.')"
      ]
    },
    {
      "cell_type": "markdown",
      "metadata": {
        "id": "_qsMM5q6W1rv"
      },
      "source": [
        "###Check for missing values"
      ]
    },
    {
      "cell_type": "code",
      "execution_count": null,
      "metadata": {
        "colab": {
          "base_uri": "https://localhost:8080/"
        },
        "id": "AHMS2hMIW_T6",
        "outputId": "a4d26923-cfda-4673-e983-41896b2c37ed"
      },
      "outputs": [
        {
          "output_type": "stream",
          "name": "stdout",
          "text": [
            "There are 201 missing values.\n"
          ]
        }
      ],
      "source": [
        "# Display the total number of missing values\n",
        "print(f'There are {df.isna().sum().sum()} missing values.')"
      ]
    },
    {
      "cell_type": "code",
      "execution_count": null,
      "metadata": {
        "colab": {
          "base_uri": "https://localhost:8080/"
        },
        "id": "4d3ddh-wXFiW",
        "outputId": "19c357e5-e023-43c0-a3a8-17cad21b0963"
      },
      "outputs": [
        {
          "output_type": "execute_result",
          "data": {
            "text/plain": [
              "gender               0.000000\n",
              "age                  0.000000\n",
              "hypertension         0.000000\n",
              "heart_disease        0.000000\n",
              "ever_married         0.000000\n",
              "work_type            0.000000\n",
              "Residence_type       0.000000\n",
              "avg_glucose_level    0.000000\n",
              "bmi                  3.933464\n",
              "smoking_status       0.000000\n",
              "stroke               0.000000\n",
              "dtype: float64"
            ]
          },
          "metadata": {},
          "execution_count": 120
        }
      ],
      "source": [
        "#Check percentage\n",
        "df.isna().sum() / len(df) * 100"
      ]
    },
    {
      "cell_type": "markdown",
      "metadata": {
        "id": "mmCUYYLOXGPu"
      },
      "source": [
        "- Missing Values:\n",
        "  - There are 3.9% missing values in the `bmi` column.\n"
      ]
    },
    {
      "cell_type": "markdown",
      "metadata": {
        "id": "a9FuZUMZXOXY"
      },
      "source": [
        "**Interpretation**\n",
        "- Use simpleimputer to solve for missing values"
      ]
    },
    {
      "cell_type": "code",
      "execution_count": null,
      "metadata": {
        "colab": {
          "base_uri": "https://localhost:8080/"
        },
        "id": "7TTIREAma1wP",
        "outputId": "04e98e25-b5ba-4c4e-8223-e6a483239600"
      },
      "outputs": [
        {
          "output_type": "stream",
          "name": "stdout",
          "text": [
            "Female    2994\n",
            "Male      2115\n",
            "Other        1\n",
            "Name: gender, dtype: int64\n",
            "Yes    3353\n",
            "No     1757\n",
            "Name: ever_married, dtype: int64\n",
            "Private          2925\n",
            "Self-employed     819\n",
            "children          687\n",
            "Govt_job          657\n",
            "Never_worked       22\n",
            "Name: work_type, dtype: int64\n",
            "Urban    2596\n",
            "Rural    2514\n",
            "Name: Residence_type, dtype: int64\n",
            "never smoked       1892\n",
            "Unknown            1544\n",
            "formerly smoked     885\n",
            "smokes              789\n",
            "Name: smoking_status, dtype: int64\n"
          ]
        }
      ],
      "source": [
        "#Check for categorical descrepencies\n",
        "for col in df.select_dtypes(include='object').columns:\n",
        "  print(df[col].value_counts())"
      ]
    },
    {
      "cell_type": "markdown",
      "metadata": {
        "id": "sF7ljtUf0D5U"
      },
      "source": [
        "**Interpretation**\n",
        "- Drop Other\n"
      ]
    },
    {
      "cell_type": "code",
      "source": [
        "#Categorical\n",
        "#Drop Other\n",
        "df.drop(df[df['gender'] == 'Other'].index, inplace=True)\n",
        "\n",
        "# Replace boolean values with 0s and 1s\n",
        "#df['gender'].replace({'F':1, 'M':0}, inplace=True)\n",
        "#Replace smoking status with Nominal\n",
        "#df['smoking_status'].replace({'never smoked':0, 'formerly smoked':1, 'smokes':2, 'Unknown':3}, inplace=True)\n"
      ],
      "metadata": {
        "id": "jiQ1p-ij7Hwi"
      },
      "execution_count": null,
      "outputs": []
    },
    {
      "cell_type": "code",
      "execution_count": null,
      "metadata": {
        "colab": {
          "base_uri": "https://localhost:8080/"
        },
        "id": "nV4S5tJr0S39",
        "outputId": "3e60594e-605a-4fcd-e52e-55bbc33d4217"
      },
      "outputs": [
        {
          "output_type": "stream",
          "name": "stdout",
          "text": [
            "78.00    102\n",
            "57.00     95\n",
            "52.00     90\n",
            "54.00     87\n",
            "51.00     86\n",
            "        ... \n",
            "1.40       3\n",
            "0.48       3\n",
            "0.16       3\n",
            "0.40       2\n",
            "0.08       2\n",
            "Name: age, Length: 104, dtype: int64\n",
            "0    4611\n",
            "1     498\n",
            "Name: hypertension, dtype: int64\n",
            "0    4833\n",
            "1     276\n",
            "Name: heart_disease, dtype: int64\n",
            "93.88     6\n",
            "91.68     5\n",
            "91.85     5\n",
            "83.16     5\n",
            "73.00     5\n",
            "         ..\n",
            "94.07     1\n",
            "111.93    1\n",
            "94.40     1\n",
            "95.57     1\n",
            "85.28     1\n",
            "Name: avg_glucose_level, Length: 3978, dtype: int64\n",
            "28.7    41\n",
            "28.4    38\n",
            "26.7    37\n",
            "27.6    37\n",
            "26.1    37\n",
            "        ..\n",
            "48.7     1\n",
            "49.2     1\n",
            "51.0     1\n",
            "49.4     1\n",
            "14.9     1\n",
            "Name: bmi, Length: 418, dtype: int64\n",
            "0    4860\n",
            "1     249\n",
            "Name: stroke, dtype: int64\n"
          ]
        }
      ],
      "source": [
        "#Check for numerical descrepencies\n",
        "for col in df.select_dtypes(include='number').columns:\n",
        "  print(df[col].value_counts())"
      ]
    },
    {
      "cell_type": "markdown",
      "metadata": {
        "id": "n7unlTY-1Dwn"
      },
      "source": [
        "**Interpretation**\n",
        "- Outliers in Age\n"
      ]
    },
    {
      "cell_type": "code",
      "execution_count": null,
      "metadata": {
        "colab": {
          "base_uri": "https://localhost:8080/",
          "height": 300
        },
        "id": "9f3Ht8pZ1Mfw",
        "outputId": "95029a34-7d1c-42ba-8157-769ec9c6a733"
      },
      "outputs": [
        {
          "output_type": "execute_result",
          "data": {
            "text/plain": [
              "               age  hypertension  heart_disease  avg_glucose_level  \\\n",
              "count  5109.000000   5109.000000    5109.000000        5109.000000   \n",
              "mean     43.229986      0.097475       0.054022         106.140399   \n",
              "std      22.613575      0.296633       0.226084          45.285004   \n",
              "min       0.080000      0.000000       0.000000          55.120000   \n",
              "25%      25.000000      0.000000       0.000000          77.240000   \n",
              "50%      45.000000      0.000000       0.000000          91.880000   \n",
              "75%      61.000000      0.000000       0.000000         114.090000   \n",
              "max      82.000000      1.000000       1.000000         271.740000   \n",
              "\n",
              "              bmi       stroke  \n",
              "count  4908.00000  5109.000000  \n",
              "mean     28.89456     0.048738  \n",
              "std       7.85432     0.215340  \n",
              "min      10.30000     0.000000  \n",
              "25%      23.50000     0.000000  \n",
              "50%      28.10000     0.000000  \n",
              "75%      33.10000     0.000000  \n",
              "max      97.60000     1.000000  "
            ],
            "text/html": [
              "\n",
              "  <div id=\"df-1e588d1f-ed07-41c6-b018-433387ac12f5\" class=\"colab-df-container\">\n",
              "    <div>\n",
              "<style scoped>\n",
              "    .dataframe tbody tr th:only-of-type {\n",
              "        vertical-align: middle;\n",
              "    }\n",
              "\n",
              "    .dataframe tbody tr th {\n",
              "        vertical-align: top;\n",
              "    }\n",
              "\n",
              "    .dataframe thead th {\n",
              "        text-align: right;\n",
              "    }\n",
              "</style>\n",
              "<table border=\"1\" class=\"dataframe\">\n",
              "  <thead>\n",
              "    <tr style=\"text-align: right;\">\n",
              "      <th></th>\n",
              "      <th>age</th>\n",
              "      <th>hypertension</th>\n",
              "      <th>heart_disease</th>\n",
              "      <th>avg_glucose_level</th>\n",
              "      <th>bmi</th>\n",
              "      <th>stroke</th>\n",
              "    </tr>\n",
              "  </thead>\n",
              "  <tbody>\n",
              "    <tr>\n",
              "      <th>count</th>\n",
              "      <td>5109.000000</td>\n",
              "      <td>5109.000000</td>\n",
              "      <td>5109.000000</td>\n",
              "      <td>5109.000000</td>\n",
              "      <td>4908.00000</td>\n",
              "      <td>5109.000000</td>\n",
              "    </tr>\n",
              "    <tr>\n",
              "      <th>mean</th>\n",
              "      <td>43.229986</td>\n",
              "      <td>0.097475</td>\n",
              "      <td>0.054022</td>\n",
              "      <td>106.140399</td>\n",
              "      <td>28.89456</td>\n",
              "      <td>0.048738</td>\n",
              "    </tr>\n",
              "    <tr>\n",
              "      <th>std</th>\n",
              "      <td>22.613575</td>\n",
              "      <td>0.296633</td>\n",
              "      <td>0.226084</td>\n",
              "      <td>45.285004</td>\n",
              "      <td>7.85432</td>\n",
              "      <td>0.215340</td>\n",
              "    </tr>\n",
              "    <tr>\n",
              "      <th>min</th>\n",
              "      <td>0.080000</td>\n",
              "      <td>0.000000</td>\n",
              "      <td>0.000000</td>\n",
              "      <td>55.120000</td>\n",
              "      <td>10.30000</td>\n",
              "      <td>0.000000</td>\n",
              "    </tr>\n",
              "    <tr>\n",
              "      <th>25%</th>\n",
              "      <td>25.000000</td>\n",
              "      <td>0.000000</td>\n",
              "      <td>0.000000</td>\n",
              "      <td>77.240000</td>\n",
              "      <td>23.50000</td>\n",
              "      <td>0.000000</td>\n",
              "    </tr>\n",
              "    <tr>\n",
              "      <th>50%</th>\n",
              "      <td>45.000000</td>\n",
              "      <td>0.000000</td>\n",
              "      <td>0.000000</td>\n",
              "      <td>91.880000</td>\n",
              "      <td>28.10000</td>\n",
              "      <td>0.000000</td>\n",
              "    </tr>\n",
              "    <tr>\n",
              "      <th>75%</th>\n",
              "      <td>61.000000</td>\n",
              "      <td>0.000000</td>\n",
              "      <td>0.000000</td>\n",
              "      <td>114.090000</td>\n",
              "      <td>33.10000</td>\n",
              "      <td>0.000000</td>\n",
              "    </tr>\n",
              "    <tr>\n",
              "      <th>max</th>\n",
              "      <td>82.000000</td>\n",
              "      <td>1.000000</td>\n",
              "      <td>1.000000</td>\n",
              "      <td>271.740000</td>\n",
              "      <td>97.60000</td>\n",
              "      <td>1.000000</td>\n",
              "    </tr>\n",
              "  </tbody>\n",
              "</table>\n",
              "</div>\n",
              "    <div class=\"colab-df-buttons\">\n",
              "\n",
              "  <div class=\"colab-df-container\">\n",
              "    <button class=\"colab-df-convert\" onclick=\"convertToInteractive('df-1e588d1f-ed07-41c6-b018-433387ac12f5')\"\n",
              "            title=\"Convert this dataframe to an interactive table.\"\n",
              "            style=\"display:none;\">\n",
              "\n",
              "  <svg xmlns=\"http://www.w3.org/2000/svg\" height=\"24px\" viewBox=\"0 -960 960 960\">\n",
              "    <path d=\"M120-120v-720h720v720H120Zm60-500h600v-160H180v160Zm220 220h160v-160H400v160Zm0 220h160v-160H400v160ZM180-400h160v-160H180v160Zm440 0h160v-160H620v160ZM180-180h160v-160H180v160Zm440 0h160v-160H620v160Z\"/>\n",
              "  </svg>\n",
              "    </button>\n",
              "\n",
              "  <style>\n",
              "    .colab-df-container {\n",
              "      display:flex;\n",
              "      gap: 12px;\n",
              "    }\n",
              "\n",
              "    .colab-df-convert {\n",
              "      background-color: #E8F0FE;\n",
              "      border: none;\n",
              "      border-radius: 50%;\n",
              "      cursor: pointer;\n",
              "      display: none;\n",
              "      fill: #1967D2;\n",
              "      height: 32px;\n",
              "      padding: 0 0 0 0;\n",
              "      width: 32px;\n",
              "    }\n",
              "\n",
              "    .colab-df-convert:hover {\n",
              "      background-color: #E2EBFA;\n",
              "      box-shadow: 0px 1px 2px rgba(60, 64, 67, 0.3), 0px 1px 3px 1px rgba(60, 64, 67, 0.15);\n",
              "      fill: #174EA6;\n",
              "    }\n",
              "\n",
              "    .colab-df-buttons div {\n",
              "      margin-bottom: 4px;\n",
              "    }\n",
              "\n",
              "    [theme=dark] .colab-df-convert {\n",
              "      background-color: #3B4455;\n",
              "      fill: #D2E3FC;\n",
              "    }\n",
              "\n",
              "    [theme=dark] .colab-df-convert:hover {\n",
              "      background-color: #434B5C;\n",
              "      box-shadow: 0px 1px 3px 1px rgba(0, 0, 0, 0.15);\n",
              "      filter: drop-shadow(0px 1px 2px rgba(0, 0, 0, 0.3));\n",
              "      fill: #FFFFFF;\n",
              "    }\n",
              "  </style>\n",
              "\n",
              "    <script>\n",
              "      const buttonEl =\n",
              "        document.querySelector('#df-1e588d1f-ed07-41c6-b018-433387ac12f5 button.colab-df-convert');\n",
              "      buttonEl.style.display =\n",
              "        google.colab.kernel.accessAllowed ? 'block' : 'none';\n",
              "\n",
              "      async function convertToInteractive(key) {\n",
              "        const element = document.querySelector('#df-1e588d1f-ed07-41c6-b018-433387ac12f5');\n",
              "        const dataTable =\n",
              "          await google.colab.kernel.invokeFunction('convertToInteractive',\n",
              "                                                    [key], {});\n",
              "        if (!dataTable) return;\n",
              "\n",
              "        const docLinkHtml = 'Like what you see? Visit the ' +\n",
              "          '<a target=\"_blank\" href=https://colab.research.google.com/notebooks/data_table.ipynb>data table notebook</a>'\n",
              "          + ' to learn more about interactive tables.';\n",
              "        element.innerHTML = '';\n",
              "        dataTable['output_type'] = 'display_data';\n",
              "        await google.colab.output.renderOutput(dataTable, element);\n",
              "        const docLink = document.createElement('div');\n",
              "        docLink.innerHTML = docLinkHtml;\n",
              "        element.appendChild(docLink);\n",
              "      }\n",
              "    </script>\n",
              "  </div>\n",
              "\n",
              "\n",
              "<div id=\"df-088a5817-6024-4e44-ae0c-5e603a7becdb\">\n",
              "  <button class=\"colab-df-quickchart\" onclick=\"quickchart('df-088a5817-6024-4e44-ae0c-5e603a7becdb')\"\n",
              "            title=\"Suggest charts.\"\n",
              "            style=\"display:none;\">\n",
              "\n",
              "<svg xmlns=\"http://www.w3.org/2000/svg\" height=\"24px\"viewBox=\"0 0 24 24\"\n",
              "     width=\"24px\">\n",
              "    <g>\n",
              "        <path d=\"M19 3H5c-1.1 0-2 .9-2 2v14c0 1.1.9 2 2 2h14c1.1 0 2-.9 2-2V5c0-1.1-.9-2-2-2zM9 17H7v-7h2v7zm4 0h-2V7h2v10zm4 0h-2v-4h2v4z\"/>\n",
              "    </g>\n",
              "</svg>\n",
              "  </button>\n",
              "\n",
              "<style>\n",
              "  .colab-df-quickchart {\n",
              "      --bg-color: #E8F0FE;\n",
              "      --fill-color: #1967D2;\n",
              "      --hover-bg-color: #E2EBFA;\n",
              "      --hover-fill-color: #174EA6;\n",
              "      --disabled-fill-color: #AAA;\n",
              "      --disabled-bg-color: #DDD;\n",
              "  }\n",
              "\n",
              "  [theme=dark] .colab-df-quickchart {\n",
              "      --bg-color: #3B4455;\n",
              "      --fill-color: #D2E3FC;\n",
              "      --hover-bg-color: #434B5C;\n",
              "      --hover-fill-color: #FFFFFF;\n",
              "      --disabled-bg-color: #3B4455;\n",
              "      --disabled-fill-color: #666;\n",
              "  }\n",
              "\n",
              "  .colab-df-quickchart {\n",
              "    background-color: var(--bg-color);\n",
              "    border: none;\n",
              "    border-radius: 50%;\n",
              "    cursor: pointer;\n",
              "    display: none;\n",
              "    fill: var(--fill-color);\n",
              "    height: 32px;\n",
              "    padding: 0;\n",
              "    width: 32px;\n",
              "  }\n",
              "\n",
              "  .colab-df-quickchart:hover {\n",
              "    background-color: var(--hover-bg-color);\n",
              "    box-shadow: 0 1px 2px rgba(60, 64, 67, 0.3), 0 1px 3px 1px rgba(60, 64, 67, 0.15);\n",
              "    fill: var(--button-hover-fill-color);\n",
              "  }\n",
              "\n",
              "  .colab-df-quickchart-complete:disabled,\n",
              "  .colab-df-quickchart-complete:disabled:hover {\n",
              "    background-color: var(--disabled-bg-color);\n",
              "    fill: var(--disabled-fill-color);\n",
              "    box-shadow: none;\n",
              "  }\n",
              "\n",
              "  .colab-df-spinner {\n",
              "    border: 2px solid var(--fill-color);\n",
              "    border-color: transparent;\n",
              "    border-bottom-color: var(--fill-color);\n",
              "    animation:\n",
              "      spin 1s steps(1) infinite;\n",
              "  }\n",
              "\n",
              "  @keyframes spin {\n",
              "    0% {\n",
              "      border-color: transparent;\n",
              "      border-bottom-color: var(--fill-color);\n",
              "      border-left-color: var(--fill-color);\n",
              "    }\n",
              "    20% {\n",
              "      border-color: transparent;\n",
              "      border-left-color: var(--fill-color);\n",
              "      border-top-color: var(--fill-color);\n",
              "    }\n",
              "    30% {\n",
              "      border-color: transparent;\n",
              "      border-left-color: var(--fill-color);\n",
              "      border-top-color: var(--fill-color);\n",
              "      border-right-color: var(--fill-color);\n",
              "    }\n",
              "    40% {\n",
              "      border-color: transparent;\n",
              "      border-right-color: var(--fill-color);\n",
              "      border-top-color: var(--fill-color);\n",
              "    }\n",
              "    60% {\n",
              "      border-color: transparent;\n",
              "      border-right-color: var(--fill-color);\n",
              "    }\n",
              "    80% {\n",
              "      border-color: transparent;\n",
              "      border-right-color: var(--fill-color);\n",
              "      border-bottom-color: var(--fill-color);\n",
              "    }\n",
              "    90% {\n",
              "      border-color: transparent;\n",
              "      border-bottom-color: var(--fill-color);\n",
              "    }\n",
              "  }\n",
              "</style>\n",
              "\n",
              "  <script>\n",
              "    async function quickchart(key) {\n",
              "      const quickchartButtonEl =\n",
              "        document.querySelector('#' + key + ' button');\n",
              "      quickchartButtonEl.disabled = true;  // To prevent multiple clicks.\n",
              "      quickchartButtonEl.classList.add('colab-df-spinner');\n",
              "      try {\n",
              "        const charts = await google.colab.kernel.invokeFunction(\n",
              "            'suggestCharts', [key], {});\n",
              "      } catch (error) {\n",
              "        console.error('Error during call to suggestCharts:', error);\n",
              "      }\n",
              "      quickchartButtonEl.classList.remove('colab-df-spinner');\n",
              "      quickchartButtonEl.classList.add('colab-df-quickchart-complete');\n",
              "    }\n",
              "    (() => {\n",
              "      let quickchartButtonEl =\n",
              "        document.querySelector('#df-088a5817-6024-4e44-ae0c-5e603a7becdb button');\n",
              "      quickchartButtonEl.style.display =\n",
              "        google.colab.kernel.accessAllowed ? 'block' : 'none';\n",
              "    })();\n",
              "  </script>\n",
              "</div>\n",
              "    </div>\n",
              "  </div>\n"
            ]
          },
          "metadata": {},
          "execution_count": 124
        }
      ],
      "source": [
        "#Check for outliers\n",
        "df.describe()"
      ]
    },
    {
      "cell_type": "markdown",
      "metadata": {
        "id": "gG5xjxQ-1otN"
      },
      "source": [
        "**Interpretation**\n",
        "- Outliers in Age confirmed"
      ]
    },
    {
      "cell_type": "code",
      "execution_count": null,
      "metadata": {
        "colab": {
          "base_uri": "https://localhost:8080/"
        },
        "id": "DcWt859y1Y3I",
        "outputId": "71912975-16a9-4981-838d-c31d655d71b6"
      },
      "outputs": [
        {
          "output_type": "stream",
          "name": "stdout",
          "text": [
            "<class 'pandas.core.frame.DataFrame'>\n",
            "Int64Index: 5109 entries, 0 to 5109\n",
            "Data columns (total 11 columns):\n",
            " #   Column             Non-Null Count  Dtype  \n",
            "---  ------             --------------  -----  \n",
            " 0   gender             5109 non-null   object \n",
            " 1   age                5109 non-null   float64\n",
            " 2   hypertension       5109 non-null   int64  \n",
            " 3   heart_disease      5109 non-null   int64  \n",
            " 4   ever_married       5109 non-null   object \n",
            " 5   work_type          5109 non-null   object \n",
            " 6   Residence_type     5109 non-null   object \n",
            " 7   avg_glucose_level  5109 non-null   float64\n",
            " 8   bmi                4908 non-null   float64\n",
            " 9   smoking_status     5109 non-null   object \n",
            " 10  stroke             5109 non-null   int64  \n",
            "dtypes: float64(3), int64(3), object(5)\n",
            "memory usage: 479.0+ KB\n"
          ]
        }
      ],
      "source": [
        "#Check info\n",
        "df.info()"
      ]
    },
    {
      "cell_type": "markdown",
      "metadata": {
        "id": "-1goZbOh1i0a"
      },
      "source": [
        "**Interpretation**\n",
        "- Missing values in BMI"
      ]
    },
    {
      "cell_type": "markdown",
      "metadata": {
        "id": "Tis363NN8Eu_"
      },
      "source": [
        "###Exploratory Data Analysis(EDA)"
      ]
    },
    {
      "cell_type": "markdown",
      "source": [
        "####Correlation"
      ],
      "metadata": {
        "id": "2HhqAS46-Ulk"
      }
    },
    {
      "cell_type": "code",
      "source": [
        "# Explore the relationships between variables witha correlation heatmap\n",
        "corr = df.corr()\n",
        "fig, ax = plt.subplots(figsize=(10,10))\n",
        "sns.heatmap(corr, annot = True);"
      ],
      "metadata": {
        "colab": {
          "base_uri": "https://localhost:8080/",
          "height": 1000
        },
        "id": "bR8SlksW8Jpq",
        "outputId": "91c6676c-2408-4385-8815-af865b9326fb"
      },
      "execution_count": null,
      "outputs": [
        {
          "output_type": "stream",
          "name": "stderr",
          "text": [
            "<ipython-input-126-9a1ef2c3dd86>:2: FutureWarning: The default value of numeric_only in DataFrame.corr is deprecated. In a future version, it will default to False. Select only valid columns or specify the value of numeric_only to silence this warning.\n",
            "  corr = df.corr()\n"
          ]
        },
        {
          "output_type": "display_data",
          "data": {
            "text/plain": [
              "<Figure size 1000x1000 with 2 Axes>"
            ],
            "image/png": "[encoded data removed]"
          },
          "metadata": {}
        }
      ]
    },
    {
      "cell_type": "markdown",
      "source": [
        "**Interpretation**\n",
        "- There is a strong positive correlation between bmi and age\n",
        "- There is a weak positive correlation between hypertension and heart disease\n",
        "- There is a strong positive correlation between hypertension and age\n"
      ],
      "metadata": {
        "id": "HsEv_JDY8VR_"
      }
    },
    {
      "cell_type": "markdown",
      "source": [
        "####Selected Visualisations"
      ],
      "metadata": {
        "id": "whCK9k8KOtHe"
      }
    },
    {
      "cell_type": "code",
      "source": [
        "# Using seaborn to plot the comparison\n",
        "ax = sns.barplot(data=df, x='smoking_status', y=\"stroke\")\n",
        "# Add title and labels\n",
        "ax.set_ylabel('Stroke')\n",
        "ax.set_xlabel(\"Smoking Status\");\n",
        "plt.title(f\"Smoking status vs stroke\", size=10, fontweight=\"black\");"
      ],
      "metadata": {
        "colab": {
          "base_uri": "https://localhost:8080/",
          "height": 469
        },
        "id": "kbKVAxOiNgLc",
        "outputId": "13be9c15-3588-4f8e-e2e2-98b6b2d6f767"
      },
      "execution_count": null,
      "outputs": [
        {
          "output_type": "display_data",
          "data": {
            "text/plain": [
              "<Figure size 640x480 with 1 Axes>"
            ],
            "image/png": "[encoded data removed]"
          },
          "metadata": {}
        }
      ]
    },
    {
      "cell_type": "markdown",
      "source": [
        "**Interpretation**\n",
        "- A person that smoked before is more likely to have a stroke\n",
        "- A person that did not smoke is less likely to have a stroke than a person that smokes"
      ],
      "metadata": {
        "id": "u3woUGnjNv4I"
      }
    },
    {
      "cell_type": "code",
      "source": [
        "# Using seaborn to plot the comparison\n",
        "ax = sns.barplot(data=df, x='ever_married', y=\"stroke\")\n",
        "# Add title and labels\n",
        "ax.set_ylabel('Stroke')\n",
        "ax.set_xlabel(\"Ever Married\");\n",
        "plt.title(f\"Ever Married vs stroke\", size=10, fontweight=\"black\");"
      ],
      "metadata": {
        "colab": {
          "base_uri": "https://localhost:8080/",
          "height": 469
        },
        "id": "D-Vr3W5lHEw4",
        "outputId": "98d2cd0d-1dde-4fef-e8be-d850401f93bb"
      },
      "execution_count": null,
      "outputs": [
        {
          "output_type": "display_data",
          "data": {
            "text/plain": [
              "<Figure size 640x480 with 1 Axes>"
            ],
            "image/png": "[encoded data removed]"
          },
          "metadata": {}
        }
      ]
    },
    {
      "cell_type": "markdown",
      "metadata": {
        "id": "Fyno8Wx0-qxU"
      },
      "source": [
        "**Interpretation**\n",
        "- The married people are more likely to suffer a stroke\n"
      ]
    },
    {
      "cell_type": "code",
      "source": [
        "# Using seaborn to plot the comparison\n",
        "ax = sns.barplot(data=df, x='work_type', y=\"stroke\")\n",
        "# Add title and labels\n",
        "ax.set_ylabel('Stroke')\n",
        "ax.set_xlabel(\"Type of work\");\n",
        "plt.title(f\"Type of work vs stroke\", size=10, fontweight=\"black\");"
      ],
      "metadata": {
        "colab": {
          "base_uri": "https://localhost:8080/",
          "height": 469
        },
        "id": "keJfBNQ5H5m_",
        "outputId": "0d474b46-7ad2-497d-cd7a-d10e01b73649"
      },
      "execution_count": null,
      "outputs": [
        {
          "output_type": "display_data",
          "data": {
            "text/plain": [
              "<Figure size 640x480 with 1 Axes>"
            ],
            "image/png": "[encoded data removed]"
          },
          "metadata": {}
        }
      ]
    },
    {
      "cell_type": "markdown",
      "source": [
        "**Interpretation**\n",
        "- Self employed people are more likely to suffer a stroke"
      ],
      "metadata": {
        "id": "Ta6uc-vWILyP"
      }
    }
  ],
  "metadata": {
    "colab": {
      "provenance": [],
      "toc_visible": true,
      "include_colab_link": true
    },
    "kernelspec": {
      "display_name": "Python 3 (ipykernel)",
      "language": "python",
      "name": "python3"
    },
    "language_info": {
      "codemirror_mode": {
        "name": "ipython",
        "version": 3
      },
      "file_extension": ".py",
      "mimetype": "text/x-python",
      "name": "python",
      "nbconvert_exporter": "python",
      "pygments_lexer": "ipython3",
      "version": "3.10.10"
    }
  },
  "nbformat": 4,
  "nbformat_minor": 0
}