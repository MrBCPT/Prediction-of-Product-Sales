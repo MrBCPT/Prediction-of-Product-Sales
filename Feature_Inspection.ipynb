{
  "nbformat": 4,
  "nbformat_minor": 0,
  "metadata": {
    "colab": {
      "provenance": [],
      "toc_visible": true,
      "include_colab_link": true
    },
    "kernelspec": {
      "name": "python3",
      "display_name": "Python 3"
    },
    "language_info": {
      "name": "python"
    }
  },
  "cells": [
    {
      "cell_type": "markdown",
      "metadata": {
        "id": "view-in-github",
        "colab_type": "text"
      },
      "source": [
        "<a href=\"https://colab.research.google.com/github/MrBCPT/Prediction-of-Product-Sales/blob/main/Feature_Inspection.ipynb\" target=\"_parent\"><img src=\"https://colab.research.google.com/assets/colab-badge.svg\" alt=\"Open In Colab\"/></a>"
      ]
    },
    {
      "cell_type": "markdown",
      "source": [
        "# [Starter Notebook] Feature Inspection Exercise (Practice)"
      ],
      "metadata": {
        "id": "QdqQelBwdHk8"
      }
    },
    {
      "cell_type": "markdown",
      "source": [
        "- Student Name:\n"
      ],
      "metadata": {
        "id": "x8WtghsfgdUK"
      }
    },
    {
      "cell_type": "markdown",
      "source": [
        "> This is a starter notebook for the Feature Inspection Exercise. Make sure to read the assignment instructions carefully before you start!"
      ],
      "metadata": {
        "id": "w3l8fQatgN_n"
      }
    },
    {
      "cell_type": "markdown",
      "source": [
        "## EDA Functions from Lessons"
      ],
      "metadata": {
        "id": "8_z-K9SoeiCm"
      }
    },
    {
      "cell_type": "markdown",
      "source": [
        "### Univariate EDA Functions"
      ],
      "metadata": {
        "id": "lsng7tQxelhG"
      }
    },
    {
      "cell_type": "code",
      "source": [
        "# Basic imports for functions\n",
        "import matplotlib.pyplot as plt\n",
        "import seaborn as sns\n",
        "\n",
        "# UNIVARIATE PLOTTING FUNCTIONS FOR EDA\n",
        "def explore_categorical(df, x, fillna = True, placeholder = 'MISSING',\n",
        "                        figsize = (6,4), order = None):\n",
        "  \"\"\"Creates a seaborn countplot with the option to temporarily fill missing values\n",
        "  Prints statements about null values, cardinality, and checks for\n",
        "  constant/quasi-constant features.\n",
        "  Source:{PASTE IN FINAL LESSON LINK}\n",
        "  \"\"\"\n",
        "  # Make a copy of the dataframe and fillna\n",
        "  temp_df = df.copy()\n",
        "  # Before filling nulls, save null value counts and percent for printing\n",
        "  null_count = temp_df[x].isna().sum()\n",
        "  null_perc = null_count/len(temp_df)* 100\n",
        "  # fillna with placeholder\n",
        "  if fillna == True:\n",
        "    temp_df[x] = temp_df[x].fillna(placeholder)\n",
        "  # Create figure with desired figsize\n",
        "  fig, ax = plt.subplots(figsize=figsize)\n",
        "  # Plotting a count plot\n",
        "  sns.countplot(data=temp_df, x=x, ax=ax, order=order)\n",
        "  # Rotate Tick Labels for long names\n",
        "  ax.set_xticklabels(ax.get_xticklabels(), rotation=45, ha='right')\n",
        "  # Add a title with the feature name included\n",
        "  ax.set_title(f\"Column: {x}\", fontweight='bold')\n",
        "\n",
        "  # Fix layout and show plot (before print statements)\n",
        "  fig.tight_layout()\n",
        "  plt.show()\n",
        "\n",
        "  # Print null value info\n",
        "  print(f\"- NaN's Found: {null_count} ({round(null_perc,2)}%)\")\n",
        "  # Print cardinality info\n",
        "  nunique = temp_df[x].nunique()\n",
        "  print(f\"- Unique Values: {nunique}\")\n",
        "\n",
        "  # First find value counts of feature\n",
        "  val_counts = temp_df[x].value_counts(dropna=False)\n",
        "  # Define the most common value\n",
        "  most_common_val = val_counts.index[0]\n",
        "  # Define the frequency of the most common value\n",
        "  freq = val_counts.values[0]\n",
        "  # Calculate the percentage of the most common value\n",
        "  perc_most_common = freq / len(temp_df) * 100\n",
        "\n",
        "  # Print the results\n",
        "  print(f\"- Most common value: '{most_common_val}' occurs {freq} times ({round(perc_most_common,2)}%)\")\n",
        "  # print message if quasi-constant or constant (most common val more than 98% of data)\n",
        "  if perc_most_common > 98:\n",
        "    print(f\"\\n- [!] Warning: '{x}' is a constant or quasi-constant feature and should be dropped.\")\n",
        "  else:\n",
        "    print(\"- Not constant or quasi-constant.\")\n",
        "  return fig, ax\n",
        "\n",
        "\n",
        "def explore_numeric(df, x, figsize=(6,5) ):\n",
        "  \"\"\"Creates a seaborn histplot and boxplot with a share x-axis,\n",
        "  Prints statements about null values, cardinality, and checks for\n",
        "  constant/quasi-constant features.\n",
        "  Source:{PASTE IN FINAL LESSON LINK}\n",
        "  \"\"\"\n",
        "\n",
        "  ## Save null value counts and percent for printing\n",
        "  null_count = df[x].isna().sum()\n",
        "  null_perc = null_count/len(df)* 100\n",
        "\n",
        "\n",
        "  ## Making our figure with gridspec for subplots\n",
        "  gridspec = {'height_ratios':[0.7,0.3]}\n",
        "  fig, axes = plt.subplots(nrows=2, figsize=figsize,\n",
        "                           sharex=True, gridspec_kw=gridspec)\n",
        "  # Histogram on Top\n",
        "  sns.histplot(data=df, x=x, ax=axes[0])\n",
        "\n",
        "  # Boxplot on Bottom\n",
        "  sns.boxplot(data=df, x=x, ax=axes[1])\n",
        "\n",
        "  ## Adding a title\n",
        "  axes[0].set_title(f\"Column: {x}\", fontweight='bold')\n",
        "\n",
        "  ## Adjusting subplots to best fill Figure\n",
        "  fig.tight_layout()\n",
        "\n",
        "  # Ensure plot is shown before message\n",
        "  plt.show()\n",
        "\n",
        "\n",
        "  # Print null value info\n",
        "  print(f\"- NaN's Found: {null_count} ({round(null_perc,2)}%)\")\n",
        "  # Print cardinality info\n",
        "  nunique = df[x].nunique()\n",
        "  print(f\"- Unique Values: {nunique}\")\n",
        "\n",
        "\n",
        "  # Get the most most common value, its count as # and as %\n",
        "  most_common_val_count = df[x].value_counts(dropna=False).head(1)\n",
        "  most_common_val = most_common_val_count.index[0]\n",
        "  freq = most_common_val_count.values[0]\n",
        "  perc_most_common = freq / len(df) * 100\n",
        "\n",
        "  print(f\"- Most common value: '{most_common_val}' occurs {freq} times ({round(perc_most_common,2)}%)\")\n",
        "\n",
        "  # print message if quasi-constant or constant (most common val more than 98% of data)\n",
        "  if perc_most_common > 98:\n",
        "    print(f\"\\n- [!] Warning: '{x}' is a constant or quasi-constant feature and should be dropped.\")\n",
        "  else:\n",
        "    print(\"- Not constant or quasi-constant.\")\n",
        "  return fig, axes\n",
        ""
      ],
      "metadata": {
        "id": "MpERWZ3we2ny"
      },
      "execution_count": null,
      "outputs": []
    },
    {
      "cell_type": "markdown",
      "source": [
        "### Multivariate Feature vs. Target Functions."
      ],
      "metadata": {
        "id": "J9y4NiACesSa"
      }
    },
    {
      "cell_type": "code",
      "source": [
        "\"\"\"MULTIVARIATE PLOTTING FUNCTIONS VS. NUMERIC TARGET\"\"\"\n",
        "\n",
        "def plot_categorical_vs_target(df, x, y='charges',figsize=(6,4),\n",
        "                            fillna = True, placeholder = 'MISSING',\n",
        "                            order = None):\n",
        "  \"\"\"Plots a combination of a seaborn barplot of means combined with\n",
        "  a seaborn stripplot to show the spread of the data.\n",
        "  Source:{PASTE IN FINAL LESSON LINK}\n",
        "  \"\"\"\n",
        "  # Make a copy of the dataframe and fillna\n",
        "  temp_df = df.copy()\n",
        "  # fillna with placeholder\n",
        "  if fillna == True:\n",
        "    temp_df[x] = temp_df[x].fillna(placeholder)\n",
        "\n",
        "  # or drop nulls prevent unwanted 'nan' group in stripplot\n",
        "  else:\n",
        "    temp_df = temp_df.dropna(subset=[x])\n",
        "  # Create the figure and subplots\n",
        "  fig, ax = plt.subplots(figsize=figsize)\n",
        "\n",
        "    # Barplot\n",
        "  sns.barplot(data=temp_df, x=x, y=y, ax=ax, order=order, alpha=0.6,\n",
        "              linewidth=1, edgecolor='black', errorbar=None)\n",
        "\n",
        "  # Boxplot\n",
        "  sns.stripplot(data=temp_df, x=x, y=y, hue=x, ax=ax,\n",
        "                order=order, hue_order=order, legend=False,\n",
        "                edgecolor='white', linewidth=0.5,\n",
        "                size=3,zorder=0)\n",
        "  # Rotate xlabels\n",
        "  ax.set_xticklabels(ax.get_xticklabels(), rotation=45, ha='right')\n",
        "\n",
        "  # Add a title\n",
        "  ax.set_title(f\"{x} vs. {y}\", fontweight='bold')\n",
        "  fig.tight_layout()\n",
        "  return fig, ax\n",
        "\n",
        "\n",
        "def plot_numeric_vs_target(df, x, y='charges',\n",
        "                           figsize=(6,4)):\n",
        "  \"\"\"Plots a seaborn regplot with Pearson's correlation (r) added\n",
        "  to the title.\n",
        "  Source:{PASTE IN FINAL LESSON LINK}\n",
        "  \"\"\"\n",
        "  # Calculate the correlation\n",
        "  corr = df[[x,y]].corr().round(2)\n",
        "  r = corr.loc[x,y]\n",
        "\n",
        "  # Plot the data\n",
        "  fig, ax = plt.subplots(figsize=figsize)\n",
        "  scatter_kws={'ec':'white','lw':1,'alpha':0.8}\n",
        "  sns.regplot(data=df, x=x, y=y, ax=ax, scatter_kws=scatter_kws)\n",
        "\n",
        "  ## Add the title with the correlation\n",
        "  ax.set_title(f\"{x} vs. {y} (r = {r})\", fontweight='bold')\n",
        "\n",
        "  # Make sure the plot is shown before the print statement\n",
        "  plt.show()\n",
        "\n",
        "  return fig, ax"
      ],
      "metadata": {
        "id": "Oc90HYFpehRE"
      },
      "execution_count": null,
      "outputs": []
    },
    {
      "cell_type": "markdown",
      "source": [
        "# Your Work Here:"
      ],
      "metadata": {
        "id": "fb_drsx1gq6G"
      }
    },
    {
      "cell_type": "markdown",
      "source": [
        "## Import Packages and Load Data"
      ],
      "metadata": {
        "id": "lLoNSpsthh8E"
      }
    },
    {
      "cell_type": "markdown",
      "source": [
        "> Add as many code cells as you need!"
      ],
      "metadata": {
        "id": "23Q7bTQdhkvc"
      }
    },
    {
      "cell_type": "code",
      "source": [
        "# imports\n"
      ],
      "metadata": {
        "id": "0wp_GTUng0El"
      },
      "execution_count": null,
      "outputs": []
    },
    {
      "cell_type": "markdown",
      "source": [
        "## Answer the following questions:\n",
        "\n",
        "- Define your target column:\n",
        "  - ...\n",
        "- Is this a classification or regression task?\n",
        "  - ..."
      ],
      "metadata": {
        "id": "5F4g0IBBfB0E"
      }
    },
    {
      "cell_type": "markdown",
      "source": [
        "## Inspecting Each Feature"
      ],
      "metadata": {
        "id": "nEwJ4TCefJoS"
      }
    },
    {
      "cell_type": "markdown",
      "source": [
        ">Tip: You will need to make a copy of the example cells below for every feature in the dataset.\n",
        "- To make this easier you can copy and paste the template cells:\n",
        "  - First, click on the example feature header cell below\n",
        "    - Hold down the shift key while you scrol down to the last cell\n",
        "    - While holding the shift key, left-click on the final cell at the bottom.\n",
        "      - It should highlight all 7 cells at once.\n",
        "  - Then Right-click and select \"Copy Cells\" to copy them.\n",
        "  - To paste them, you must use the keyboard shortcut (Control + V on windows, Cmd + V) on Mac.\n"
      ],
      "metadata": {
        "id": "Qu6l8DFchogZ"
      }
    },
    {
      "cell_type": "markdown",
      "source": [
        "### Example: {Feature Name}"
      ],
      "metadata": {
        "id": "g3hIxO_2fKSB"
      }
    },
    {
      "cell_type": "markdown",
      "source": [
        "- Feature Name: definition from data dictionary.\n",
        "  - Category defintions (if categorical)\n",
        "  "
      ],
      "metadata": {
        "id": "QZemTBL6A3xf"
      }
    },
    {
      "cell_type": "code",
      "source": [
        "# # Confirming the dtype to select correct EDA function\n",
        "# feature = \"\"\n",
        "# df[feature].dtype"
      ],
      "metadata": {
        "id": "YbyXNNMdMDCI"
      },
      "execution_count": null,
      "outputs": []
    },
    {
      "cell_type": "code",
      "source": [
        "# run the appropriate explore function (based on feature's dtype)\n"
      ],
      "metadata": {
        "id": "VmlD7vozMDCR"
      },
      "execution_count": null,
      "outputs": []
    },
    {
      "cell_type": "markdown",
      "source": [
        "**Feature Observations**\n",
        "\n",
        "1. What type of feature is it? (Categorical (nominal), ordinal, numeric)\n",
        "  - ...\n",
        "\n",
        "2. How many null values? What percentage? What would you do with the null values (drop the rows? drop the column? impute? if impute, with what?)\n",
        "  - ...\n",
        "\n",
        "3. Is the feature constant or quasi-constant?\n",
        "  - ...\n",
        "\n",
        "4. What is the cardinality? Is it high?\n",
        "  - ...\n",
        "\n",
        "5. Would we know this BEFORE the target is determined?\n",
        "  - ...\n",
        "\n",
        "6. Is there a business case/understanding reason to exclude based on our business case?\n",
        "  - ...\n",
        "\n"
      ],
      "metadata": {
        "id": "1lhqznMSMDCR"
      }
    },
    {
      "cell_type": "code",
      "source": [
        "# Run the appropriate feature vs. target function (based on dtype)\n"
      ],
      "metadata": {
        "id": "vK76Ri60MDCR"
      },
      "execution_count": null,
      "outputs": []
    },
    {
      "cell_type": "markdown",
      "source": [
        "- Feature vs. Target Observations:\n",
        "  - Based on your business understanding, would you expect this feature to be a predictor of the target?\n",
        "    - `...`?\n",
        "  - Does this feature appear to be a predictor of the target?\n",
        "    - `...` ?\n",
        "\n",
        "___"
      ],
      "metadata": {
        "id": "Zs5ZcvkDL1r7"
      }
    },
    {
      "cell_type": "code",
      "source": [],
      "metadata": {
        "id": "nlHV4X35fCzR"
      },
      "execution_count": null,
      "outputs": []
    }
  ]
}